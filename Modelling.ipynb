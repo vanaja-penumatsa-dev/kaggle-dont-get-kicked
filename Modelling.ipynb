{
  "nbformat": 4,
  "nbformat_minor": 0,
  "metadata": {
    "colab": {
      "name": "Modelling.ipynb",
      "provenance": [],
      "authorship_tag": "ABX9TyP8RWwMnYd7uDynh10cO4aA",
      "include_colab_link": true
    },
    "kernelspec": {
      "name": "python3",
      "display_name": "Python 3"
    },
    "language_info": {
      "name": "python"
    }
  },
  "cells": [
    {
      "cell_type": "markdown",
      "metadata": {
        "id": "view-in-github",
        "colab_type": "text"
      },
      "source": [
        "<a href=\"https://colab.research.google.com/github/vanaja-penumatsa-dev/kaggle-dont-get-kicked/blob/main/Modelling.ipynb\" target=\"_parent\"><img src=\"https://colab.research.google.com/assets/colab-badge.svg\" alt=\"Open In Colab\"/></a>"
      ]
    },
    {
      "cell_type": "code",
      "metadata": {
        "colab": {
          "base_uri": "https://localhost:8080/"
        },
        "id": "1OTSTfll1btZ",
        "outputId": "285e0efd-9824-4ee8-e7e4-5e87a09cc84d"
      },
      "source": [
        "from google.colab import drive\n",
        "drive.mount('/content/drive')\n",
        "DPATH = '/content/drive/MyDrive/apporchid/data/'"
      ],
      "execution_count": null,
      "outputs": [
        {
          "output_type": "stream",
          "name": "stdout",
          "text": [
            "Drive already mounted at /content/drive; to attempt to forcibly remount, call drive.mount(\"/content/drive\", force_remount=True).\n"
          ]
        }
      ]
    },
    {
      "cell_type": "code",
      "metadata": {
        "id": "nxABlAHP1wdT"
      },
      "source": [
        "import pandas as pd\n",
        "\n",
        "train = pd.read_csv(DPATH+'train_preprocess.csv')\n",
        "test = pd.read_csv(DPATH+'test_preprocess.csv')"
      ],
      "execution_count": null,
      "outputs": []
    },
    {
      "cell_type": "code",
      "metadata": {
        "colab": {
          "base_uri": "https://localhost:8080/"
        },
        "id": "2zKnkEmV1wf-",
        "outputId": "73e8bb29-13ea-4d5d-cb88-cda9009df62e"
      },
      "source": [
        "train['IsBadBuy'].value_counts()"
      ],
      "execution_count": null,
      "outputs": [
        {
          "output_type": "execute_result",
          "data": {
            "text/plain": [
              "0    64005\n",
              "1     8976\n",
              "Name: IsBadBuy, dtype: int64"
            ]
          },
          "metadata": {},
          "execution_count": 21
        }
      ]
    },
    {
      "cell_type": "markdown",
      "metadata": {
        "id": "o1XTeLdI2B3u"
      },
      "source": [
        "**Observation**\n",
        "\n",
        "*   Highy imbalanced dataset\n",
        "*   Any model must perform better than a random model with accuracy 87%."
      ]
    },
    {
      "cell_type": "markdown",
      "metadata": {
        "id": "j4eFiI6P2FMF"
      },
      "source": [
        "<h1>Choosing performance metric</h2>\n",
        "\n",
        "\n",
        "\n",
        "*   Since we have an imbalanced dataset, accuracy is not the right metric to model\n",
        "*   We can go for F1-score/aucroc\n",
        "*   For this particular problem we want avoid classifying a BadBuy(1) as GoodBuy(0) ie., FN - recall\n",
        "*   We can use weighted F1 score variation, ie., F-Beta score where we can adjust weights of precisiona and recall.\n",
        "\n",
        "\n",
        "\n"
      ]
    },
    {
      "cell_type": "markdown",
      "metadata": {
        "id": "VW-upXDXi3Uf"
      },
      "source": [
        "<h1>1. Data Postprocessing</h1>"
      ]
    },
    {
      "cell_type": "code",
      "metadata": {
        "colab": {
          "base_uri": "https://localhost:8080/",
          "height": 377
        },
        "id": "iylwxriylnfn",
        "outputId": "a73ada6e-6ec2-433b-8924-a53a7402aedf"
      },
      "source": [
        "train.head()"
      ],
      "execution_count": null,
      "outputs": [
        {
          "output_type": "execute_result",
          "data": {
            "text/html": [
              "<div>\n",
              "<style scoped>\n",
              "    .dataframe tbody tr th:only-of-type {\n",
              "        vertical-align: middle;\n",
              "    }\n",
              "\n",
              "    .dataframe tbody tr th {\n",
              "        vertical-align: top;\n",
              "    }\n",
              "\n",
              "    .dataframe thead th {\n",
              "        text-align: right;\n",
              "    }\n",
              "</style>\n",
              "<table border=\"1\" class=\"dataframe\">\n",
              "  <thead>\n",
              "    <tr style=\"text-align: right;\">\n",
              "      <th></th>\n",
              "      <th>IsBadBuy</th>\n",
              "      <th>Auction</th>\n",
              "      <th>VehYear</th>\n",
              "      <th>VehicleAge</th>\n",
              "      <th>Make</th>\n",
              "      <th>Model</th>\n",
              "      <th>Trim</th>\n",
              "      <th>SubModel</th>\n",
              "      <th>Color</th>\n",
              "      <th>Transmission</th>\n",
              "      <th>WheelTypeID</th>\n",
              "      <th>WheelType</th>\n",
              "      <th>VehOdo</th>\n",
              "      <th>Nationality</th>\n",
              "      <th>Size</th>\n",
              "      <th>TopThreeAmericanName</th>\n",
              "      <th>MMRAcquisitionAuctionAveragePrice</th>\n",
              "      <th>MMRAcquisitionAuctionCleanPrice</th>\n",
              "      <th>MMRAcquisitionRetailAveragePrice</th>\n",
              "      <th>MMRAcquisitonRetailCleanPrice</th>\n",
              "      <th>MMRCurrentAuctionAveragePrice</th>\n",
              "      <th>MMRCurrentAuctionCleanPrice</th>\n",
              "      <th>MMRCurrentRetailAveragePrice</th>\n",
              "      <th>MMRCurrentRetailCleanPrice</th>\n",
              "      <th>PRIMEUNIT</th>\n",
              "      <th>AUCGUART</th>\n",
              "      <th>BYRNO</th>\n",
              "      <th>VNZIP1</th>\n",
              "      <th>VNST</th>\n",
              "      <th>VehBCost</th>\n",
              "      <th>IsOnlineSale</th>\n",
              "      <th>WarrantyCost</th>\n",
              "      <th>quality</th>\n",
              "      <th>month</th>\n",
              "      <th>WC_Perc</th>\n",
              "    </tr>\n",
              "  </thead>\n",
              "  <tbody>\n",
              "    <tr>\n",
              "      <th>0</th>\n",
              "      <td>0</td>\n",
              "      <td>ADESA</td>\n",
              "      <td>2006</td>\n",
              "      <td>3</td>\n",
              "      <td>MAZDA</td>\n",
              "      <td>MAZDA3</td>\n",
              "      <td>i</td>\n",
              "      <td>4D SEDAN I</td>\n",
              "      <td>RED</td>\n",
              "      <td>AUTO</td>\n",
              "      <td>1.0</td>\n",
              "      <td>Alloy</td>\n",
              "      <td>29682.00</td>\n",
              "      <td>OTHER ASIAN</td>\n",
              "      <td>MEDIUM</td>\n",
              "      <td>OTHER</td>\n",
              "      <td>8155.0</td>\n",
              "      <td>9829.0</td>\n",
              "      <td>11636.0</td>\n",
              "      <td>13600.0</td>\n",
              "      <td>7451.0</td>\n",
              "      <td>8552.0</td>\n",
              "      <td>11597.0</td>\n",
              "      <td>12409.0</td>\n",
              "      <td>NO</td>\n",
              "      <td>Other</td>\n",
              "      <td>21973</td>\n",
              "      <td>33619</td>\n",
              "      <td>FL</td>\n",
              "      <td>7100.0</td>\n",
              "      <td>0</td>\n",
              "      <td>1113</td>\n",
              "      <td>Below Avg</td>\n",
              "      <td>12</td>\n",
              "      <td>19.137466</td>\n",
              "    </tr>\n",
              "    <tr>\n",
              "      <th>1</th>\n",
              "      <td>0</td>\n",
              "      <td>ADESA</td>\n",
              "      <td>2004</td>\n",
              "      <td>5</td>\n",
              "      <td>DODGE</td>\n",
              "      <td>1500 RAM PICKUP 2WD</td>\n",
              "      <td>ST</td>\n",
              "      <td>QUAD CAB 4.7L SLT</td>\n",
              "      <td>WHITE</td>\n",
              "      <td>AUTO</td>\n",
              "      <td>1.0</td>\n",
              "      <td>Alloy</td>\n",
              "      <td>18718.60</td>\n",
              "      <td>AMERICAN</td>\n",
              "      <td>LARGE TRUCK</td>\n",
              "      <td>CHRYSLER</td>\n",
              "      <td>6854.0</td>\n",
              "      <td>8383.0</td>\n",
              "      <td>10897.0</td>\n",
              "      <td>12572.0</td>\n",
              "      <td>7456.0</td>\n",
              "      <td>9222.0</td>\n",
              "      <td>11374.0</td>\n",
              "      <td>12791.0</td>\n",
              "      <td>NO</td>\n",
              "      <td>Other</td>\n",
              "      <td>19638</td>\n",
              "      <td>33619</td>\n",
              "      <td>FL</td>\n",
              "      <td>7600.0</td>\n",
              "      <td>0</td>\n",
              "      <td>1053</td>\n",
              "      <td>Avg</td>\n",
              "      <td>12</td>\n",
              "      <td>21.652422</td>\n",
              "    </tr>\n",
              "    <tr>\n",
              "      <th>2</th>\n",
              "      <td>0</td>\n",
              "      <td>ADESA</td>\n",
              "      <td>2005</td>\n",
              "      <td>4</td>\n",
              "      <td>DODGE</td>\n",
              "      <td>STRATUS V6</td>\n",
              "      <td>SXT</td>\n",
              "      <td>4D SEDAN SXT FFV</td>\n",
              "      <td>MAROON</td>\n",
              "      <td>AUTO</td>\n",
              "      <td>2.0</td>\n",
              "      <td>Covers</td>\n",
              "      <td>18451.75</td>\n",
              "      <td>AMERICAN</td>\n",
              "      <td>MEDIUM</td>\n",
              "      <td>CHRYSLER</td>\n",
              "      <td>3202.0</td>\n",
              "      <td>4760.0</td>\n",
              "      <td>6943.0</td>\n",
              "      <td>8457.0</td>\n",
              "      <td>4035.0</td>\n",
              "      <td>5557.0</td>\n",
              "      <td>7146.0</td>\n",
              "      <td>8702.0</td>\n",
              "      <td>NO</td>\n",
              "      <td>Other</td>\n",
              "      <td>19638</td>\n",
              "      <td>33619</td>\n",
              "      <td>FL</td>\n",
              "      <td>4900.0</td>\n",
              "      <td>0</td>\n",
              "      <td>1389</td>\n",
              "      <td>Above Avg</td>\n",
              "      <td>12</td>\n",
              "      <td>10.583153</td>\n",
              "    </tr>\n",
              "    <tr>\n",
              "      <th>3</th>\n",
              "      <td>0</td>\n",
              "      <td>ADESA</td>\n",
              "      <td>2004</td>\n",
              "      <td>5</td>\n",
              "      <td>DODGE</td>\n",
              "      <td>NEON</td>\n",
              "      <td>SXT</td>\n",
              "      <td>4D SEDAN</td>\n",
              "      <td>SILVER</td>\n",
              "      <td>AUTO</td>\n",
              "      <td>1.0</td>\n",
              "      <td>Alloy</td>\n",
              "      <td>13123.40</td>\n",
              "      <td>AMERICAN</td>\n",
              "      <td>COMPACT</td>\n",
              "      <td>CHRYSLER</td>\n",
              "      <td>1893.0</td>\n",
              "      <td>2675.0</td>\n",
              "      <td>4658.0</td>\n",
              "      <td>5690.0</td>\n",
              "      <td>1844.0</td>\n",
              "      <td>2646.0</td>\n",
              "      <td>4375.0</td>\n",
              "      <td>5518.0</td>\n",
              "      <td>NO</td>\n",
              "      <td>Other</td>\n",
              "      <td>19638</td>\n",
              "      <td>33619</td>\n",
              "      <td>FL</td>\n",
              "      <td>4100.0</td>\n",
              "      <td>0</td>\n",
              "      <td>630</td>\n",
              "      <td>Above Avg</td>\n",
              "      <td>12</td>\n",
              "      <td>19.523810</td>\n",
              "    </tr>\n",
              "    <tr>\n",
              "      <th>4</th>\n",
              "      <td>0</td>\n",
              "      <td>ADESA</td>\n",
              "      <td>2005</td>\n",
              "      <td>4</td>\n",
              "      <td>FORD</td>\n",
              "      <td>FOCUS</td>\n",
              "      <td>ZX3</td>\n",
              "      <td>2D COUPE ZX3</td>\n",
              "      <td>SILVER</td>\n",
              "      <td>MANUAL</td>\n",
              "      <td>2.0</td>\n",
              "      <td>Covers</td>\n",
              "      <td>17341.75</td>\n",
              "      <td>AMERICAN</td>\n",
              "      <td>COMPACT</td>\n",
              "      <td>FORD</td>\n",
              "      <td>3913.0</td>\n",
              "      <td>5054.0</td>\n",
              "      <td>7723.0</td>\n",
              "      <td>8707.0</td>\n",
              "      <td>3247.0</td>\n",
              "      <td>4384.0</td>\n",
              "      <td>6739.0</td>\n",
              "      <td>7911.0</td>\n",
              "      <td>NO</td>\n",
              "      <td>Other</td>\n",
              "      <td>19638</td>\n",
              "      <td>33619</td>\n",
              "      <td>FL</td>\n",
              "      <td>4000.0</td>\n",
              "      <td>0</td>\n",
              "      <td>1020</td>\n",
              "      <td>Avg</td>\n",
              "      <td>12</td>\n",
              "      <td>11.764706</td>\n",
              "    </tr>\n",
              "  </tbody>\n",
              "</table>\n",
              "</div>"
            ],
            "text/plain": [
              "   IsBadBuy Auction  VehYear  ...    quality month    WC_Perc\n",
              "0         0   ADESA     2006  ...  Below Avg    12  19.137466\n",
              "1         0   ADESA     2004  ...        Avg    12  21.652422\n",
              "2         0   ADESA     2005  ...  Above Avg    12  10.583153\n",
              "3         0   ADESA     2004  ...  Above Avg    12  19.523810\n",
              "4         0   ADESA     2005  ...        Avg    12  11.764706\n",
              "\n",
              "[5 rows x 35 columns]"
            ]
          },
          "metadata": {},
          "execution_count": 7
        }
      ]
    },
    {
      "cell_type": "code",
      "metadata": {
        "id": "pIXC8H1VlhM-"
      },
      "source": [
        "cat_cols = ['Auction', 'VehYear', 'Make', 'Model', 'Trim', 'SubModel', 'Color', 'Transmission', 'WheelTypeID', 'WheelType', \\\n",
        "              'Nationality', 'Size', 'TopThreeAmericanName', 'PRIMEUNIT', 'AUCGUART', 'BYRNO', 'VNZIP1', 'VNST', 'IsOnlineSale', 'month', 'quality']\n",
        "num_cols = ['VehicleAge', 'VehOdo', 'MMRAcquisitionAuctionAveragePrice', 'MMRAcquisitionAuctionCleanPrice', 'MMRAcquisitionRetailAveragePrice', \\\n",
        "                'MMRAcquisitonRetailCleanPrice', 'MMRCurrentAuctionAveragePrice', 'MMRCurrentAuctionCleanPrice', \\\n",
        "                'MMRCurrentRetailAveragePrice', 'MMRCurrentRetailCleanPrice', 'VehBCost', 'WarrantyCost', 'WC_Perc']"
      ],
      "execution_count": null,
      "outputs": []
    },
    {
      "cell_type": "code",
      "metadata": {
        "id": "BZYdJEmo9fWy"
      },
      "source": [
        "assert len(cat_cols) + len(num_cols) == train.shape[1]-1"
      ],
      "execution_count": null,
      "outputs": []
    },
    {
      "cell_type": "code",
      "metadata": {
        "id": "2O-mSiW81wlj"
      },
      "source": [
        "y = train['IsBadBuy'].values\n",
        "X = train.drop(['IsBadBuy'],axis=1)\n",
        "X_test = test\n",
        "\n",
        "from sklearn.model_selection import train_test_split\n",
        "X_train, X_valid, y_train, y_valid = train_test_split(X, y, test_size=0.2, random_state=42, stratify=y)"
      ],
      "execution_count": null,
      "outputs": []
    },
    {
      "cell_type": "code",
      "metadata": {
        "colab": {
          "base_uri": "https://localhost:8080/"
        },
        "id": "kHPUF7mGB2Pi",
        "outputId": "f25fc835-03e2-44f5-9df6-219bb604abf8"
      },
      "source": [
        "X_train.shape, y_train.shape, X_valid.shape, y_valid.shape, X_test.shape"
      ],
      "execution_count": null,
      "outputs": [
        {
          "output_type": "execute_result",
          "data": {
            "text/plain": [
              "((58384, 34), (58384,), (14597, 34), (14597,), (48707, 35))"
            ]
          },
          "metadata": {},
          "execution_count": 24
        }
      ]
    },
    {
      "cell_type": "markdown",
      "metadata": {
        "id": "CDDTvXPUrrF0"
      },
      "source": [
        "<h2>1a) Standardising numerical features</h2>"
      ]
    },
    {
      "cell_type": "code",
      "metadata": {
        "id": "5mIveKPM1woG"
      },
      "source": [
        "from sklearn.preprocessing import StandardScaler\n",
        "import numpy as np\n",
        "\n",
        "def numeric_postprocess(X_train_post, X_valid_post, X_test_post):\n",
        "    \n",
        "    for col in num_cols:\n",
        "        scaler = StandardScaler()\n",
        "        scaler.fit(X_train[col].values.reshape(-1,1))\n",
        "        X_train_post = np.append(X_train_post, scaler.transform(X_train[col].values.reshape(-1,1)), axis=1)\n",
        "        X_valid_post = np.append(X_valid_post, scaler.transform(X_valid[col].values.reshape(-1,1)), axis=1)\n",
        "        X_test_post = np.append(X_test_post, scaler.transform(X_test[col].values.reshape(-1,1)), axis=1)\n",
        "    return X_train_post, X_valid_post, X_test_post"
      ],
      "execution_count": null,
      "outputs": []
    },
    {
      "cell_type": "markdown",
      "metadata": {
        "id": "TTzdnaPtvCBp"
      },
      "source": [
        "<h2>1b) Encoding categorical features</h2>\n",
        "\n",
        "\n",
        "\n",
        "*   Iam using **target encoding** to encode categorical features as few features has two many values so, we cant use one-hot encoding and they dont have any ordinal relationaship to use Label encoding\n",
        "*   **target encoding** gives a numerical posterior  probability value based on taret variable.\n",
        "\n"
      ]
    },
    {
      "cell_type": "code",
      "metadata": {
        "id": "RImNjJHw1wq1"
      },
      "source": [
        "from target_encoder import TargetEncoder\n",
        "\n",
        "def categoric_postprocess():\n",
        "\n",
        "    encoder = TargetEncoder(cat_cols)\n",
        "    encoder.fit(X_train[cat_cols], y_train)\n",
        "    X_train_post = encoder.transform(X_train[cat_cols])\n",
        "    X_valid_post = encoder.transform(X_valid[cat_cols])\n",
        "    X_test_post = encoder.transform(X_test[cat_cols])\n",
        "    return X_train_post, X_valid_post, X_test_post"
      ],
      "execution_count": null,
      "outputs": []
    },
    {
      "cell_type": "code",
      "metadata": {
        "id": "ZY126k2P1wtc"
      },
      "source": [
        "X_train_post, X_valid_post, X_test_post = categoric_postprocess()\n",
        "X_train_post, X_valid_post, X_test_post = numeric_postprocess(X_train_post, X_valid_post, X_test_post)"
      ],
      "execution_count": null,
      "outputs": []
    },
    {
      "cell_type": "code",
      "metadata": {
        "colab": {
          "base_uri": "https://localhost:8080/"
        },
        "id": "FclEbhqII5F0",
        "outputId": "b22c1179-41ee-4acb-bb45-7cfb2c945436"
      },
      "source": [
        "X_train_post.shape, X_valid_post.shape, X_test_post.shape"
      ],
      "execution_count": null,
      "outputs": [
        {
          "output_type": "execute_result",
          "data": {
            "text/plain": [
              "((58384, 34), (14597, 34), (48707, 34))"
            ]
          },
          "metadata": {},
          "execution_count": 39
        }
      ]
    },
    {
      "cell_type": "markdown",
      "metadata": {
        "id": "J6SkLGePDr5n"
      },
      "source": [
        "<h1>Model1. Kernel-SVM</h1>"
      ]
    },
    {
      "cell_type": "code",
      "metadata": {
        "colab": {
          "base_uri": "https://localhost:8080/"
        },
        "id": "HHD6cxOlFCeF",
        "outputId": "ec40e7c8-b150-4fcf-e9be-0e17d6dab150"
      },
      "source": [
        "from sklearn.svm import SVC\n",
        "from sklearn.metrics import fbeta_score\n",
        "from sklearn.metrics import classification_report, accuracy_score, confusion_matrix\n",
        "import matplotlib.pyplot as plt\n",
        "\n",
        "alpha_values = [10 ** x for x in range(-5, 2)]\n",
        "'''\n",
        "max_fbeta = float('-inf')\n",
        "best_alpha = None\n",
        "fbeta_array=[]\n",
        "for alpha in alpha_values:\n",
        "    clf = SVC(kernel='rbf', random_state=1, C=alpha)\n",
        "    #clf = MultinomialNB(alpha=alpha)\n",
        "    clf.fit(X_train_post, y_train)\n",
        "    y_pred = clf.predict(X_valid_post)\n",
        "    current_fbeta = fbeta_score(y_pred, y_valid, beta=2)\n",
        "    acc = accuracy_score(y_valid, y_pred)\n",
        "    fbeta_array.append(current_fbeta)\n",
        "    print('For values of alpha = ', alpha, \"The fbeta score is:\", current_fbeta, \"accuracy is:\", acc)\n",
        "    if current_fbeta > max_fbeta:\n",
        "        max_fbeta = current_fbeta\n",
        "        best_alpha = alpha\n",
        "\n",
        "fig, ax = plt.subplots()\n",
        "ax.plot(alpha_values, fbeta_array,c='g')\n",
        "for i, txt in enumerate(np.round(fbeta_array,3)):\n",
        "    ax.annotate((alpha_values[i],np.round(txt,3)), (alpha_values[i],fbeta_array[i]))\n",
        "plt.grid()\n",
        "plt.title(\"F-beta score for each alpha\")\n",
        "plt.xlabel(\"Alpha i's\")\n",
        "plt.ylabel(\"F-beta score\")\n",
        "plt.show()\n",
        "'''\n",
        "best_alpha = 10\n",
        "best_clf = SVC(kernel='rbf', random_state=1, C=best_alpha)\n",
        "best_clf.fit(X_train_post, y_train)\n",
        "y_pred = best_clf.predict(X_train_post)\n",
        "valid_fbeta = fbeta_score(y_pred, y_train, beta=2)\n",
        "acc = accuracy_score(y_train, y_pred)\n",
        "print(\"Train fbeta for best c\", alpha,valid_fbeta, \"accuracy is:\", acc)\n",
        "print(confusion_matrix(y_train, y_pred))\n",
        "y_pred = best_clf.predict(X_valid_post)\n",
        "valid_fbeta = fbeta_score(y_pred, y_valid, beta=2)\n",
        "acc = accuracy_score(y_valid, y_pred)\n",
        "print(\"Validation fbeta for best c\", alpha,valid_fbeta, \"accuracy is:\", acc)\n",
        "print(classification_report(y_valid, y_pred))\n",
        "print(confusion_matrix(y_valid, y_pred))"
      ],
      "execution_count": null,
      "outputs": [
        {
          "output_type": "stream",
          "name": "stdout",
          "text": [
            "Train fbeta for best c 10 0.0493530745631586 accuracy is: 0.8781858043299534\n",
            "[[51198     5]\n",
            " [ 7107    74]]\n",
            "Validation fbeta for best c 10 0.01878690284487386 accuracy is: 0.8768240049325203\n",
            "              precision    recall  f1-score   support\n",
            "\n",
            "           0       0.88      1.00      0.93     12802\n",
            "           1       0.41      0.00      0.01      1795\n",
            "\n",
            "    accuracy                           0.88     14597\n",
            "   macro avg       0.64      0.50      0.47     14597\n",
            "weighted avg       0.82      0.88      0.82     14597\n",
            "\n",
            "[[12792    10]\n",
            " [ 1788     7]]\n"
          ]
        }
      ]
    },
    {
      "cell_type": "markdown",
      "metadata": {
        "id": "PWhdykbGina0"
      },
      "source": [
        "<h1>Model2. Gaussian Naive Bayes</h1>"
      ]
    },
    {
      "cell_type": "code",
      "metadata": {
        "colab": {
          "base_uri": "https://localhost:8080/"
        },
        "id": "C85zAsfV1xDr",
        "outputId": "745a401e-b135-4ef9-bdea-b0ab2c867519"
      },
      "source": [
        "from sklearn.naive_bayes import GaussianNB\n",
        "\n",
        "\n",
        "clf = GaussianNB()\n",
        "\n",
        "#clf = MultinomialNB(alpha=alpha)\n",
        "clf.fit(X_train_post, y_train)\n",
        "y_pred = clf.predict(X_train_post)\n",
        "train_fbeta = fbeta_score(y_pred, y_train, beta=2)\n",
        "acc = accuracy_score(y_train, y_pred)\n",
        "print(\"Train fbeta \", train_fbeta, \"accuracy is:\", acc)\n",
        "print(confusion_matrix(y_train, y_pred))\n",
        "y_pred = clf.predict(X_valid_post)\n",
        "valid_fbeta = fbeta_score(y_pred, y_valid, beta=2)\n",
        "acc = accuracy_score(y_valid, y_pred)\n",
        "print(\"Validation fbeta \", valid_fbeta, \"accuracy is:\", acc)\n",
        "print(classification_report(y_valid, y_pred))\n",
        "print(confusion_matrix(y_valid, y_pred))\n",
        "\n",
        "\n",
        "y_pred = clf.predict(X_test_post)\n",
        "test_gnb = pd.DataFrame()\n",
        "test_gnb['IsBadBuy'] = y_pred\n",
        "test_gnb['RefId'] = test['RefId']\n",
        "\n",
        "test_rf.to_csv(DPATH+\"test_gnb.csv\", index=False)"
      ],
      "execution_count": null,
      "outputs": [
        {
          "output_type": "stream",
          "name": "stdout",
          "text": [
            "Train fbeta  0.2634464025657389 accuracy is: 0.7563716086599068\n",
            "[[40940 10263]\n",
            " [ 3961  3220]]\n",
            "Validation fbeta  0.2553361260722123 accuracy is: 0.7554291977803659\n",
            "              precision    recall  f1-score   support\n",
            "\n",
            "           0       0.91      0.80      0.85     12802\n",
            "           1       0.23      0.43      0.30      1795\n",
            "\n",
            "    accuracy                           0.76     14597\n",
            "   macro avg       0.57      0.61      0.58     14597\n",
            "weighted avg       0.83      0.76      0.78     14597\n",
            "\n",
            "[[10259  2543]\n",
            " [ 1027   768]]\n"
          ]
        }
      ]
    },
    {
      "cell_type": "markdown",
      "metadata": {
        "id": "v4KYYNj-x8Hs"
      },
      "source": [
        "<h1>Model3. RandomForest Classifier</h1>"
      ]
    },
    {
      "cell_type": "code",
      "metadata": {
        "colab": {
          "base_uri": "https://localhost:8080/"
        },
        "id": "98kv6uPr1xGO",
        "outputId": "670774cd-8589-45a9-fc14-2fe956d70c86"
      },
      "source": [
        "from sklearn.ensemble import RandomForestClassifier\n",
        "\n",
        "clf = RandomForestClassifier(max_depth=4, random_state=0)\n",
        "\n",
        "clf.fit(X_train_post, y_train)\n",
        "y_pred = clf.predict(X_train_post)\n",
        "train_fbeta = fbeta_score(y_pred, y_train, beta=2)\n",
        "acc = accuracy_score(y_train, y_pred)\n",
        "print(\"Train fbeta \", train_fbeta, \"accuracy is:\", acc)\n",
        "print(confusion_matrix(y_train, y_pred))\n",
        "y_pred = clf.predict(X_valid_post)\n",
        "valid_fbeta = fbeta_score(y_pred, y_valid, beta=2)\n",
        "acc = accuracy_score(y_valid, y_pred)\n",
        "print(\"Validation fbeta \", valid_fbeta, \"accuracy is:\", acc)\n",
        "print(classification_report(y_valid, y_pred))\n",
        "print(confusion_matrix(y_valid, y_pred))\n",
        "\n",
        "y_pred = clf.predict(X_test_post)\n",
        "test_rf = pd.DataFrame()\n",
        "test_rf['IsBadBuy'] = y_pred\n",
        "test_rf['RefId'] = test['RefId']\n",
        "\n",
        "test_rf.to_csv(DPATH+\"test_ranfor.csv\", index=False)"
      ],
      "execution_count": null,
      "outputs": [
        {
          "output_type": "stream",
          "name": "stdout",
          "text": [
            "Train fbeta  0.008299903167796375 accuracy is: 0.8772095094546452\n",
            "[[51203     0]\n",
            " [ 7169    12]]\n",
            "Validation fbeta  0.005546311702717692 accuracy is: 0.8771665410700829\n",
            "              precision    recall  f1-score   support\n",
            "\n",
            "           0       0.88      1.00      0.93     12802\n",
            "           1       1.00      0.00      0.00      1795\n",
            "\n",
            "    accuracy                           0.88     14597\n",
            "   macro avg       0.94      0.50      0.47     14597\n",
            "weighted avg       0.89      0.88      0.82     14597\n",
            "\n",
            "[[12802     0]\n",
            " [ 1793     2]]\n"
          ]
        }
      ]
    },
    {
      "cell_type": "code",
      "metadata": {
        "id": "kUEwr-b51xI6"
      },
      "source": [
        ""
      ],
      "execution_count": null,
      "outputs": []
    },
    {
      "cell_type": "markdown",
      "metadata": {
        "id": "pW8damqV2Udk"
      },
      "source": [
        "<h1>Model Selection criteria</h1>"
      ]
    },
    {
      "cell_type": "markdown",
      "metadata": {
        "id": "MzbXpmf73Nuz"
      },
      "source": [
        "*   I chose Gaussian Naive Bayes because features found to be almost independent of each other and also since I did target encoding for categorical variables, it takes posterior probabilities wrt target variable and encdes featues which is nothing but the NB definition. We can also see that GNB performed well comapred other two. If we observe the metrics it is the only classifier which ave accuracy in 70s and better values for precision, recall that means its learning.\n",
        "\n",
        "*   I chose RBF SVM because SVM works well with non-linear, high dimensional data. It didn't perform well\n",
        "\n",
        "*   I chose RandomForest, as we know ensemble models perform well on average, here we dont see this.\n",
        "\n",
        "\n",
        "\n",
        "\n",
        "\n"
      ]
    },
    {
      "cell_type": "markdown",
      "metadata": {
        "id": "OeiHciTr5GAI"
      },
      "source": [
        "<h1>How can we improve?</h1>"
      ]
    },
    {
      "cell_type": "markdown",
      "metadata": {
        "id": "BqaGRLaz5MzN"
      },
      "source": [
        "\n",
        "\n",
        "*   Further data analysis\n",
        "*   Hyperparameter tuning by GridSearch\n",
        "*   Build complex models\n",
        "*   **Data augmentation** with techniques like **SMOTE**, because ultimately good balanced data beats all complex models.\n"
      ]
    },
    {
      "cell_type": "markdown",
      "metadata": {
        "id": "OrUEjOTR6nAQ"
      },
      "source": [
        "<h1>Difficulties I faced</h1>"
      ]
    },
    {
      "cell_type": "markdown",
      "metadata": {
        "id": "liTHb0s46nD7"
      },
      "source": [
        "<p align='justify'>Since I chose target encoding, from sklearn.preprocessing import CategoricalEncoder is only available in the development version 0.20.dev0. I used an online github source code https://brendanhasz.github.io/2019/03/04/target-encoding#target-encoding and I worked on tweaking it to suit this testcase.</p>"
      ]
    },
    {
      "cell_type": "code",
      "metadata": {
        "id": "4nLG_cjj1xLz"
      },
      "source": [
        ""
      ],
      "execution_count": null,
      "outputs": []
    },
    {
      "cell_type": "code",
      "metadata": {
        "id": "uHi0QCeS1xOi"
      },
      "source": [
        ""
      ],
      "execution_count": null,
      "outputs": []
    },
    {
      "cell_type": "code",
      "metadata": {
        "id": "kPDwloJL1xRc"
      },
      "source": [
        ""
      ],
      "execution_count": null,
      "outputs": []
    },
    {
      "cell_type": "code",
      "metadata": {
        "id": "bTHj2tjI1xW9"
      },
      "source": [
        ""
      ],
      "execution_count": null,
      "outputs": []
    },
    {
      "cell_type": "code",
      "metadata": {
        "id": "CR8f-Qye1xZ2"
      },
      "source": [
        ""
      ],
      "execution_count": null,
      "outputs": []
    },
    {
      "cell_type": "code",
      "metadata": {
        "id": "QYBdI9rE1xcd"
      },
      "source": [
        ""
      ],
      "execution_count": null,
      "outputs": []
    },
    {
      "cell_type": "code",
      "metadata": {
        "id": "cOH09jMX1xfV"
      },
      "source": [
        ""
      ],
      "execution_count": null,
      "outputs": []
    },
    {
      "cell_type": "code",
      "metadata": {
        "id": "CWieaW_A1xiE"
      },
      "source": [
        ""
      ],
      "execution_count": null,
      "outputs": []
    },
    {
      "cell_type": "code",
      "metadata": {
        "id": "rWt1j5rH1xkw"
      },
      "source": [
        ""
      ],
      "execution_count": null,
      "outputs": []
    },
    {
      "cell_type": "code",
      "metadata": {
        "id": "D1g_Zx_g1iyG"
      },
      "source": [
        ""
      ],
      "execution_count": null,
      "outputs": []
    }
  ]
}