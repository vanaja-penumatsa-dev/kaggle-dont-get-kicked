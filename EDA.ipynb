{
  "nbformat": 4,
  "nbformat_minor": 0,
  "metadata": {
    "colab": {
      "name": "EDA.ipynb",
      "provenance": [],
      "authorship_tag": "ABX9TyOdmbgqiLP8wE+lp6boOQ8G",
      "include_colab_link": true
    },
    "kernelspec": {
      "name": "python3",
      "display_name": "Python 3"
    },
    "language_info": {
      "name": "python"
    }
  },
  "cells": [
    {
      "cell_type": "markdown",
      "metadata": {
        "id": "view-in-github",
        "colab_type": "text"
      },
      "source": [
        "<a href=\"https://colab.research.google.com/github/vanaja-penumatsa-dev/kaggle-dont-get-kicked/blob/main/EDA.ipynb\" target=\"_parent\"><img src=\"https://colab.research.google.com/assets/colab-badge.svg\" alt=\"Open In Colab\"/></a>"
      ]
    },
    {
      "cell_type": "code",
      "metadata": {
        "id": "m-TNZicBen9P"
      },
      "source": [
        "from google.colab import drive\n",
        "drive.mount('/content/drive')\n",
        "DPATH = '/content/drive/MyDrive/apporchid/data/'"
      ],
      "execution_count": null,
      "outputs": []
    },
    {
      "cell_type": "code",
      "metadata": {
        "id": "CSWSV6zSe3-Y"
      },
      "source": [
        "import pandas as pd\n",
        "\n",
        "train = pd.read_csv(DPATH+'train_orig.csv')\n",
        "test = pd.read_csv(DPATH+'test_orig.csv')"
      ],
      "execution_count": null,
      "outputs": []
    },
    {
      "cell_type": "code",
      "metadata": {
        "id": "9hdXYdnnEMoa"
      },
      "source": [
        ""
      ],
      "execution_count": null,
      "outputs": []
    },
    {
      "cell_type": "code",
      "metadata": {
        "colab": {
          "base_uri": "https://localhost:8080/"
        },
        "id": "2U75fUSjfYIa",
        "outputId": "810dc909-4fa6-4270-8ab4-ff3a8f1bea2a"
      },
      "source": [
        "train.shape, test.shape"
      ],
      "execution_count": null,
      "outputs": [
        {
          "output_type": "execute_result",
          "data": {
            "text/plain": [
              "((72983, 34), (48707, 33))"
            ]
          },
          "metadata": {},
          "execution_count": 3
        }
      ]
    },
    {
      "cell_type": "markdown",
      "metadata": {
        "id": "yfzzYnYnZm2s"
      },
      "source": [
        "\n",
        "\n",
        "*   Decent amount of data"
      ]
    },
    {
      "cell_type": "code",
      "metadata": {
        "colab": {
          "base_uri": "https://localhost:8080/"
        },
        "id": "pA6_-cBefgi1",
        "outputId": "aa7657d0-74ca-4430-a099-fe1ab6e3fb42"
      },
      "source": [
        "train['IsBadBuy'].value_counts()"
      ],
      "execution_count": null,
      "outputs": [
        {
          "output_type": "execute_result",
          "data": {
            "text/plain": [
              "0    64007\n",
              "1     8976\n",
              "Name: IsBadBuy, dtype: int64"
            ]
          },
          "metadata": {},
          "execution_count": 4
        }
      ]
    },
    {
      "cell_type": "code",
      "metadata": {
        "colab": {
          "base_uri": "https://localhost:8080/"
        },
        "id": "_kAYeQjS5rXL",
        "outputId": "d41843e6-48a4-4d8a-815f-087ef4ce4900"
      },
      "source": [
        "64007/72983, 8976/72983"
      ],
      "execution_count": null,
      "outputs": [
        {
          "output_type": "execute_result",
          "data": {
            "text/plain": [
              "(0.8770124549552636, 0.12298754504473644)"
            ]
          },
          "metadata": {},
          "execution_count": 5
        }
      ]
    },
    {
      "cell_type": "markdown",
      "metadata": {
        "id": "ZJ9k71pTZtre"
      },
      "source": [
        "**Observation**\n",
        "\n",
        "*   Highy imbalanced dataset\n",
        "*   Any model must perform better than a random model with accuracy 87%."
      ]
    },
    {
      "cell_type": "code",
      "metadata": {
        "colab": {
          "base_uri": "https://localhost:8080/",
          "height": 377
        },
        "id": "ohri17CibEXb",
        "outputId": "0f27ef4e-5049-4764-f6b8-4e8d3792cb33"
      },
      "source": [
        "train.head()"
      ],
      "execution_count": null,
      "outputs": [
        {
          "output_type": "execute_result",
          "data": {
            "text/html": [
              "<div>\n",
              "<style scoped>\n",
              "    .dataframe tbody tr th:only-of-type {\n",
              "        vertical-align: middle;\n",
              "    }\n",
              "\n",
              "    .dataframe tbody tr th {\n",
              "        vertical-align: top;\n",
              "    }\n",
              "\n",
              "    .dataframe thead th {\n",
              "        text-align: right;\n",
              "    }\n",
              "</style>\n",
              "<table border=\"1\" class=\"dataframe\">\n",
              "  <thead>\n",
              "    <tr style=\"text-align: right;\">\n",
              "      <th></th>\n",
              "      <th>RefId</th>\n",
              "      <th>IsBadBuy</th>\n",
              "      <th>PurchDate</th>\n",
              "      <th>Auction</th>\n",
              "      <th>VehYear</th>\n",
              "      <th>VehicleAge</th>\n",
              "      <th>Make</th>\n",
              "      <th>Model</th>\n",
              "      <th>Trim</th>\n",
              "      <th>SubModel</th>\n",
              "      <th>Color</th>\n",
              "      <th>Transmission</th>\n",
              "      <th>WheelTypeID</th>\n",
              "      <th>WheelType</th>\n",
              "      <th>VehOdo</th>\n",
              "      <th>Nationality</th>\n",
              "      <th>Size</th>\n",
              "      <th>TopThreeAmericanName</th>\n",
              "      <th>MMRAcquisitionAuctionAveragePrice</th>\n",
              "      <th>MMRAcquisitionAuctionCleanPrice</th>\n",
              "      <th>MMRAcquisitionRetailAveragePrice</th>\n",
              "      <th>MMRAcquisitonRetailCleanPrice</th>\n",
              "      <th>MMRCurrentAuctionAveragePrice</th>\n",
              "      <th>MMRCurrentAuctionCleanPrice</th>\n",
              "      <th>MMRCurrentRetailAveragePrice</th>\n",
              "      <th>MMRCurrentRetailCleanPrice</th>\n",
              "      <th>PRIMEUNIT</th>\n",
              "      <th>AUCGUART</th>\n",
              "      <th>BYRNO</th>\n",
              "      <th>VNZIP1</th>\n",
              "      <th>VNST</th>\n",
              "      <th>VehBCost</th>\n",
              "      <th>IsOnlineSale</th>\n",
              "      <th>WarrantyCost</th>\n",
              "    </tr>\n",
              "  </thead>\n",
              "  <tbody>\n",
              "    <tr>\n",
              "      <th>0</th>\n",
              "      <td>1</td>\n",
              "      <td>0</td>\n",
              "      <td>12/7/2009</td>\n",
              "      <td>ADESA</td>\n",
              "      <td>2006</td>\n",
              "      <td>3</td>\n",
              "      <td>MAZDA</td>\n",
              "      <td>MAZDA3</td>\n",
              "      <td>i</td>\n",
              "      <td>4D SEDAN I</td>\n",
              "      <td>RED</td>\n",
              "      <td>AUTO</td>\n",
              "      <td>1.0</td>\n",
              "      <td>Alloy</td>\n",
              "      <td>89046</td>\n",
              "      <td>OTHER ASIAN</td>\n",
              "      <td>MEDIUM</td>\n",
              "      <td>OTHER</td>\n",
              "      <td>8155.0</td>\n",
              "      <td>9829.0</td>\n",
              "      <td>11636.0</td>\n",
              "      <td>13600.0</td>\n",
              "      <td>7451.0</td>\n",
              "      <td>8552.0</td>\n",
              "      <td>11597.0</td>\n",
              "      <td>12409.0</td>\n",
              "      <td>NaN</td>\n",
              "      <td>NaN</td>\n",
              "      <td>21973</td>\n",
              "      <td>33619</td>\n",
              "      <td>FL</td>\n",
              "      <td>7100.0</td>\n",
              "      <td>0</td>\n",
              "      <td>1113</td>\n",
              "    </tr>\n",
              "    <tr>\n",
              "      <th>1</th>\n",
              "      <td>2</td>\n",
              "      <td>0</td>\n",
              "      <td>12/7/2009</td>\n",
              "      <td>ADESA</td>\n",
              "      <td>2004</td>\n",
              "      <td>5</td>\n",
              "      <td>DODGE</td>\n",
              "      <td>1500 RAM PICKUP 2WD</td>\n",
              "      <td>ST</td>\n",
              "      <td>QUAD CAB 4.7L SLT</td>\n",
              "      <td>WHITE</td>\n",
              "      <td>AUTO</td>\n",
              "      <td>1.0</td>\n",
              "      <td>Alloy</td>\n",
              "      <td>93593</td>\n",
              "      <td>AMERICAN</td>\n",
              "      <td>LARGE TRUCK</td>\n",
              "      <td>CHRYSLER</td>\n",
              "      <td>6854.0</td>\n",
              "      <td>8383.0</td>\n",
              "      <td>10897.0</td>\n",
              "      <td>12572.0</td>\n",
              "      <td>7456.0</td>\n",
              "      <td>9222.0</td>\n",
              "      <td>11374.0</td>\n",
              "      <td>12791.0</td>\n",
              "      <td>NaN</td>\n",
              "      <td>NaN</td>\n",
              "      <td>19638</td>\n",
              "      <td>33619</td>\n",
              "      <td>FL</td>\n",
              "      <td>7600.0</td>\n",
              "      <td>0</td>\n",
              "      <td>1053</td>\n",
              "    </tr>\n",
              "    <tr>\n",
              "      <th>2</th>\n",
              "      <td>3</td>\n",
              "      <td>0</td>\n",
              "      <td>12/7/2009</td>\n",
              "      <td>ADESA</td>\n",
              "      <td>2005</td>\n",
              "      <td>4</td>\n",
              "      <td>DODGE</td>\n",
              "      <td>STRATUS V6</td>\n",
              "      <td>SXT</td>\n",
              "      <td>4D SEDAN SXT FFV</td>\n",
              "      <td>MAROON</td>\n",
              "      <td>AUTO</td>\n",
              "      <td>2.0</td>\n",
              "      <td>Covers</td>\n",
              "      <td>73807</td>\n",
              "      <td>AMERICAN</td>\n",
              "      <td>MEDIUM</td>\n",
              "      <td>CHRYSLER</td>\n",
              "      <td>3202.0</td>\n",
              "      <td>4760.0</td>\n",
              "      <td>6943.0</td>\n",
              "      <td>8457.0</td>\n",
              "      <td>4035.0</td>\n",
              "      <td>5557.0</td>\n",
              "      <td>7146.0</td>\n",
              "      <td>8702.0</td>\n",
              "      <td>NaN</td>\n",
              "      <td>NaN</td>\n",
              "      <td>19638</td>\n",
              "      <td>33619</td>\n",
              "      <td>FL</td>\n",
              "      <td>4900.0</td>\n",
              "      <td>0</td>\n",
              "      <td>1389</td>\n",
              "    </tr>\n",
              "    <tr>\n",
              "      <th>3</th>\n",
              "      <td>4</td>\n",
              "      <td>0</td>\n",
              "      <td>12/7/2009</td>\n",
              "      <td>ADESA</td>\n",
              "      <td>2004</td>\n",
              "      <td>5</td>\n",
              "      <td>DODGE</td>\n",
              "      <td>NEON</td>\n",
              "      <td>SXT</td>\n",
              "      <td>4D SEDAN</td>\n",
              "      <td>SILVER</td>\n",
              "      <td>AUTO</td>\n",
              "      <td>1.0</td>\n",
              "      <td>Alloy</td>\n",
              "      <td>65617</td>\n",
              "      <td>AMERICAN</td>\n",
              "      <td>COMPACT</td>\n",
              "      <td>CHRYSLER</td>\n",
              "      <td>1893.0</td>\n",
              "      <td>2675.0</td>\n",
              "      <td>4658.0</td>\n",
              "      <td>5690.0</td>\n",
              "      <td>1844.0</td>\n",
              "      <td>2646.0</td>\n",
              "      <td>4375.0</td>\n",
              "      <td>5518.0</td>\n",
              "      <td>NaN</td>\n",
              "      <td>NaN</td>\n",
              "      <td>19638</td>\n",
              "      <td>33619</td>\n",
              "      <td>FL</td>\n",
              "      <td>4100.0</td>\n",
              "      <td>0</td>\n",
              "      <td>630</td>\n",
              "    </tr>\n",
              "    <tr>\n",
              "      <th>4</th>\n",
              "      <td>5</td>\n",
              "      <td>0</td>\n",
              "      <td>12/7/2009</td>\n",
              "      <td>ADESA</td>\n",
              "      <td>2005</td>\n",
              "      <td>4</td>\n",
              "      <td>FORD</td>\n",
              "      <td>FOCUS</td>\n",
              "      <td>ZX3</td>\n",
              "      <td>2D COUPE ZX3</td>\n",
              "      <td>SILVER</td>\n",
              "      <td>MANUAL</td>\n",
              "      <td>2.0</td>\n",
              "      <td>Covers</td>\n",
              "      <td>69367</td>\n",
              "      <td>AMERICAN</td>\n",
              "      <td>COMPACT</td>\n",
              "      <td>FORD</td>\n",
              "      <td>3913.0</td>\n",
              "      <td>5054.0</td>\n",
              "      <td>7723.0</td>\n",
              "      <td>8707.0</td>\n",
              "      <td>3247.0</td>\n",
              "      <td>4384.0</td>\n",
              "      <td>6739.0</td>\n",
              "      <td>7911.0</td>\n",
              "      <td>NaN</td>\n",
              "      <td>NaN</td>\n",
              "      <td>19638</td>\n",
              "      <td>33619</td>\n",
              "      <td>FL</td>\n",
              "      <td>4000.0</td>\n",
              "      <td>0</td>\n",
              "      <td>1020</td>\n",
              "    </tr>\n",
              "  </tbody>\n",
              "</table>\n",
              "</div>"
            ],
            "text/plain": [
              "   RefId  IsBadBuy  PurchDate  ... VehBCost  IsOnlineSale  WarrantyCost\n",
              "0      1         0  12/7/2009  ...   7100.0             0          1113\n",
              "1      2         0  12/7/2009  ...   7600.0             0          1053\n",
              "2      3         0  12/7/2009  ...   4900.0             0          1389\n",
              "3      4         0  12/7/2009  ...   4100.0             0           630\n",
              "4      5         0  12/7/2009  ...   4000.0             0          1020\n",
              "\n",
              "[5 rows x 34 columns]"
            ]
          },
          "metadata": {},
          "execution_count": 132
        }
      ]
    },
    {
      "cell_type": "code",
      "metadata": {
        "colab": {
          "base_uri": "https://localhost:8080/",
          "height": 309
        },
        "id": "KNA7qIeMbIGi",
        "outputId": "802bc29f-097f-4f00-af92-329e09d6fece"
      },
      "source": [
        "test.head()"
      ],
      "execution_count": null,
      "outputs": [
        {
          "output_type": "execute_result",
          "data": {
            "text/html": [
              "<div>\n",
              "<style scoped>\n",
              "    .dataframe tbody tr th:only-of-type {\n",
              "        vertical-align: middle;\n",
              "    }\n",
              "\n",
              "    .dataframe tbody tr th {\n",
              "        vertical-align: top;\n",
              "    }\n",
              "\n",
              "    .dataframe thead th {\n",
              "        text-align: right;\n",
              "    }\n",
              "</style>\n",
              "<table border=\"1\" class=\"dataframe\">\n",
              "  <thead>\n",
              "    <tr style=\"text-align: right;\">\n",
              "      <th></th>\n",
              "      <th>RefId</th>\n",
              "      <th>PurchDate</th>\n",
              "      <th>Auction</th>\n",
              "      <th>VehYear</th>\n",
              "      <th>VehicleAge</th>\n",
              "      <th>Make</th>\n",
              "      <th>Model</th>\n",
              "      <th>Trim</th>\n",
              "      <th>SubModel</th>\n",
              "      <th>Color</th>\n",
              "      <th>Transmission</th>\n",
              "      <th>WheelTypeID</th>\n",
              "      <th>WheelType</th>\n",
              "      <th>VehOdo</th>\n",
              "      <th>Nationality</th>\n",
              "      <th>Size</th>\n",
              "      <th>TopThreeAmericanName</th>\n",
              "      <th>MMRAcquisitionAuctionAveragePrice</th>\n",
              "      <th>MMRAcquisitionAuctionCleanPrice</th>\n",
              "      <th>MMRAcquisitionRetailAveragePrice</th>\n",
              "      <th>MMRAcquisitonRetailCleanPrice</th>\n",
              "      <th>MMRCurrentAuctionAveragePrice</th>\n",
              "      <th>MMRCurrentAuctionCleanPrice</th>\n",
              "      <th>MMRCurrentRetailAveragePrice</th>\n",
              "      <th>MMRCurrentRetailCleanPrice</th>\n",
              "      <th>PRIMEUNIT</th>\n",
              "      <th>AUCGUART</th>\n",
              "      <th>BYRNO</th>\n",
              "      <th>VNZIP1</th>\n",
              "      <th>VNST</th>\n",
              "      <th>VehBCost</th>\n",
              "      <th>IsOnlineSale</th>\n",
              "      <th>WarrantyCost</th>\n",
              "    </tr>\n",
              "  </thead>\n",
              "  <tbody>\n",
              "    <tr>\n",
              "      <th>0</th>\n",
              "      <td>73015</td>\n",
              "      <td>12/2/2009</td>\n",
              "      <td>ADESA</td>\n",
              "      <td>2005</td>\n",
              "      <td>4</td>\n",
              "      <td>PONTIAC</td>\n",
              "      <td>GRAND PRIX</td>\n",
              "      <td>Bas</td>\n",
              "      <td>4D SEDAN</td>\n",
              "      <td>SILVER</td>\n",
              "      <td>AUTO</td>\n",
              "      <td>1.0</td>\n",
              "      <td>Alloy</td>\n",
              "      <td>85377</td>\n",
              "      <td>AMERICAN</td>\n",
              "      <td>LARGE</td>\n",
              "      <td>GM</td>\n",
              "      <td>5032.0</td>\n",
              "      <td>6386.0</td>\n",
              "      <td>5935.0</td>\n",
              "      <td>7397.0</td>\n",
              "      <td>4905.0</td>\n",
              "      <td>6181.0</td>\n",
              "      <td>8557.0</td>\n",
              "      <td>9752.0</td>\n",
              "      <td>NaN</td>\n",
              "      <td>NaN</td>\n",
              "      <td>18881</td>\n",
              "      <td>30212</td>\n",
              "      <td>GA</td>\n",
              "      <td>6500.0</td>\n",
              "      <td>0</td>\n",
              "      <td>2152</td>\n",
              "    </tr>\n",
              "    <tr>\n",
              "      <th>1</th>\n",
              "      <td>73016</td>\n",
              "      <td>12/2/2009</td>\n",
              "      <td>ADESA</td>\n",
              "      <td>2005</td>\n",
              "      <td>4</td>\n",
              "      <td>CHEVROLET</td>\n",
              "      <td>MALIBU V6</td>\n",
              "      <td>LS</td>\n",
              "      <td>4D SEDAN LS</td>\n",
              "      <td>SILVER</td>\n",
              "      <td>AUTO</td>\n",
              "      <td>1.0</td>\n",
              "      <td>Alloy</td>\n",
              "      <td>61873</td>\n",
              "      <td>AMERICAN</td>\n",
              "      <td>MEDIUM</td>\n",
              "      <td>GM</td>\n",
              "      <td>4502.0</td>\n",
              "      <td>5685.0</td>\n",
              "      <td>5362.0</td>\n",
              "      <td>6640.0</td>\n",
              "      <td>4645.0</td>\n",
              "      <td>5710.0</td>\n",
              "      <td>7562.0</td>\n",
              "      <td>9296.0</td>\n",
              "      <td>NaN</td>\n",
              "      <td>NaN</td>\n",
              "      <td>18111</td>\n",
              "      <td>30212</td>\n",
              "      <td>GA</td>\n",
              "      <td>6300.0</td>\n",
              "      <td>0</td>\n",
              "      <td>1118</td>\n",
              "    </tr>\n",
              "    <tr>\n",
              "      <th>2</th>\n",
              "      <td>73017</td>\n",
              "      <td>12/2/2009</td>\n",
              "      <td>ADESA</td>\n",
              "      <td>2006</td>\n",
              "      <td>3</td>\n",
              "      <td>DODGE</td>\n",
              "      <td>DURANGO 2WD V8</td>\n",
              "      <td>Adv</td>\n",
              "      <td>4D SUV 4.7L ADVENTURER</td>\n",
              "      <td>SILVER</td>\n",
              "      <td>AUTO</td>\n",
              "      <td>1.0</td>\n",
              "      <td>Alloy</td>\n",
              "      <td>69283</td>\n",
              "      <td>AMERICAN</td>\n",
              "      <td>MEDIUM SUV</td>\n",
              "      <td>CHRYSLER</td>\n",
              "      <td>10244.0</td>\n",
              "      <td>13041.0</td>\n",
              "      <td>11564.0</td>\n",
              "      <td>14584.0</td>\n",
              "      <td>10883.0</td>\n",
              "      <td>12166.0</td>\n",
              "      <td>15340.0</td>\n",
              "      <td>16512.0</td>\n",
              "      <td>NaN</td>\n",
              "      <td>NaN</td>\n",
              "      <td>18111</td>\n",
              "      <td>30212</td>\n",
              "      <td>GA</td>\n",
              "      <td>9700.0</td>\n",
              "      <td>0</td>\n",
              "      <td>1215</td>\n",
              "    </tr>\n",
              "    <tr>\n",
              "      <th>3</th>\n",
              "      <td>73018</td>\n",
              "      <td>12/2/2009</td>\n",
              "      <td>ADESA</td>\n",
              "      <td>2002</td>\n",
              "      <td>7</td>\n",
              "      <td>SATURN</td>\n",
              "      <td>L SERIES</td>\n",
              "      <td>L20</td>\n",
              "      <td>4D SEDAN L200</td>\n",
              "      <td>GOLD</td>\n",
              "      <td>AUTO</td>\n",
              "      <td>1.0</td>\n",
              "      <td>Alloy</td>\n",
              "      <td>87889</td>\n",
              "      <td>AMERICAN</td>\n",
              "      <td>MEDIUM</td>\n",
              "      <td>GM</td>\n",
              "      <td>2558.0</td>\n",
              "      <td>3542.0</td>\n",
              "      <td>3263.0</td>\n",
              "      <td>4325.0</td>\n",
              "      <td>2928.0</td>\n",
              "      <td>3607.0</td>\n",
              "      <td>5725.0</td>\n",
              "      <td>6398.0</td>\n",
              "      <td>NaN</td>\n",
              "      <td>NaN</td>\n",
              "      <td>18881</td>\n",
              "      <td>30212</td>\n",
              "      <td>GA</td>\n",
              "      <td>4150.0</td>\n",
              "      <td>0</td>\n",
              "      <td>1933</td>\n",
              "    </tr>\n",
              "    <tr>\n",
              "      <th>4</th>\n",
              "      <td>73019</td>\n",
              "      <td>12/2/2009</td>\n",
              "      <td>ADESA</td>\n",
              "      <td>2007</td>\n",
              "      <td>2</td>\n",
              "      <td>HYUNDAI</td>\n",
              "      <td>ACCENT</td>\n",
              "      <td>GS</td>\n",
              "      <td>2D COUPE GS</td>\n",
              "      <td>BLUE</td>\n",
              "      <td>AUTO</td>\n",
              "      <td>NaN</td>\n",
              "      <td>NaN</td>\n",
              "      <td>73432</td>\n",
              "      <td>OTHER ASIAN</td>\n",
              "      <td>COMPACT</td>\n",
              "      <td>OTHER</td>\n",
              "      <td>5013.0</td>\n",
              "      <td>6343.0</td>\n",
              "      <td>5914.0</td>\n",
              "      <td>7350.0</td>\n",
              "      <td>5013.0</td>\n",
              "      <td>6343.0</td>\n",
              "      <td>5914.0</td>\n",
              "      <td>7350.0</td>\n",
              "      <td>NaN</td>\n",
              "      <td>NaN</td>\n",
              "      <td>18111</td>\n",
              "      <td>30212</td>\n",
              "      <td>GA</td>\n",
              "      <td>4100.0</td>\n",
              "      <td>0</td>\n",
              "      <td>920</td>\n",
              "    </tr>\n",
              "  </tbody>\n",
              "</table>\n",
              "</div>"
            ],
            "text/plain": [
              "   RefId  PurchDate Auction  VehYear  ...  VNST VehBCost IsOnlineSale WarrantyCost\n",
              "0  73015  12/2/2009   ADESA     2005  ...    GA   6500.0            0         2152\n",
              "1  73016  12/2/2009   ADESA     2005  ...    GA   6300.0            0         1118\n",
              "2  73017  12/2/2009   ADESA     2006  ...    GA   9700.0            0         1215\n",
              "3  73018  12/2/2009   ADESA     2002  ...    GA   4150.0            0         1933\n",
              "4  73019  12/2/2009   ADESA     2007  ...    GA   4100.0            0          920\n",
              "\n",
              "[5 rows x 33 columns]"
            ]
          },
          "metadata": {},
          "execution_count": 133
        }
      ]
    },
    {
      "cell_type": "code",
      "metadata": {
        "id": "ORyEVW60alFk"
      },
      "source": [
        "cat_cols = ['Auction', 'VehYear', 'Make', 'Model', 'Trim', 'SubModel', 'Color', 'Transmission', 'WheelTypeID', 'WheelType', \\\n",
        "              'Nationality', 'Size', 'TopThreeAmericanName', 'PRIMEUNIT', 'AUCGUART', 'BYRNO', 'VNZIP1', 'VNST', 'IsOnlineSale']\n",
        "num_cols = ['VehicleAge', 'VehOdo', 'MMRAcquisitionAuctionAveragePrice', 'MMRAcquisitionAuctionCleanPrice', 'MMRAcquisitionRetailAveragePrice', \\\n",
        "                'MMRAcquisitonRetailCleanPrice', 'MMRCurrentAuctionAveragePrice', 'MMRCurrentAuctionCleanPrice', \\\n",
        "                'MMRCurrentRetailAveragePrice', 'MMRCurrentRetailCleanPrice', 'VehBCost', 'WarrantyCost']"
      ],
      "execution_count": null,
      "outputs": []
    },
    {
      "cell_type": "code",
      "metadata": {
        "colab": {
          "base_uri": "https://localhost:8080/"
        },
        "id": "y60Jms3szJrg",
        "outputId": "58fee25e-b0c2-497f-b1bf-4c6183c089b7"
      },
      "source": [
        "len(cat_cols) + len(num_cols)\n",
        "#other variables are RefId, IsBadBuy, PurchDate\t"
      ],
      "execution_count": null,
      "outputs": [
        {
          "output_type": "execute_result",
          "data": {
            "text/plain": [
              "31"
            ]
          },
          "metadata": {},
          "execution_count": 7
        }
      ]
    },
    {
      "cell_type": "markdown",
      "metadata": {
        "id": "gxObV-ihZ16y"
      },
      "source": [
        "<h1>1. Data Cleaning</h1>"
      ]
    },
    {
      "cell_type": "markdown",
      "metadata": {
        "id": "-GuVVFBkaOPp"
      },
      "source": [
        "<h2>1a.Check for null values</h2>"
      ]
    },
    {
      "cell_type": "code",
      "metadata": {
        "colab": {
          "base_uri": "https://localhost:8080/"
        },
        "id": "x3vmA2ULZkC0",
        "outputId": "b5477733-09c0-46b7-fd27-bc63a3a4248d"
      },
      "source": [
        "train.isna().sum()"
      ],
      "execution_count": null,
      "outputs": [
        {
          "output_type": "execute_result",
          "data": {
            "text/plain": [
              "RefId                                    0\n",
              "IsBadBuy                                 0\n",
              "PurchDate                                0\n",
              "Auction                                  0\n",
              "VehYear                                  0\n",
              "VehicleAge                               0\n",
              "Make                                     0\n",
              "Model                                    0\n",
              "Trim                                  2360\n",
              "SubModel                                 8\n",
              "Color                                    8\n",
              "Transmission                             9\n",
              "WheelTypeID                           3169\n",
              "WheelType                             3174\n",
              "VehOdo                                   0\n",
              "Nationality                              5\n",
              "Size                                     5\n",
              "TopThreeAmericanName                     5\n",
              "MMRAcquisitionAuctionAveragePrice       18\n",
              "MMRAcquisitionAuctionCleanPrice         18\n",
              "MMRAcquisitionRetailAveragePrice        18\n",
              "MMRAcquisitonRetailCleanPrice           18\n",
              "MMRCurrentAuctionAveragePrice          315\n",
              "MMRCurrentAuctionCleanPrice            315\n",
              "MMRCurrentRetailAveragePrice           315\n",
              "MMRCurrentRetailCleanPrice             315\n",
              "PRIMEUNIT                            69564\n",
              "AUCGUART                             69564\n",
              "BYRNO                                    0\n",
              "VNZIP1                                   0\n",
              "VNST                                     0\n",
              "VehBCost                                 0\n",
              "IsOnlineSale                             0\n",
              "WarrantyCost                             0\n",
              "dtype: int64"
            ]
          },
          "metadata": {},
          "execution_count": 8
        }
      ]
    },
    {
      "cell_type": "code",
      "metadata": {
        "colab": {
          "base_uri": "https://localhost:8080/"
        },
        "id": "BnGDxqlVaFiU",
        "outputId": "af792b83-e7a4-4972-d2da-0797a64e9160"
      },
      "source": [
        "test.isna().sum()"
      ],
      "execution_count": null,
      "outputs": [
        {
          "output_type": "execute_result",
          "data": {
            "text/plain": [
              "RefId                                    0\n",
              "PurchDate                                0\n",
              "Auction                                  0\n",
              "VehYear                                  0\n",
              "VehicleAge                               0\n",
              "Make                                     0\n",
              "Model                                    0\n",
              "Trim                                  1550\n",
              "SubModel                                 5\n",
              "Color                                    4\n",
              "Transmission                             3\n",
              "WheelTypeID                           2188\n",
              "WheelType                             2188\n",
              "VehOdo                                   0\n",
              "Nationality                              7\n",
              "Size                                     7\n",
              "TopThreeAmericanName                     7\n",
              "MMRAcquisitionAuctionAveragePrice       10\n",
              "MMRAcquisitionAuctionCleanPrice         10\n",
              "MMRAcquisitionRetailAveragePrice        10\n",
              "MMRAcquisitonRetailCleanPrice           10\n",
              "MMRCurrentAuctionAveragePrice          143\n",
              "MMRCurrentAuctionCleanPrice            143\n",
              "MMRCurrentRetailAveragePrice           143\n",
              "MMRCurrentRetailCleanPrice             143\n",
              "PRIMEUNIT                            46191\n",
              "AUCGUART                             46191\n",
              "BYRNO                                    0\n",
              "VNZIP1                                   0\n",
              "VNST                                     0\n",
              "VehBCost                                 0\n",
              "IsOnlineSale                             0\n",
              "WarrantyCost                             0\n",
              "dtype: int64"
            ]
          },
          "metadata": {},
          "execution_count": 130
        }
      ]
    },
    {
      "cell_type": "markdown",
      "metadata": {
        "id": "uvuwHYorcerC"
      },
      "source": [
        "\n",
        "\n",
        "*   Replacing categorical column NaNs with mode\n",
        "*   Replacing numerical column NaNs with mean\n",
        "*   No rows for AUCGUART=Yellow both in test and train, and the mode is Green, I think it is not right to replace NaN values with Green for this particular feature as Green mean Guaranteed/arbitratable, So, I am adding value 'Other' in place of NaNs\n",
        "\n",
        "\n",
        "\n",
        "\n"
      ]
    },
    {
      "cell_type": "code",
      "metadata": {
        "id": "0XMtHUQ_cxbk"
      },
      "source": [
        "def data_cleaning(df):\n",
        "  \n",
        "  df['AUCGUART'].fillna('Other', inplace=True)\n",
        "  for column in cat_cols:\n",
        "      df[column].fillna(df[column].mode()[0], inplace=True)\n",
        "      \n",
        "  for column in num_cols:\n",
        "      df[column].fillna(df[column].mean(), inplace=True)\n",
        "  return df"
      ],
      "execution_count": null,
      "outputs": []
    },
    {
      "cell_type": "code",
      "metadata": {
        "id": "Uh-n0pp3dkbb"
      },
      "source": [
        "train = data_cleaning(train)"
      ],
      "execution_count": null,
      "outputs": []
    },
    {
      "cell_type": "code",
      "metadata": {
        "colab": {
          "base_uri": "https://localhost:8080/"
        },
        "id": "1Gew9_pnfK9A",
        "outputId": "ac9c9df8-7c1c-49f4-e03e-ab325e7402cd"
      },
      "source": [
        "train.isna().sum()"
      ],
      "execution_count": null,
      "outputs": [
        {
          "output_type": "execute_result",
          "data": {
            "text/plain": [
              "RefId                                0\n",
              "IsBadBuy                             0\n",
              "PurchDate                            0\n",
              "Auction                              0\n",
              "VehYear                              0\n",
              "VehicleAge                           0\n",
              "Make                                 0\n",
              "Model                                0\n",
              "Trim                                 0\n",
              "SubModel                             0\n",
              "Color                                0\n",
              "Transmission                         0\n",
              "WheelTypeID                          0\n",
              "WheelType                            0\n",
              "VehOdo                               0\n",
              "Nationality                          0\n",
              "Size                                 0\n",
              "TopThreeAmericanName                 0\n",
              "MMRAcquisitionAuctionAveragePrice    0\n",
              "MMRAcquisitionAuctionCleanPrice      0\n",
              "MMRAcquisitionRetailAveragePrice     0\n",
              "MMRAcquisitonRetailCleanPrice        0\n",
              "MMRCurrentAuctionAveragePrice        0\n",
              "MMRCurrentAuctionCleanPrice          0\n",
              "MMRCurrentRetailAveragePrice         0\n",
              "MMRCurrentRetailCleanPrice           0\n",
              "PRIMEUNIT                            0\n",
              "AUCGUART                             0\n",
              "BYRNO                                0\n",
              "VNZIP1                               0\n",
              "VNST                                 0\n",
              "VehBCost                             0\n",
              "IsOnlineSale                         0\n",
              "WarrantyCost                         0\n",
              "dtype: int64"
            ]
          },
          "metadata": {},
          "execution_count": 46
        }
      ]
    },
    {
      "cell_type": "markdown",
      "metadata": {
        "id": "MZeEQGMTfoBt"
      },
      "source": [
        "<h1>2. Visualisation</h1>"
      ]
    },
    {
      "cell_type": "markdown",
      "metadata": {
        "id": "4iVH-G0Jh-Jk"
      },
      "source": [
        "<h2>2a. Numerical features</h2>"
      ]
    },
    {
      "cell_type": "code",
      "metadata": {
        "id": "kySHFlv2flkO"
      },
      "source": [
        "import seaborn as sns\n",
        "import matplotlib.pyplot as plt\n",
        "\n",
        "import warnings\n",
        "warnings.filterwarnings(\"ignore\", category=FutureWarning)\n",
        "warnings.filterwarnings(\"ignore\", category=UserWarning)"
      ],
      "execution_count": null,
      "outputs": []
    },
    {
      "cell_type": "code",
      "metadata": {
        "colab": {
          "base_uri": "https://localhost:8080/",
          "height": 1000
        },
        "id": "KzmdlB_VflnE",
        "outputId": "5ef1585b-7485-4823-c9f8-7e91d93d4ece"
      },
      "source": [
        "for col in num_cols:\n",
        "  print(col)\n",
        "  sns.FacetGrid(train, hue=\"IsBadBuy\", size=5) \\\n",
        "    .map(sns.distplot, col) \\\n",
        "    .add_legend();\n",
        "  plt.savefig(DPATH+'/plots/'+col+'.png')\n",
        "  plt.show();"
      ],
      "execution_count": null,
      "outputs": [
        {
          "output_type": "stream",
          "name": "stdout",
          "text": [
            "VehicleAge\n"
          ]
        },
        {
          "output_type": "display_data",
          "data": {
            "image/png": "[encoded data removed]",
            "text/plain": [
              "<Figure size 414.625x360 with 1 Axes>"
            ]
          },
          "metadata": {
            "needs_background": "light"
          }
        },
        {
          "output_type": "stream",
          "name": "stdout",
          "text": [
            "VehOdo\n"
          ]
        },
        {
          "output_type": "display_data",
          "data": {
            "image/png": "[encoded data removed]",
            "text/plain": [
              "<Figure size 414.625x360 with 1 Axes>"
            ]
          },
          "metadata": {
            "needs_background": "light"
          }
        },
        {
          "output_type": "stream",
          "name": "stdout",
          "text": [
            "MMRAcquisitionAuctionAveragePrice\n"
          ]
        },
        {
          "output_type": "display_data",
          "data": {
            "image/png": "[encoded data removed]",
            "text/plain": [
              "<Figure size 414.625x360 with 1 Axes>"
            ]
          },
          "metadata": {
            "needs_background": "light"
          }
        },
        {
          "output_type": "stream",
          "name": "stdout",
          "text": [
            "MMRAcquisitionAuctionCleanPrice\n"
          ]
        },
        {
          "output_type": "display_data",
          "data": {
            "image/png": "[encoded data removed]",
            "text/plain": [
              "<Figure size 414.625x360 with 1 Axes>"
            ]
          },
          "metadata": {
            "needs_background": "light"
          }
        },
        {
          "output_type": "stream",
          "name": "stdout",
          "text": [
            "MMRAcquisitionRetailAveragePrice\n"
          ]
        },
        {
          "output_type": "display_data",
          "data": {
            "image/png": "[encoded data removed]",
            "text/plain": [
              "<Figure size 414.625x360 with 1 Axes>"
            ]
          },
          "metadata": {
            "needs_background": "light"
          }
        },
        {
          "output_type": "stream",
          "name": "stdout",
          "text": [
            "MMRAcquisitonRetailCleanPrice\n"
          ]
        },
        {
          "output_type": "display_data",
          "data": {
            "image/png": "[encoded data removed]",
            "text/plain": [
              "<Figure size 414.625x360 with 1 Axes>"
            ]
          },
          "metadata": {
            "needs_background": "light"
          }
        },
        {
          "output_type": "stream",
          "name": "stdout",
          "text": [
            "MMRCurrentAuctionAveragePrice\n"
          ]
        },
        {
          "output_type": "display_data",
          "data": {
            "image/png": "[encoded data removed]",
            "text/plain": [
              "<Figure size 414.625x360 with 1 Axes>"
            ]
          },
          "metadata": {
            "needs_background": "light"
          }
        },
        {
          "output_type": "stream",
          "name": "stdout",
          "text": [
            "MMRCurrentAuctionCleanPrice\n"
          ]
        },
        {
          "output_type": "display_data",
          "data": {
            "image/png": "[encoded data removed]",
            "text/plain": [
              "<Figure size 414.625x360 with 1 Axes>"
            ]
          },
          "metadata": {
            "needs_background": "light"
          }
        },
        {
          "output_type": "stream",
          "name": "stdout",
          "text": [
            "MMRCurrentRetailAveragePrice\n"
          ]
        },
        {
          "output_type": "display_data",
          "data": {
            "image/png": "[encoded data removed]",
            "text/plain": [
              "<Figure size 414.625x360 with 1 Axes>"
            ]
          },
          "metadata": {
            "needs_background": "light"
          }
        },
        {
          "output_type": "stream",
          "name": "stdout",
          "text": [
            "MMRCurrentRetailCleanPrice\n"
          ]
        },
        {
          "output_type": "display_data",
          "data": {
            "image/png": "[encoded data removed]",
            "text/plain": [
              "<Figure size 414.625x360 with 1 Axes>"
            ]
          },
          "metadata": {
            "needs_background": "light"
          }
        },
        {
          "output_type": "stream",
          "name": "stdout",
          "text": [
            "VehBCost\n"
          ]
        },
        {
          "output_type": "display_data",
          "data": {
            "image/png": "[encoded data removed]",
            "text/plain": [
              "<Figure size 414.625x360 with 1 Axes>"
            ]
          },
          "metadata": {
            "needs_background": "light"
          }
        },
        {
          "output_type": "stream",
          "name": "stdout",
          "text": [
            "WarrantyCost\n"
          ]
        },
        {
          "output_type": "display_data",
          "data": {
            "image/png": "[encoded data removed]",
            "text/plain": [
              "<Figure size 414.625x360 with 1 Axes>"
            ]
          },
          "metadata": {
            "needs_background": "light"
          }
        }
      ]
    },
    {
      "cell_type": "markdown",
      "metadata": {
        "id": "ju91K7Ggi8Os"
      },
      "source": [
        "**Obv:**\n",
        "\n",
        "\n",
        "*   We can see that the data for target variable is mostly overlapping for almost all numerical features.\n",
        "*   Though there is a very slight difference in the price columns\n",
        "*   Overlap means the respective features might not help in differentiating GoodBuy from BadBuy.\n",
        "\n",
        "PS: If plots are not loaded here, please check plots folder.\n",
        "\n",
        "\n",
        "\n"
      ]
    },
    {
      "cell_type": "markdown",
      "metadata": {
        "id": "B551ViSFjuF0"
      },
      "source": [
        "<h2> 2b. Categorical features</h2>"
      ]
    },
    {
      "cell_type": "markdown",
      "metadata": {
        "id": "DWfohhh8lsUP"
      },
      "source": [
        "\n",
        "\n",
        "*   Let's see how many values each cateforical column has\n",
        "\n",
        "\n"
      ]
    },
    {
      "cell_type": "code",
      "metadata": {
        "colab": {
          "base_uri": "https://localhost:8080/"
        },
        "id": "a792VW0lloRY",
        "outputId": "b22e3bc8-8d3f-46bd-ebf9-3fcf8976ddd8"
      },
      "source": [
        "for col in cat_cols:\n",
        "  print(col, train[col].value_counts().shape)"
      ],
      "execution_count": null,
      "outputs": [
        {
          "output_type": "stream",
          "name": "stdout",
          "text": [
            "Auction (3,)\n",
            "VehYear (10,)\n",
            "Make (33,)\n",
            "Model (1063,)\n",
            "Trim (134,)\n",
            "SubModel (863,)\n",
            "Color (16,)\n",
            "Transmission (3,)\n",
            "WheelTypeID (4,)\n",
            "WheelType (3,)\n",
            "Nationality (4,)\n",
            "Size (12,)\n",
            "TopThreeAmericanName (4,)\n",
            "PRIMEUNIT (2,)\n",
            "AUCGUART (3,)\n",
            "BYRNO (74,)\n",
            "VNZIP1 (153,)\n",
            "VNST (37,)\n",
            "IsOnlineSale (2,)\n"
          ]
        }
      ]
    },
    {
      "cell_type": "code",
      "metadata": {
        "colab": {
          "base_uri": "https://localhost:8080/",
          "height": 1000
        },
        "id": "BngVDPbxflqL",
        "outputId": "5a59184d-e623-4eb0-a1e3-d761d2e3fbc3"
      },
      "source": [
        "cat_cols_few = ['Auction', 'VehYear', 'Color', 'Transmission', 'WheelTypeID', 'WheelType', 'Nationality', 'Size', \\\n",
        "             'TopThreeAmericanName', 'PRIMEUNIT', 'AUCGUART', 'IsOnlineSale']\n",
        "for col in cat_cols_few:\n",
        "  sns.histplot(binwidth=0.7, x=col, hue=\"IsBadBuy\", data=train, stat=\"count\", multiple=\"stack\")\n",
        "  plt.savefig(DPATH+'/plots/'+col+'.png')\n",
        "  plt.show()\n",
        "\n",
        "  print(train[col].value_counts())\n",
        "  for value in train[col].unique():\n",
        "    df_value = train[train[col] == value]\n",
        "    length = df_value.shape[0]\n",
        "    bad_buy_perc = df_value[df_value['IsBadBuy']==1].shape[0]/length\n",
        "    print(\"value: \",value,\"bad_buy%: \", bad_buy_perc, \"good_buy%: \", 1-bad_buy_perc)"
      ],
      "execution_count": null,
      "outputs": [
        {
          "output_type": "display_data",
          "data": {
            "image/png": "[encoded data removed]",
            "text/plain": [
              "<Figure size 432x288 with 1 Axes>"
            ]
          },
          "metadata": {
            "needs_background": "light"
          }
        },
        {
          "output_type": "stream",
          "name": "stdout",
          "text": [
            "MANHEIM    41043\n",
            "OTHER      17501\n",
            "ADESA      14439\n",
            "Name: Auction, dtype: int64\n",
            "value:  ADESA bad_buy%:  0.15188032412216912 good_buy%:  0.8481196758778309\n",
            "value:  OTHER bad_buy%:  0.1181646763042112 good_buy%:  0.8818353236957888\n",
            "value:  MANHEIM bad_buy%:  0.1148795166045367 good_buy%:  0.8851204833954633\n"
          ]
        },
        {
          "output_type": "display_data",
          "data": {
            "image/png": "[encoded data removed]",
            "text/plain": [
              "<Figure size 432x288 with 1 Axes>"
            ]
          },
          "metadata": {
            "needs_background": "light"
          }
        },
        {
          "output_type": "stream",
          "name": "stdout",
          "text": [
            "2006    17043\n",
            "2005    15489\n",
            "2007    11423\n",
            "2004    10207\n",
            "2008     6885\n",
            "2003     6227\n",
            "2002     3405\n",
            "2001     1481\n",
            "2009      822\n",
            "2010        1\n",
            "Name: VehYear, dtype: int64\n",
            "value:  2006 bad_buy%:  0.0938801854133662 good_buy%:  0.9061198145866338\n",
            "value:  2004 bad_buy%:  0.15548153228176742 good_buy%:  0.8445184677182326\n",
            "value:  2005 bad_buy%:  0.13118987668668086 good_buy%:  0.8688101233133192\n",
            "value:  2007 bad_buy%:  0.07773789722489714 good_buy%:  0.9222621027751029\n",
            "value:  2001 bad_buy%:  0.28764348413234303 good_buy%:  0.712356515867657\n",
            "value:  2003 bad_buy%:  0.19431507949253252 good_buy%:  0.8056849205074674\n",
            "value:  2002 bad_buy%:  0.24023494860499267 good_buy%:  0.7597650513950074\n",
            "value:  2008 bad_buy%:  0.05591866376180102 good_buy%:  0.944081336238199\n",
            "value:  2009 bad_buy%:  0.0364963503649635 good_buy%:  0.9635036496350365\n",
            "value:  2010 bad_buy%:  0.0 good_buy%:  1.0\n"
          ]
        },
        {
          "output_type": "display_data",
          "data": {
            "image/png": "[encoded data removed]",
            "text/plain": [
              "<Figure size 432x288 with 1 Axes>"
            ]
          },
          "metadata": {
            "needs_background": "light"
          }
        },
        {
          "output_type": "stream",
          "name": "stdout",
          "text": [
            "SILVER       14883\n",
            "WHITE        12123\n",
            "BLUE         10347\n",
            "GREY          7887\n",
            "BLACK         7627\n",
            "RED           6257\n",
            "GOLD          5231\n",
            "GREEN         3194\n",
            "MAROON        2046\n",
            "BEIGE         1584\n",
            "BROWN          436\n",
            "ORANGE         415\n",
            "PURPLE         373\n",
            "YELLOW         244\n",
            "OTHER          242\n",
            "NOT AVAIL       94\n",
            "Name: Color, dtype: int64\n",
            "value:  RED bad_buy%:  0.13185232539555697 good_buy%:  0.868147674604443\n",
            "value:  WHITE bad_buy%:  0.12422667656520663 good_buy%:  0.8757733234347934\n",
            "value:  MAROON bad_buy%:  0.1270772238514174 good_buy%:  0.8729227761485826\n",
            "value:  SILVER bad_buy%:  0.12389975139420815 good_buy%:  0.8761002486057918\n",
            "value:  BLACK bad_buy%:  0.11249508325685066 good_buy%:  0.8875049167431494\n",
            "value:  GOLD bad_buy%:  0.14089084305104185 good_buy%:  0.8591091569489582\n",
            "value:  GREY bad_buy%:  0.11550652973247115 good_buy%:  0.8844934702675289\n",
            "value:  BLUE bad_buy%:  0.11491253503430947 good_buy%:  0.8850874649656906\n",
            "value:  BEIGE bad_buy%:  0.13320707070707072 good_buy%:  0.8667929292929293\n",
            "value:  PURPLE bad_buy%:  0.15013404825737264 good_buy%:  0.8498659517426274\n",
            "value:  ORANGE bad_buy%:  0.0819277108433735 good_buy%:  0.9180722891566265\n",
            "value:  GREEN bad_buy%:  0.1258609893550407 good_buy%:  0.8741390106449594\n",
            "value:  BROWN bad_buy%:  0.12844036697247707 good_buy%:  0.8715596330275229\n",
            "value:  YELLOW bad_buy%:  0.13934426229508196 good_buy%:  0.860655737704918\n",
            "value:  NOT AVAIL bad_buy%:  0.2553191489361702 good_buy%:  0.7446808510638299\n",
            "value:  OTHER bad_buy%:  0.11983471074380166 good_buy%:  0.8801652892561983\n"
          ]
        },
        {
          "output_type": "display_data",
          "data": {
            "image/png": "[encoded data removed]",
            "text/plain": [
              "<Figure size 432x288 with 1 Axes>"
            ]
          },
          "metadata": {
            "needs_background": "light"
          }
        },
        {
          "output_type": "stream",
          "name": "stdout",
          "text": [
            "AUTO      70407\n",
            "MANUAL     2575\n",
            "Manual        1\n",
            "Name: Transmission, dtype: int64\n",
            "value:  AUTO bad_buy%:  0.12324058687346429 good_buy%:  0.8767594131265357\n",
            "value:  MANUAL bad_buy%:  0.11611650485436893 good_buy%:  0.883883495145631\n",
            "value:  Manual bad_buy%:  0.0 good_buy%:  1.0\n"
          ]
        },
        {
          "output_type": "display_data",
          "data": {
            "image/png": "[encoded data removed]",
            "text/plain": [
              "<Figure size 432x288 with 1 Axes>"
            ]
          },
          "metadata": {
            "needs_background": "light"
          }
        },
        {
          "output_type": "stream",
          "name": "stdout",
          "text": [
            "1.0    39219\n",
            "2.0    33004\n",
            "3.0      755\n",
            "0.0        5\n",
            "Name: WheelTypeID, dtype: int64\n",
            "value:  1.0 bad_buy%:  0.1586220964328514 good_buy%:  0.8413779035671486\n",
            "value:  2.0 bad_buy%:  0.08044479457035511 good_buy%:  0.9195552054296449\n",
            "value:  3.0 bad_buy%:  0.13112582781456952 good_buy%:  0.8688741721854305\n",
            "value:  0.0 bad_buy%:  0.2 good_buy%:  0.8\n"
          ]
        },
        {
          "output_type": "display_data",
          "data": {
            "image/png": "[encoded data removed]",
            "text/plain": [
              "<Figure size 432x288 with 1 Axes>"
            ]
          },
          "metadata": {
            "needs_background": "light"
          }
        },
        {
          "output_type": "stream",
          "name": "stdout",
          "text": [
            "Alloy      39224\n",
            "Covers     33004\n",
            "Special      755\n",
            "Name: WheelType, dtype: int64\n",
            "value:  Alloy bad_buy%:  0.15862737099734855 good_buy%:  0.8413726290026514\n",
            "value:  Covers bad_buy%:  0.08044479457035511 good_buy%:  0.9195552054296449\n",
            "value:  Special bad_buy%:  0.13112582781456952 good_buy%:  0.8688741721854305\n"
          ]
        },
        {
          "output_type": "display_data",
          "data": {
            "image/png": "[encoded data removed]",
            "text/plain": [
              "<Figure size 432x288 with 1 Axes>"
            ]
          },
          "metadata": {
            "needs_background": "light"
          }
        },
        {
          "output_type": "stream",
          "name": "stdout",
          "text": [
            "AMERICAN          61033\n",
            "OTHER ASIAN        8033\n",
            "TOP LINE ASIAN     3722\n",
            "OTHER               195\n",
            "Name: Nationality, dtype: int64\n",
            "value:  OTHER ASIAN bad_buy%:  0.13208016930163077 good_buy%:  0.8679198306983692\n",
            "value:  AMERICAN bad_buy%:  0.12103288384972065 good_buy%:  0.8789671161502793\n",
            "value:  TOP LINE ASIAN bad_buy%:  0.13460505104782375 good_buy%:  0.8653949489521763\n",
            "value:  OTHER bad_buy%:  0.13846153846153847 good_buy%:  0.8615384615384616\n"
          ]
        },
        {
          "output_type": "display_data",
          "data": {
            "image/png": "[encoded data removed]",
            "text/plain": [
              "<Figure size 432x288 with 1 Axes>"
            ]
          },
          "metadata": {
            "needs_background": "light"
          }
        },
        {
          "output_type": "stream",
          "name": "stdout",
          "text": [
            "MEDIUM         30790\n",
            "LARGE           8850\n",
            "MEDIUM SUV      8090\n",
            "COMPACT         7205\n",
            "VAN             5854\n",
            "LARGE TRUCK     3170\n",
            "SMALL SUV       2276\n",
            "SPECIALTY       1915\n",
            "CROSSOVER       1759\n",
            "LARGE SUV       1433\n",
            "SMALL TRUCK      864\n",
            "SPORTS           777\n",
            "Name: Size, dtype: int64\n",
            "value:  MEDIUM bad_buy%:  0.11500487171159467 good_buy%:  0.8849951282884053\n",
            "value:  LARGE TRUCK bad_buy%:  0.11356466876971609 good_buy%:  0.886435331230284\n",
            "value:  COMPACT bad_buy%:  0.1589174184594032 good_buy%:  0.8410825815405968\n",
            "value:  LARGE bad_buy%:  0.09242937853107344 good_buy%:  0.9075706214689265\n",
            "value:  VAN bad_buy%:  0.12743423300307483 good_buy%:  0.8725657669969251\n",
            "value:  MEDIUM SUV bad_buy%:  0.14746600741656365 good_buy%:  0.8525339925834363\n",
            "value:  LARGE SUV bad_buy%:  0.16189811584089323 good_buy%:  0.8381018841591068\n",
            "value:  SPECIALTY bad_buy%:  0.09190600522193211 good_buy%:  0.9080939947780678\n",
            "value:  SPORTS bad_buy%:  0.18532818532818532 good_buy%:  0.8146718146718147\n",
            "value:  CROSSOVER bad_buy%:  0.10403638430926662 good_buy%:  0.8959636156907334\n",
            "value:  SMALL SUV bad_buy%:  0.1375219683655536 good_buy%:  0.8624780316344464\n",
            "value:  SMALL TRUCK bad_buy%:  0.14467592592592593 good_buy%:  0.8553240740740741\n"
          ]
        },
        {
          "output_type": "display_data",
          "data": {
            "image/png": "[encoded data removed]",
            "text/plain": [
              "<Figure size 432x288 with 1 Axes>"
            ]
          },
          "metadata": {
            "needs_background": "light"
          }
        },
        {
          "output_type": "stream",
          "name": "stdout",
          "text": [
            "GM          25319\n",
            "CHRYSLER    23399\n",
            "FORD        12315\n",
            "OTHER       11950\n",
            "Name: TopThreeAmericanName, dtype: int64\n",
            "value:  OTHER bad_buy%:  0.13297071129707114 good_buy%:  0.8670292887029288\n",
            "value:  CHRYSLER bad_buy%:  0.11645796828924312 good_buy%:  0.8835420317107568\n",
            "value:  FORD bad_buy%:  0.156394640682095 good_buy%:  0.843605359317905\n",
            "value:  GM bad_buy%:  0.10806113985544452 good_buy%:  0.8919388601445555\n"
          ]
        },
        {
          "output_type": "display_data",
          "data": {
            "image/png": "[encoded data removed]",
            "text/plain": [
              "<Figure size 432x288 with 1 Axes>"
            ]
          },
          "metadata": {
            "needs_background": "light"
          }
        },
        {
          "output_type": "stream",
          "name": "stdout",
          "text": [
            "NO     72921\n",
            "YES       62\n",
            "Name: PRIMEUNIT, dtype: int64\n",
            "value:  NO bad_buy%:  0.12300983255852224 good_buy%:  0.8769901674414777\n",
            "value:  YES bad_buy%:  0.0967741935483871 good_buy%:  0.9032258064516129\n"
          ]
        },
        {
          "output_type": "display_data",
          "data": {
            "image/png": "[encoded data removed]",
            "text/plain": [
              "<Figure size 432x288 with 1 Axes>"
            ]
          },
          "metadata": {
            "needs_background": "light"
          }
        },
        {
          "output_type": "stream",
          "name": "stdout",
          "text": [
            "Other    69564\n",
            "GREEN     3340\n",
            "RED         79\n",
            "Name: AUCGUART, dtype: int64\n",
            "value:  Other bad_buy%:  0.1271203496061181 good_buy%:  0.8728796503938819\n",
            "value:  GREEN bad_buy%:  0.0374251497005988 good_buy%:  0.9625748502994012\n",
            "value:  RED bad_buy%:  0.10126582278481013 good_buy%:  0.8987341772151899\n"
          ]
        },
        {
          "output_type": "display_data",
          "data": {
            "image/png": "[encoded data removed]",
            "text/plain": [
              "<Figure size 432x288 with 1 Axes>"
            ]
          },
          "metadata": {
            "needs_background": "light"
          }
        },
        {
          "output_type": "stream",
          "name": "stdout",
          "text": [
            "0    71138\n",
            "1     1845\n",
            "Name: IsOnlineSale, dtype: int64\n",
            "value:  0 bad_buy%:  0.12318310888695212 good_buy%:  0.8768168911130478\n",
            "value:  1 bad_buy%:  0.11544715447154472 good_buy%:  0.8845528455284553\n"
          ]
        }
      ]
    },
    {
      "cell_type": "markdown",
      "metadata": {
        "id": "IRi0uc7psUyD"
      },
      "source": [
        "**Observation:**\n",
        "\n",
        "\n",
        "*   Few categorical variable has too many values(Model, SubModel, etc.,)\n",
        "*   Like numerical features categorical feature values are also mostly **skewly distributed** like how whole dataset is.(observe percentages) except for AUCGUART(=Green)\n",
        "\n",
        "*   There is only one row for **VehYear**(=2010).\n",
        "*   Two definitions for same value for column **Transmission**(MANUAL,Manual)\n",
        "*   Missing data for PRIMEUNIT, which could have been an important feature as we can see 90% of Prime units are a good buy.\n",
        "*   No values for AUCGUART=Yellow both in test and train\n",
        "\n",
        "\n",
        "\n",
        "\n",
        "PS: If plots are not loaded here, please check plots folder.\n"
      ]
    },
    {
      "cell_type": "code",
      "metadata": {
        "colab": {
          "base_uri": "https://localhost:8080/"
        },
        "id": "7JCOStWvoRJK",
        "outputId": "d79374c2-6da6-45c1-bc2d-0cff414a2bdf"
      },
      "source": [
        "test['VehYear'].value_counts()"
      ],
      "execution_count": null,
      "outputs": [
        {
          "output_type": "execute_result",
          "data": {
            "text/plain": [
              "2006    11325\n",
              "2005    10172\n",
              "2007     8286\n",
              "2004     6710\n",
              "2008     4165\n",
              "2003     4162\n",
              "2002     2338\n",
              "2001     1050\n",
              "2009      491\n",
              "2010        8\n",
              "Name: VehYear, dtype: int64"
            ]
          },
          "metadata": {},
          "execution_count": 184
        }
      ]
    },
    {
      "cell_type": "markdown",
      "metadata": {
        "id": "Ihd2qSh8t8Og"
      },
      "source": [
        "\n",
        "\n",
        "*   Since, there are few rows for VehYear=2010 in test dataset, I am leaving that row as is in the train dataset\n",
        "\n",
        "\n"
      ]
    },
    {
      "cell_type": "code",
      "metadata": {
        "colab": {
          "base_uri": "https://localhost:8080/"
        },
        "id": "WQnmPAjEhd9_",
        "outputId": "bbbbbf56-a6bb-4d6b-d933-20cfccc6d7ad"
      },
      "source": [
        "test['Transmission'].value_counts()"
      ],
      "execution_count": null,
      "outputs": [
        {
          "output_type": "execute_result",
          "data": {
            "text/plain": [
              "AUTO      47010\n",
              "MANUAL     1694\n",
              "Name: Transmission, dtype: int64"
            ]
          },
          "metadata": {},
          "execution_count": 185
        }
      ]
    },
    {
      "cell_type": "code",
      "metadata": {
        "id": "yxPNvOVqujbO"
      },
      "source": [
        "train.loc[train.Transmission == 'Manual', 'Transmission'] = 'MANUAL'"
      ],
      "execution_count": null,
      "outputs": []
    },
    {
      "cell_type": "code",
      "metadata": {
        "colab": {
          "base_uri": "https://localhost:8080/"
        },
        "id": "cE8njQGHwMw7",
        "outputId": "6b2410ee-5bdd-474c-d705-0a08eb01bc03"
      },
      "source": [
        "train['Transmission'].value_counts()"
      ],
      "execution_count": null,
      "outputs": [
        {
          "output_type": "execute_result",
          "data": {
            "text/plain": [
              "AUTO      70407\n",
              "MANUAL     2576\n",
              "Name: Transmission, dtype: int64"
            ]
          },
          "metadata": {},
          "execution_count": 54
        }
      ]
    },
    {
      "cell_type": "markdown",
      "metadata": {
        "id": "mpGTSyYiJcJA"
      },
      "source": [
        "<h2>2b.1 Remaining categorical features</h2>"
      ]
    },
    {
      "cell_type": "markdown",
      "metadata": {
        "id": "sGPYsJESwb9d"
      },
      "source": [
        "\n",
        "\n",
        "*   Let's observe MAKE feature\n",
        "\n",
        "\n"
      ]
    },
    {
      "cell_type": "code",
      "metadata": {
        "colab": {
          "base_uri": "https://localhost:8080/"
        },
        "id": "dzL508cNmS_9",
        "outputId": "e7ae2710-706e-462c-c5af-34f387054b2c"
      },
      "source": [
        "print(train['Make'].value_counts())\n",
        "for value in train['Make'].unique():\n",
        "  df_value = train[train['Make'] == value]\n",
        "  length = df_value.shape[0]\n",
        "  print(\"\\Manufacturer: \", value, \"#rows:\",length)\n",
        "  bad_buy_perc = df_value[df_value['IsBadBuy']==1].shape[0]/length\n",
        "  print(\"value: \",value,\"bad_buy%: \", bad_buy_perc, \"good_buy%: \", 1-bad_buy_perc)"
      ],
      "execution_count": null,
      "outputs": [
        {
          "output_type": "stream",
          "name": "stdout",
          "text": [
            "CHEVROLET       17248\n",
            "DODGE           12912\n",
            "FORD            11305\n",
            "CHRYSLER         8844\n",
            "PONTIAC          4258\n",
            "KIA              2484\n",
            "SATURN           2163\n",
            "NISSAN           2085\n",
            "HYUNDAI          1811\n",
            "JEEP             1644\n",
            "SUZUKI           1328\n",
            "TOYOTA           1144\n",
            "MITSUBISHI       1030\n",
            "MAZDA             979\n",
            "MERCURY           913\n",
            "BUICK             720\n",
            "GMC               649\n",
            "HONDA             497\n",
            "OLDSMOBILE        243\n",
            "VOLKSWAGEN        134\n",
            "ISUZU             134\n",
            "SCION             129\n",
            "LINCOLN            97\n",
            "INFINITI           42\n",
            "VOLVO              37\n",
            "CADILLAC           33\n",
            "ACURA              33\n",
            "LEXUS              31\n",
            "SUBARU             28\n",
            "MINI               24\n",
            "PLYMOUTH            2\n",
            "TOYOTA SCION        1\n",
            "HUMMER              1\n",
            "Name: Make, dtype: int64\n",
            "\\Manufacturer:  MAZDA #rows: 979\n",
            "value:  MAZDA bad_buy%:  0.16138917262512767 good_buy%:  0.8386108273748724\n",
            "\\Manufacturer:  DODGE #rows: 12912\n",
            "value:  DODGE bad_buy%:  0.10323729863692689 good_buy%:  0.8967627013630731\n",
            "\\Manufacturer:  FORD #rows: 11305\n",
            "value:  FORD bad_buy%:  0.15409111012826182 good_buy%:  0.8459088898717382\n",
            "\\Manufacturer:  MITSUBISHI #rows: 1030\n",
            "value:  MITSUBISHI bad_buy%:  0.11941747572815534 good_buy%:  0.8805825242718447\n",
            "\\Manufacturer:  KIA #rows: 2484\n",
            "value:  KIA bad_buy%:  0.11755233494363929 good_buy%:  0.8824476650563607\n",
            "\\Manufacturer:  GMC #rows: 649\n",
            "value:  GMC bad_buy%:  0.11556240369799692 good_buy%:  0.884437596302003\n",
            "\\Manufacturer:  NISSAN #rows: 2085\n",
            "value:  NISSAN bad_buy%:  0.15971223021582734 good_buy%:  0.8402877697841726\n",
            "\\Manufacturer:  CHEVROLET #rows: 17248\n",
            "value:  CHEVROLET bad_buy%:  0.09746057513914656 good_buy%:  0.9025394248608535\n",
            "\\Manufacturer:  SATURN #rows: 2163\n",
            "value:  SATURN bad_buy%:  0.14147018030513175 good_buy%:  0.8585298196948683\n",
            "\\Manufacturer:  CHRYSLER #rows: 8844\n",
            "value:  CHRYSLER bad_buy%:  0.128561736770692 good_buy%:  0.8714382632293081\n",
            "\\Manufacturer:  MERCURY #rows: 913\n",
            "value:  MERCURY bad_buy%:  0.16976998904709747 good_buy%:  0.8302300109529025\n",
            "\\Manufacturer:  HYUNDAI #rows: 1811\n",
            "value:  HYUNDAI bad_buy%:  0.12865819988956378 good_buy%:  0.8713418001104363\n",
            "\\Manufacturer:  TOYOTA #rows: 1144\n",
            "value:  TOYOTA bad_buy%:  0.09965034965034965 good_buy%:  0.9003496503496503\n",
            "\\Manufacturer:  PONTIAC #rows: 4258\n",
            "value:  PONTIAC bad_buy%:  0.11906998590887741 good_buy%:  0.8809300140911226\n",
            "\\Manufacturer:  SUZUKI #rows: 1328\n",
            "value:  SUZUKI bad_buy%:  0.14683734939759036 good_buy%:  0.8531626506024097\n",
            "\\Manufacturer:  JEEP #rows: 1644\n",
            "value:  JEEP bad_buy%:  0.15450121654501217 good_buy%:  0.8454987834549879\n",
            "\\Manufacturer:  HONDA #rows: 497\n",
            "value:  HONDA bad_buy%:  0.10865191146881288 good_buy%:  0.8913480885311871\n",
            "\\Manufacturer:  OLDSMOBILE #rows: 243\n",
            "value:  OLDSMOBILE bad_buy%:  0.20164609053497942 good_buy%:  0.7983539094650206\n",
            "\\Manufacturer:  BUICK #rows: 720\n",
            "value:  BUICK bad_buy%:  0.15694444444444444 good_buy%:  0.8430555555555556\n",
            "\\Manufacturer:  SCION #rows: 129\n",
            "value:  SCION bad_buy%:  0.08527131782945736 good_buy%:  0.9147286821705426\n",
            "\\Manufacturer:  VOLKSWAGEN #rows: 134\n",
            "value:  VOLKSWAGEN bad_buy%:  0.1417910447761194 good_buy%:  0.8582089552238806\n",
            "\\Manufacturer:  ISUZU #rows: 134\n",
            "value:  ISUZU bad_buy%:  0.06716417910447761 good_buy%:  0.9328358208955224\n",
            "\\Manufacturer:  LINCOLN #rows: 97\n",
            "value:  LINCOLN bad_buy%:  0.29896907216494845 good_buy%:  0.7010309278350515\n",
            "\\Manufacturer:  MINI #rows: 24\n",
            "value:  MINI bad_buy%:  0.3333333333333333 good_buy%:  0.6666666666666667\n",
            "\\Manufacturer:  SUBARU #rows: 28\n",
            "value:  SUBARU bad_buy%:  0.21428571428571427 good_buy%:  0.7857142857142857\n",
            "\\Manufacturer:  CADILLAC #rows: 33\n",
            "value:  CADILLAC bad_buy%:  0.15151515151515152 good_buy%:  0.8484848484848485\n",
            "\\Manufacturer:  VOLVO #rows: 37\n",
            "value:  VOLVO bad_buy%:  0.0 good_buy%:  1.0\n",
            "\\Manufacturer:  INFINITI #rows: 42\n",
            "value:  INFINITI bad_buy%:  0.3333333333333333 good_buy%:  0.6666666666666667\n",
            "\\Manufacturer:  PLYMOUTH #rows: 2\n",
            "value:  PLYMOUTH bad_buy%:  0.5 good_buy%:  0.5\n",
            "\\Manufacturer:  LEXUS #rows: 31\n",
            "value:  LEXUS bad_buy%:  0.3548387096774194 good_buy%:  0.6451612903225806\n",
            "\\Manufacturer:  ACURA #rows: 33\n",
            "value:  ACURA bad_buy%:  0.2727272727272727 good_buy%:  0.7272727272727273\n",
            "\\Manufacturer:  TOYOTA SCION #rows: 1\n",
            "value:  TOYOTA SCION bad_buy%:  0.0 good_buy%:  1.0\n",
            "\\Manufacturer:  HUMMER #rows: 1\n",
            "value:  HUMMER bad_buy%:  0.0 good_buy%:  1.0\n"
          ]
        }
      ]
    },
    {
      "cell_type": "markdown",
      "metadata": {
        "id": "Mdm6ydYPMOlc"
      },
      "source": [
        "<h2>VNST analysis</h2>"
      ]
    },
    {
      "cell_type": "code",
      "metadata": {
        "colab": {
          "base_uri": "https://localhost:8080/"
        },
        "id": "O6HJCbYOMNEz",
        "outputId": "4e8b28f4-c07e-4fe4-b5fa-0fe071551ca5"
      },
      "source": [
        "print(train['VNST'].value_counts())\n",
        "for value in train['VNST'].unique():\n",
        "  df_value = train[train['VNST'] == value]\n",
        "  length = df_value.shape[0]\n",
        "  print(\"\\nstate: \", value, \"#rows:\",length)\n",
        "  bad_buy_perc = df_value[df_value['IsBadBuy']==1].shape[0]/length\n",
        "  print(\"value: \",value,\"bad_buy%: \", bad_buy_perc, \"good_buy%: \", 1-bad_buy_perc)"
      ],
      "execution_count": null,
      "outputs": [
        {
          "output_type": "stream",
          "name": "stdout",
          "text": [
            "TX    13596\n",
            "FL    10447\n",
            "CA     7095\n",
            "NC     7042\n",
            "AZ     6174\n",
            "CO     4998\n",
            "SC     4280\n",
            "OK     3594\n",
            "GA     2450\n",
            "TN     1764\n",
            "VA     1662\n",
            "MD     1158\n",
            "UT      875\n",
            "PA      847\n",
            "OH      795\n",
            "MO      758\n",
            "AL      690\n",
            "NV      562\n",
            "IA      499\n",
            "MS      493\n",
            "IN      486\n",
            "IL      458\n",
            "LA      349\n",
            "NJ      317\n",
            "WV      292\n",
            "NM      239\n",
            "KY      230\n",
            "OR      211\n",
            "ID      196\n",
            "WA      136\n",
            "NH       97\n",
            "AR       70\n",
            "MN       62\n",
            "NE       26\n",
            "MA       15\n",
            "MI       14\n",
            "NY        6\n",
            "Name: VNST, dtype: int64\n",
            "\n",
            "state:  FL #rows: 10447\n",
            "value:  FL bad_buy%:  0.10931367856800996 good_buy%:  0.89068632143199\n",
            "\n",
            "state:  VA #rows: 1662\n",
            "value:  VA bad_buy%:  0.1582430806257521 good_buy%:  0.8417569193742479\n",
            "\n",
            "state:  IA #rows: 499\n",
            "value:  IA bad_buy%:  0.1462925851703407 good_buy%:  0.8537074148296593\n",
            "\n",
            "state:  AR #rows: 70\n",
            "value:  AR bad_buy%:  0.22857142857142856 good_buy%:  0.7714285714285715\n",
            "\n",
            "state:  MN #rows: 62\n",
            "value:  MN bad_buy%:  0.03225806451612903 good_buy%:  0.967741935483871\n",
            "\n",
            "state:  TN #rows: 1764\n",
            "value:  TN bad_buy%:  0.11507936507936507 good_buy%:  0.8849206349206349\n",
            "\n",
            "state:  PA #rows: 847\n",
            "value:  PA bad_buy%:  0.17355371900826447 good_buy%:  0.8264462809917356\n",
            "\n",
            "state:  OH #rows: 795\n",
            "value:  OH bad_buy%:  0.08427672955974842 good_buy%:  0.9157232704402516\n",
            "\n",
            "state:  AL #rows: 690\n",
            "value:  AL bad_buy%:  0.12753623188405797 good_buy%:  0.8724637681159421\n",
            "\n",
            "state:  MI #rows: 14\n",
            "value:  MI bad_buy%:  0.07142857142857142 good_buy%:  0.9285714285714286\n",
            "\n",
            "state:  TX #rows: 13596\n",
            "value:  TX bad_buy%:  0.13805531038540747 good_buy%:  0.8619446896145926\n",
            "\n",
            "state:  IL #rows: 458\n",
            "value:  IL bad_buy%:  0.1462882096069869 good_buy%:  0.8537117903930131\n",
            "\n",
            "state:  MA #rows: 15\n",
            "value:  MA bad_buy%:  0.13333333333333333 good_buy%:  0.8666666666666667\n",
            "\n",
            "state:  AZ #rows: 6174\n",
            "value:  AZ bad_buy%:  0.11402656300615484 good_buy%:  0.8859734369938451\n",
            "\n",
            "state:  GA #rows: 2450\n",
            "value:  GA bad_buy%:  0.11142857142857143 good_buy%:  0.8885714285714286\n",
            "\n",
            "state:  NC #rows: 7042\n",
            "value:  NC bad_buy%:  0.11346208463504687 good_buy%:  0.8865379153649531\n",
            "\n",
            "state:  MD #rows: 1158\n",
            "value:  MD bad_buy%:  0.14248704663212436 good_buy%:  0.8575129533678756\n",
            "\n",
            "state:  CA #rows: 7095\n",
            "value:  CA bad_buy%:  0.13403805496828752 good_buy%:  0.8659619450317124\n",
            "\n",
            "state:  UT #rows: 875\n",
            "value:  UT bad_buy%:  0.12114285714285715 good_buy%:  0.8788571428571429\n",
            "\n",
            "state:  OR #rows: 211\n",
            "value:  OR bad_buy%:  0.061611374407582936 good_buy%:  0.9383886255924171\n",
            "\n",
            "state:  SC #rows: 4280\n",
            "value:  SC bad_buy%:  0.13878504672897196 good_buy%:  0.861214953271028\n",
            "\n",
            "state:  CO #rows: 4998\n",
            "value:  CO bad_buy%:  0.1208483393357343 good_buy%:  0.8791516606642658\n",
            "\n",
            "state:  ID #rows: 196\n",
            "value:  ID bad_buy%:  0.09693877551020408 good_buy%:  0.903061224489796\n",
            "\n",
            "state:  NV #rows: 562\n",
            "value:  NV bad_buy%:  0.1601423487544484 good_buy%:  0.8398576512455516\n",
            "\n",
            "state:  WV #rows: 292\n",
            "value:  WV bad_buy%:  0.09931506849315068 good_buy%:  0.9006849315068494\n",
            "\n",
            "state:  MS #rows: 493\n",
            "value:  MS bad_buy%:  0.09330628803245436 good_buy%:  0.9066937119675457\n",
            "\n",
            "state:  OK #rows: 3594\n",
            "value:  OK bad_buy%:  0.09209794101279911 good_buy%:  0.9079020589872009\n",
            "\n",
            "state:  NM #rows: 239\n",
            "value:  NM bad_buy%:  0.12133891213389121 good_buy%:  0.8786610878661087\n",
            "\n",
            "state:  LA #rows: 349\n",
            "value:  LA bad_buy%:  0.1489971346704871 good_buy%:  0.8510028653295129\n",
            "\n",
            "state:  IN #rows: 486\n",
            "value:  IN bad_buy%:  0.13991769547325103 good_buy%:  0.8600823045267489\n",
            "\n",
            "state:  MO #rows: 758\n",
            "value:  MO bad_buy%:  0.10817941952506596 good_buy%:  0.8918205804749341\n",
            "\n",
            "state:  WA #rows: 136\n",
            "value:  WA bad_buy%:  0.058823529411764705 good_buy%:  0.9411764705882353\n",
            "\n",
            "state:  NH #rows: 97\n",
            "value:  NH bad_buy%:  0.09278350515463918 good_buy%:  0.9072164948453608\n",
            "\n",
            "state:  NJ #rows: 317\n",
            "value:  NJ bad_buy%:  0.12618296529968454 good_buy%:  0.8738170347003155\n",
            "\n",
            "state:  NY #rows: 6\n",
            "value:  NY bad_buy%:  0.0 good_buy%:  1.0\n",
            "\n",
            "state:  NE #rows: 26\n",
            "value:  NE bad_buy%:  0.038461538461538464 good_buy%:  0.9615384615384616\n",
            "\n",
            "state:  KY #rows: 230\n",
            "value:  KY bad_buy%:  0.06521739130434782 good_buy%:  0.9347826086956522\n"
          ]
        }
      ]
    },
    {
      "cell_type": "markdown",
      "metadata": {
        "id": "KgdNfK9a2iyh"
      },
      "source": [
        "**Observation:**\n",
        "\n",
        "\n",
        "*   Too many values for few features.\n",
        "*   and for each such feature,  many values has fewer rows.\n",
        "*   and no value is highly distinguishing a good buy from bad buy\n",
        "\n",
        "\n",
        "\n"
      ]
    },
    {
      "cell_type": "markdown",
      "metadata": {
        "id": "R3tLgJic5I5Z"
      },
      "source": [
        "<h1>3. Derived features</h1>"
      ]
    },
    {
      "cell_type": "markdown",
      "metadata": {
        "id": "o2kmCkVN5QLw"
      },
      "source": [
        "\n",
        "\n",
        "\n",
        "*   **KickDate, AcquisitionType** are missing in the data, from which few valuable insights can be derived.\n",
        "*   List item\n",
        "\n",
        "\n",
        "\n",
        "\n",
        "\n"
      ]
    },
    {
      "cell_type": "markdown",
      "metadata": {
        "id": "PYcXBahhKXl2"
      },
      "source": [
        "<h3>Let's do some analysis on the price columns</h3>"
      ]
    },
    {
      "cell_type": "code",
      "metadata": {
        "colab": {
          "base_uri": "https://localhost:8080/"
        },
        "id": "NyUPUBO-MOML",
        "outputId": "60882e1d-a851-49d6-dc39-032c712cfbd6"
      },
      "source": [
        "train[train.MMRAcquisitionAuctionAveragePrice > train.MMRAcquisitionRetailAveragePrice]['IsBadBuy'].value_counts()"
      ],
      "execution_count": null,
      "outputs": [
        {
          "output_type": "execute_result",
          "data": {
            "text/plain": [
              "Series([], Name: IsBadBuy, dtype: int64)"
            ]
          },
          "metadata": {},
          "execution_count": 232
        }
      ]
    },
    {
      "cell_type": "code",
      "metadata": {
        "colab": {
          "base_uri": "https://localhost:8080/"
        },
        "id": "b05EUuFiMOPP",
        "outputId": "1ddfc31e-ee78-4c54-c995-afc77756a93a"
      },
      "source": [
        "train[train.MMRAcquisitionAuctionCleanPrice > train.MMRAcquisitonRetailCleanPrice].value_counts()"
      ],
      "execution_count": null,
      "outputs": [
        {
          "output_type": "execute_result",
          "data": {
            "text/plain": [
              "RefId  IsBadBuy  PurchDate  Auction  VehYear  VehicleAge  Make       Model                 Trim  SubModel             Color   Transmission  WheelTypeID  WheelType  VehOdo  Nationality  Size         TopThreeAmericanName  MMRAcquisitionAuctionAveragePrice  MMRAcquisitionAuctionCleanPrice  MMRAcquisitionRetailAveragePrice  MMRAcquisitonRetailCleanPrice  MMRCurrentAuctionAveragePrice  MMRCurrentAuctionCleanPrice  MMRCurrentRetailAveragePrice  MMRCurrentRetailCleanPrice  PRIMEUNIT  AUCGUART  BYRNO  VNZIP1  VNST  VehBCost  IsOnlineSale  WarrantyCost\n",
              "72508  0         2/25/2009  ADESA    2007     2           CHEVROLET  UPLANDER FWD V6 3.9L  LS    PASSENGER EXT 3.5L   SILVER  AUTO          1.0          Alloy      64665   AMERICAN     VAN          GM                    0.0                                1.0                              0.0                               0.0                            0.0                            1.0                          0.0                           0.0                         NO         Other     18111  30212   GA    6850.0    0             1801            1\n",
              "22073  0         2/11/2009  MANHEIM  2005     4           PONTIAC    MONTANA FWD 3.5L V6   SV6   4D MINIVAN EXT 3.5L  BEIGE   AUTO          1.0          Alloy      40803   AMERICAN     VAN          GM                    0.0                                1.0                              0.0                               0.0                            0.0                            1.0                          0.0                           0.0                         NO         Other     23359  92807   CA    6105.0    0             2922            1\n",
              "22911  1         1/8/2009   MANHEIM  2004     5           GMC        1500 SIERRA PICKUP 2  SLE   EXT CAB 5.3L SLE     RED     AUTO          1.0          Alloy      75231   AMERICAN     LARGE TRUCK  GM                    0.0                                1.0                              0.0                               0.0                            0.0                            1.0                          0.0                           0.0                         NO         Other     18881  29532   SC    8190.0    0             1155            1\n",
              "25081  0         2/19/2009  OTHER    2006     3           PONTIAC    MONTANA FWD 3.5L V6   SV6   4D MINIVAN EXT 3.5L  SILVER  AUTO          1.0          Alloy      82413   AMERICAN     VAN          GM                    0.0                                1.0                              0.0                               0.0                            0.0                            1.0                          0.0                           0.0                         NO         Other     8655   38637   MS    6005.0    0             2282            1\n",
              "25368  0         1/6/2009   MANHEIM  2005     4           GMC        1500 SIERRA PICKUP 2  SLE   EXT CAB 4.3L SLE     RED     AUTO          1.0          Alloy      92200   AMERICAN     LARGE TRUCK  GM                    0.0                                1.0                              0.0                               0.0                            0.0                            1.0                          0.0                           0.0                         NO         Other     17212  75050   TX    7965.0    0             1485            1\n",
              "                                                                                                                                                                                                                                                                                                                                                                                                                                                                                                                                                                        ..\n",
              "51241  0         3/25/2009  MANHEIM  2001     8           FORD       F150 PICKUP 4WD V8    Lar   EXT CAB 4.6L XLT     GREEN   AUTO          1.0          Alloy      64976   AMERICAN     LARGE TRUCK  FORD                  0.0                                1.0                              0.0                               0.0                            0.0                            1.0                          0.0                           0.0                         NO         Other     3453   80011   CO    8205.0    0             1613            1\n",
              "56809  0         3/10/2009  MANHEIM  2004     5           DODGE      DAKOTA PICKUP 2WD V6  Spo   EXT CAB 3.7L         GREY    AUTO          1.0          Alloy      69529   AMERICAN     SMALL TRUCK  CHRYSLER              0.0                                1.0                              0.0                               0.0                            3191.0                         4225.0                       3946.0                        5063.0                      NO         Other     16926  92504   CA    6895.0    0             1020            1\n",
              "56820  1         3/17/2009  MANHEIM  2005     4           CHRYSLER   PACIFICA FWD 3.8L V6  Bas   4D SPORT             RED     AUTO          1.0          Alloy      43995   AMERICAN     CROSSOVER    CHRYSLER              0.0                                1.0                              0.0                               0.0                            0.0                            1.0                          0.0                           0.0                         NO         Other     16926  92504   CA    8995.0    0             975             1\n",
              "57114  0         1/21/2009  MANHEIM  2004     5           CHRYSLER   SEBRING V6 3.0L V6 M  Lim   2D COUPE LIMTED      SILVER  AUTO          2.0          Covers     72111   AMERICAN     MEDIUM       CHRYSLER              0.0                                1.0                              0.0                               0.0                            0.0                            1.0                          0.0                           0.0                         NO         Other     16926  92057   CA    5190.0    0             1272            1\n",
              "1249   1         3/17/2009  ADESA    2004     5           SUZUKI     GRAND VITARA 2WD 2.5  LX    4D HARDTOP EX        SILVER  AUTO          1.0          Alloy      46609   OTHER ASIAN  MEDIUM SUV   OTHER                 0.0                                1.0                              0.0                               0.0                            0.0                            1.0                          0.0                           0.0                         NO         Other     8655   38118   TN    5235.0    0             834             1\n",
              "Length: 131, dtype: int64"
            ]
          },
          "metadata": {},
          "execution_count": 234
        }
      ]
    },
    {
      "cell_type": "markdown",
      "metadata": {
        "id": "oM2SVzUcL9CG"
      },
      "source": [
        "\n",
        "\n",
        "*   We can see few entries has MMRAcquisitionAuctionAveragePrice = 0.0, must be a data anamoly\n",
        "\n"
      ]
    },
    {
      "cell_type": "code",
      "metadata": {
        "colab": {
          "base_uri": "https://localhost:8080/"
        },
        "id": "OHaqpgxaMIf0",
        "outputId": "9bfb8418-0e32-4283-8369-cac2ad2a9a1f"
      },
      "source": [
        "print(train[train.MMRAcquisitionAuctionAveragePrice <= 0.0].shape)\n",
        "print(train[train.MMRAcquisitionAuctionAveragePrice <= 1.0].shape)"
      ],
      "execution_count": null,
      "outputs": [
        {
          "output_type": "stream",
          "name": "stdout",
          "text": [
            "(828, 34)\n",
            "(828, 34)\n"
          ]
        }
      ]
    },
    {
      "cell_type": "code",
      "metadata": {
        "colab": {
          "base_uri": "https://localhost:8080/"
        },
        "id": "OZBzMtr_MIdI",
        "outputId": "389ade89-e4ff-45c5-d4cd-5c8e29efd1ec"
      },
      "source": [
        "print(train[train.MMRAcquisitionAuctionCleanPrice <= 0.0].shape)\n",
        "print(train[train.MMRAcquisitionAuctionCleanPrice <= 1.0].shape)"
      ],
      "execution_count": null,
      "outputs": [
        {
          "output_type": "stream",
          "name": "stdout",
          "text": [
            "(697, 34)\n",
            "(828, 34)\n"
          ]
        }
      ]
    },
    {
      "cell_type": "code",
      "metadata": {
        "colab": {
          "base_uri": "https://localhost:8080/"
        },
        "id": "YYRp1YD1MIiu",
        "outputId": "4fc896f2-d13c-4f2c-8d1a-3404754be24c"
      },
      "source": [
        "print(train[train.MMRAcquisitionRetailAveragePrice <= 0.0].shape)\n",
        "print(train[train.MMRAcquisitionRetailAveragePrice <= 1.0].shape)"
      ],
      "execution_count": null,
      "outputs": [
        {
          "output_type": "stream",
          "name": "stdout",
          "text": [
            "(828, 34)\n",
            "(828, 34)\n"
          ]
        }
      ]
    },
    {
      "cell_type": "code",
      "metadata": {
        "colab": {
          "base_uri": "https://localhost:8080/"
        },
        "id": "t3uReRC1NAE9",
        "outputId": "d5b4e718-6e5a-461b-c987-5a5b7d9e0cc6"
      },
      "source": [
        "print(train[train.MMRAcquisitonRetailCleanPrice <= 0.0].shape)\n",
        "print(train[train.MMRAcquisitonRetailCleanPrice <= 1.0].shape)"
      ],
      "execution_count": null,
      "outputs": [
        {
          "output_type": "stream",
          "name": "stdout",
          "text": [
            "(828, 34)\n",
            "(828, 34)\n"
          ]
        }
      ]
    },
    {
      "cell_type": "code",
      "metadata": {
        "colab": {
          "base_uri": "https://localhost:8080/"
        },
        "id": "12L02KfjNAJd",
        "outputId": "1e17ce46-b0c0-4818-b3c7-fdff81e767a4"
      },
      "source": [
        "print(train[train.MMRCurrentAuctionAveragePrice <= 0.0].shape)\n",
        "print(train[train.MMRCurrentAuctionAveragePrice <= 1.0].shape)"
      ],
      "execution_count": null,
      "outputs": [
        {
          "output_type": "stream",
          "name": "stdout",
          "text": [
            "(504, 34)\n",
            "(504, 34)\n"
          ]
        }
      ]
    },
    {
      "cell_type": "code",
      "metadata": {
        "colab": {
          "base_uri": "https://localhost:8080/"
        },
        "id": "8NHEBeHpNDsf",
        "outputId": "ceb30879-5005-4080-bcbc-02af8b15b212"
      },
      "source": [
        "print(train[train.MMRCurrentAuctionCleanPrice <= 0.0].shape)\n",
        "print(train[train.MMRCurrentAuctionCleanPrice <= 1.0].shape)"
      ],
      "execution_count": null,
      "outputs": [
        {
          "output_type": "stream",
          "name": "stdout",
          "text": [
            "(378, 34)\n",
            "(504, 34)\n"
          ]
        }
      ]
    },
    {
      "cell_type": "code",
      "metadata": {
        "colab": {
          "base_uri": "https://localhost:8080/"
        },
        "id": "LPN332p1ND3J",
        "outputId": "e7708294-9613-4a5c-82d3-4aaa1c4df767"
      },
      "source": [
        "print(train[train.MMRCurrentRetailAveragePrice <= 0.0].shape)\n",
        "print(train[train.MMRCurrentRetailAveragePrice <= 1.0].shape)"
      ],
      "execution_count": null,
      "outputs": [
        {
          "output_type": "stream",
          "name": "stdout",
          "text": [
            "(504, 34)\n",
            "(504, 34)\n"
          ]
        }
      ]
    },
    {
      "cell_type": "code",
      "metadata": {
        "colab": {
          "base_uri": "https://localhost:8080/"
        },
        "id": "l9-WRg_1NEBS",
        "outputId": "c40e3040-2e7d-4e59-8789-922048c07868"
      },
      "source": [
        "print(train[train.MMRCurrentRetailCleanPrice <= 0.0].shape)\n",
        "print(train[train.MMRCurrentRetailCleanPrice <= 1.0].shape)"
      ],
      "execution_count": null,
      "outputs": [
        {
          "output_type": "stream",
          "name": "stdout",
          "text": [
            "(504, 34)\n",
            "(504, 34)\n"
          ]
        }
      ]
    },
    {
      "cell_type": "code",
      "metadata": {
        "colab": {
          "base_uri": "https://localhost:8080/"
        },
        "id": "LfsPMe_qN4P2",
        "outputId": "52be8870-c6b6-49c1-b1b6-af5325246a85"
      },
      "source": [
        "print(train[train.VehBCost <= 0.0].shape)\n",
        "print(train[train.VehBCost <= 1.0].shape)"
      ],
      "execution_count": null,
      "outputs": [
        {
          "output_type": "stream",
          "name": "stdout",
          "text": [
            "(0, 34)\n",
            "(1, 34)\n"
          ]
        }
      ]
    },
    {
      "cell_type": "code",
      "metadata": {
        "colab": {
          "base_uri": "https://localhost:8080/"
        },
        "id": "YgfeG7YhOHlG",
        "outputId": "1fc4e465-d27e-4444-9bb5-ce20d50a0a1b"
      },
      "source": [
        "print(train[train.WarrantyCost <= 0.0].shape)\n",
        "print(train[train.WarrantyCost <= 1.0].shape)"
      ],
      "execution_count": null,
      "outputs": [
        {
          "output_type": "stream",
          "name": "stdout",
          "text": [
            "(0, 34)\n",
            "(0, 34)\n"
          ]
        }
      ]
    },
    {
      "cell_type": "code",
      "metadata": {
        "colab": {
          "base_uri": "https://localhost:8080/"
        },
        "id": "D7qAKUh_Pb7a",
        "outputId": "7ca3bbc2-2946-4362-8e83-c40d23f1bcbe"
      },
      "source": [
        "print(train[train.VehOdo <= 0.0].shape)\n",
        "print(train[train.VehOdo <= 100.0].shape)"
      ],
      "execution_count": null,
      "outputs": [
        {
          "output_type": "stream",
          "name": "stdout",
          "text": [
            "(0, 34)\n",
            "(0, 34)\n"
          ]
        }
      ]
    },
    {
      "cell_type": "markdown",
      "metadata": {
        "id": "vQjjpZKmN1ZP"
      },
      "source": [
        "Observation\n",
        "\n",
        "*   Clearly price 0 or 1 is an anomaly, and we need process to them, replacing them with their mean.\n",
        "*   Test data also seems to have it."
      ]
    },
    {
      "cell_type": "code",
      "metadata": {
        "colab": {
          "base_uri": "https://localhost:8080/"
        },
        "id": "dVgx19nLNAP9",
        "outputId": "78edd1ba-cb20-4b14-e52f-b79ab2983e18"
      },
      "source": [
        "print(test[test.MMRAcquisitionAuctionAveragePrice <= 0.0].shape)\n",
        "print(test[test.MMRAcquisitionAuctionAveragePrice <= 1.0].shape)"
      ],
      "execution_count": null,
      "outputs": [
        {
          "output_type": "stream",
          "name": "stdout",
          "text": [
            "(489, 33)\n",
            "(489, 33)\n"
          ]
        }
      ]
    },
    {
      "cell_type": "code",
      "metadata": {
        "id": "vO-7-3yOFqpu"
      },
      "source": [
        "def data_cleaning_price(df):\n",
        "\n",
        "  price_cols = list(set(num_cols) - set(['VehicleAge', 'VehOdo']))   \n",
        "  for column in price_cols:\n",
        "      df[column].replace(0.0, df[column].mean(), inplace=True)\n",
        "      df[column].replace(1.0, df[column].mean(), inplace=True)\n",
        "  return df"
      ],
      "execution_count": null,
      "outputs": []
    },
    {
      "cell_type": "code",
      "metadata": {
        "id": "yVNB2Z9WQIAo"
      },
      "source": [
        "train = data_cleaning_price(train)"
      ],
      "execution_count": null,
      "outputs": []
    },
    {
      "cell_type": "code",
      "metadata": {
        "colab": {
          "base_uri": "https://localhost:8080/"
        },
        "id": "Ks0XpaQGQmMv",
        "outputId": "86832f86-8d72-4444-df59-91ed0420665e"
      },
      "source": [
        "print(train[train.MMRAcquisitionAuctionAveragePrice <= 0.0].shape)\n",
        "print(train[train.MMRAcquisitionAuctionAveragePrice <= 1.0].shape)"
      ],
      "execution_count": null,
      "outputs": [
        {
          "output_type": "stream",
          "name": "stdout",
          "text": [
            "(0, 34)\n",
            "(0, 34)\n"
          ]
        }
      ]
    },
    {
      "cell_type": "markdown",
      "metadata": {
        "id": "Gc6R9yuVqYW8"
      },
      "source": [
        "<h1>Derived feature1</h1>\n",
        "\n",
        "\n",
        "\n",
        "*   From, Acquisition cost paid for the vehicle at time of purchase(VehBCost), and Acquisition, avg, clean prices we can derive whether a purchased vehicle **below average/average/above average** in terms of quality.\n",
        "\n"
      ]
    },
    {
      "cell_type": "code",
      "metadata": {
        "id": "9F_SGvsOq4vD"
      },
      "source": [
        "def quality(row):\n",
        "    \n",
        "    if row['VehBCost'] < row['MMRAcquisitionAuctionAveragePrice']:\n",
        "      return 'Below Avg'\n",
        "    elif row['VehBCost'] >= row['MMRAcquisitionAuctionAveragePrice'] and \\\n",
        "        row['VehBCost'] < row['MMRAcquisitionAuctionCleanPrice']:\n",
        "      return 'Avg'\n",
        "    else:\n",
        "      return 'Above Avg'"
      ],
      "execution_count": null,
      "outputs": []
    },
    {
      "cell_type": "code",
      "metadata": {
        "id": "LGlsOhvtqZNU"
      },
      "source": [
        "train['quality'] = train.apply (lambda row: quality(row), axis=1)"
      ],
      "execution_count": null,
      "outputs": []
    },
    {
      "cell_type": "code",
      "metadata": {
        "colab": {
          "base_uri": "https://localhost:8080/"
        },
        "id": "cksntFgVs-Jd",
        "outputId": "0e2a3c0b-b01d-4816-f294-bf18b98ff19f"
      },
      "source": [
        "train['quality'].value_counts()"
      ],
      "execution_count": null,
      "outputs": [
        {
          "output_type": "execute_result",
          "data": {
            "text/plain": [
              "Avg          25354\n",
              "Above Avg    23832\n",
              "Below Avg    23797\n",
              "Name: quality, dtype: int64"
            ]
          },
          "metadata": {},
          "execution_count": 60
        }
      ]
    },
    {
      "cell_type": "code",
      "metadata": {
        "colab": {
          "base_uri": "https://localhost:8080/",
          "height": 330
        },
        "id": "rIs6ioQ-qZQf",
        "outputId": "ca2998d3-4287-4a70-eac8-aad01ee6510d"
      },
      "source": [
        "sns.histplot(binwidth=0.7, x='quality', hue=\"IsBadBuy\", data=train, stat=\"count\", multiple=\"stack\")\n",
        "plt.savefig(DPATH+'/plots/'+col+'.png')\n",
        "plt.show()\n",
        "\n",
        "for value in train['quality'].unique():\n",
        "    df_value = train[train['quality'] == value]\n",
        "    length = df_value.shape[0]\n",
        "    bad_buy_perc = df_value[df_value['IsBadBuy']==1].shape[0]/length\n",
        "    print(\"value: \",value,\"bad_buy%: \", bad_buy_perc, \"good_buy%: \", 1-bad_buy_perc)"
      ],
      "execution_count": null,
      "outputs": [
        {
          "output_type": "display_data",
          "data": {
            "image/png": "[encoded data removed]",
            "text/plain": [
              "<Figure size 432x288 with 1 Axes>"
            ]
          },
          "metadata": {
            "needs_background": "light"
          }
        },
        {
          "output_type": "stream",
          "name": "stdout",
          "text": [
            "value:  Below Avg bad_buy%:  0.09042598418501828 good_buy%:  0.9095740158149818\n",
            "value:  Avg bad_buy%:  0.11981658692185009 good_buy%:  0.88018341307815\n",
            "value:  Above Avg bad_buy%:  0.15767668895360762 good_buy%:  0.8423233110463924\n"
          ]
        }
      ]
    },
    {
      "cell_type": "markdown",
      "metadata": {
        "id": "O8GQJNI1tCkd"
      },
      "source": [
        "**Observation**\n",
        "\n",
        "*   As expected, above average vehicles have higher probability to be good buy.\n",
        "*   data is almost equally distributed.\n",
        "*   Could a valuable feature\n",
        "\n",
        "\n",
        "\n"
      ]
    },
    {
      "cell_type": "code",
      "metadata": {
        "id": "3ok36AQcqZbs"
      },
      "source": [
        ""
      ],
      "execution_count": null,
      "outputs": []
    },
    {
      "cell_type": "markdown",
      "metadata": {
        "id": "T0vBKQQ_ZWJn"
      },
      "source": [
        "<h2>Let's observe date column - PurchDate, VehYear and VehicleAge</h2>\n",
        "\n",
        "\n",
        "*   From a high-level observation, it seems that VehicleAge = PurchDate - VehYear, let's test it.\n",
        "*   And for few rows VehicleAge = 0, may be they were auctioned on the same year, let's check.\n",
        "\n"
      ]
    },
    {
      "cell_type": "code",
      "metadata": {
        "colab": {
          "base_uri": "https://localhost:8080/"
        },
        "id": "Z8H8pwHQQ2cL",
        "outputId": "bc70b339-9b92-4d46-8b4a-c0f85afc7a99"
      },
      "source": [
        "import datetime\n",
        "\n",
        "train['PurchDate'] = pd.to_datetime(train['PurchDate'], errors='coerce')\n",
        "(train['VehicleAge'] == train['PurchDate'].dt.year - train['VehYear']).value_counts()"
      ],
      "execution_count": null,
      "outputs": [
        {
          "output_type": "execute_result",
          "data": {
            "text/plain": [
              "True     72976\n",
              "False        7\n",
              "dtype: int64"
            ]
          },
          "metadata": {},
          "execution_count": 327
        }
      ]
    },
    {
      "cell_type": "code",
      "metadata": {
        "colab": {
          "base_uri": "https://localhost:8080/",
          "height": 266
        },
        "id": "2UQLrAV6YC80",
        "outputId": "d0208c5d-400a-43e8-a0c1-c5994353b666"
      },
      "source": [
        "train[train['VehicleAge'] != train['PurchDate'].dt.year - train['VehYear']][['RefId', 'PurchDate', 'VehYear', 'VehicleAge', 'IsBadBuy']]"
      ],
      "execution_count": null,
      "outputs": [
        {
          "output_type": "execute_result",
          "data": {
            "text/html": [
              "<div>\n",
              "<style scoped>\n",
              "    .dataframe tbody tr th:only-of-type {\n",
              "        vertical-align: middle;\n",
              "    }\n",
              "\n",
              "    .dataframe tbody tr th {\n",
              "        vertical-align: top;\n",
              "    }\n",
              "\n",
              "    .dataframe thead th {\n",
              "        text-align: right;\n",
              "    }\n",
              "</style>\n",
              "<table border=\"1\" class=\"dataframe\">\n",
              "  <thead>\n",
              "    <tr style=\"text-align: right;\">\n",
              "      <th></th>\n",
              "      <th>RefId</th>\n",
              "      <th>PurchDate</th>\n",
              "      <th>VehYear</th>\n",
              "      <th>VehicleAge</th>\n",
              "      <th>IsBadBuy</th>\n",
              "    </tr>\n",
              "  </thead>\n",
              "  <tbody>\n",
              "    <tr>\n",
              "      <th>7408</th>\n",
              "      <td>7415</td>\n",
              "      <td>2009-11-30</td>\n",
              "      <td>2005</td>\n",
              "      <td>5</td>\n",
              "      <td>0</td>\n",
              "    </tr>\n",
              "    <tr>\n",
              "      <th>11109</th>\n",
              "      <td>11118</td>\n",
              "      <td>2009-12-31</td>\n",
              "      <td>2006</td>\n",
              "      <td>4</td>\n",
              "      <td>0</td>\n",
              "    </tr>\n",
              "    <tr>\n",
              "      <th>37426</th>\n",
              "      <td>37449</td>\n",
              "      <td>2009-11-03</td>\n",
              "      <td>2006</td>\n",
              "      <td>4</td>\n",
              "      <td>1</td>\n",
              "    </tr>\n",
              "    <tr>\n",
              "      <th>41496</th>\n",
              "      <td>41519</td>\n",
              "      <td>2009-12-21</td>\n",
              "      <td>2005</td>\n",
              "      <td>5</td>\n",
              "      <td>0</td>\n",
              "    </tr>\n",
              "    <tr>\n",
              "      <th>43187</th>\n",
              "      <td>43211</td>\n",
              "      <td>2009-12-30</td>\n",
              "      <td>2006</td>\n",
              "      <td>4</td>\n",
              "      <td>0</td>\n",
              "    </tr>\n",
              "    <tr>\n",
              "      <th>57641</th>\n",
              "      <td>57669</td>\n",
              "      <td>2009-08-26</td>\n",
              "      <td>2003</td>\n",
              "      <td>7</td>\n",
              "      <td>0</td>\n",
              "    </tr>\n",
              "    <tr>\n",
              "      <th>67666</th>\n",
              "      <td>67698</td>\n",
              "      <td>2009-12-15</td>\n",
              "      <td>2007</td>\n",
              "      <td>3</td>\n",
              "      <td>0</td>\n",
              "    </tr>\n",
              "  </tbody>\n",
              "</table>\n",
              "</div>"
            ],
            "text/plain": [
              "       RefId  PurchDate  VehYear  VehicleAge  IsBadBuy\n",
              "7408    7415 2009-11-30     2005           5         0\n",
              "11109  11118 2009-12-31     2006           4         0\n",
              "37426  37449 2009-11-03     2006           4         1\n",
              "41496  41519 2009-12-21     2005           5         0\n",
              "43187  43211 2009-12-30     2006           4         0\n",
              "57641  57669 2009-08-26     2003           7         0\n",
              "67666  67698 2009-12-15     2007           3         0"
            ]
          },
          "metadata": {},
          "execution_count": 328
        }
      ]
    },
    {
      "cell_type": "code",
      "metadata": {
        "colab": {
          "base_uri": "https://localhost:8080/",
          "height": 117
        },
        "id": "_K24qd_9h1_2",
        "outputId": "67e088e9-11b2-4850-b112-cafff8e4f5cb"
      },
      "source": [
        "#53024, 60223\n",
        "\n",
        "train[train.RefId==53024]"
      ],
      "execution_count": null,
      "outputs": [
        {
          "output_type": "execute_result",
          "data": {
            "text/html": [
              "<div>\n",
              "<style scoped>\n",
              "    .dataframe tbody tr th:only-of-type {\n",
              "        vertical-align: middle;\n",
              "    }\n",
              "\n",
              "    .dataframe tbody tr th {\n",
              "        vertical-align: top;\n",
              "    }\n",
              "\n",
              "    .dataframe thead th {\n",
              "        text-align: right;\n",
              "    }\n",
              "</style>\n",
              "<table border=\"1\" class=\"dataframe\">\n",
              "  <thead>\n",
              "    <tr style=\"text-align: right;\">\n",
              "      <th></th>\n",
              "      <th>RefId</th>\n",
              "      <th>IsBadBuy</th>\n",
              "      <th>PurchDate</th>\n",
              "      <th>Auction</th>\n",
              "      <th>VehYear</th>\n",
              "      <th>VehicleAge</th>\n",
              "      <th>Make</th>\n",
              "      <th>Model</th>\n",
              "      <th>Trim</th>\n",
              "      <th>SubModel</th>\n",
              "      <th>Color</th>\n",
              "      <th>Transmission</th>\n",
              "      <th>WheelTypeID</th>\n",
              "      <th>WheelType</th>\n",
              "      <th>VehOdo</th>\n",
              "      <th>Nationality</th>\n",
              "      <th>Size</th>\n",
              "      <th>TopThreeAmericanName</th>\n",
              "      <th>MMRAcquisitionAuctionAveragePrice</th>\n",
              "      <th>MMRAcquisitionAuctionCleanPrice</th>\n",
              "      <th>MMRAcquisitionRetailAveragePrice</th>\n",
              "      <th>MMRAcquisitonRetailCleanPrice</th>\n",
              "      <th>MMRCurrentAuctionAveragePrice</th>\n",
              "      <th>MMRCurrentAuctionCleanPrice</th>\n",
              "      <th>MMRCurrentRetailAveragePrice</th>\n",
              "      <th>MMRCurrentRetailCleanPrice</th>\n",
              "      <th>PRIMEUNIT</th>\n",
              "      <th>AUCGUART</th>\n",
              "      <th>BYRNO</th>\n",
              "      <th>VNZIP1</th>\n",
              "      <th>VNST</th>\n",
              "      <th>VehBCost</th>\n",
              "      <th>IsOnlineSale</th>\n",
              "      <th>WarrantyCost</th>\n",
              "    </tr>\n",
              "  </thead>\n",
              "  <tbody>\n",
              "    <tr>\n",
              "      <th>52996</th>\n",
              "      <td>53024</td>\n",
              "      <td>0</td>\n",
              "      <td>9/1/2010</td>\n",
              "      <td>MANHEIM</td>\n",
              "      <td>2007</td>\n",
              "      <td>3</td>\n",
              "      <td>MITSUBISHI</td>\n",
              "      <td>GALANT 4C</td>\n",
              "      <td>ES</td>\n",
              "      <td>4D SEDAN</td>\n",
              "      <td>SILVER</td>\n",
              "      <td>AUTO</td>\n",
              "      <td>2.0</td>\n",
              "      <td>Covers</td>\n",
              "      <td>60413</td>\n",
              "      <td>OTHER ASIAN</td>\n",
              "      <td>MEDIUM</td>\n",
              "      <td>OTHER</td>\n",
              "      <td>7108.0</td>\n",
              "      <td>8352.0</td>\n",
              "      <td>10654.0</td>\n",
              "      <td>11733.0</td>\n",
              "      <td>7763.0</td>\n",
              "      <td>8815.0</td>\n",
              "      <td>11165.0</td>\n",
              "      <td>12166.0</td>\n",
              "      <td>NaN</td>\n",
              "      <td>NaN</td>\n",
              "      <td>18111</td>\n",
              "      <td>37122</td>\n",
              "      <td>TN</td>\n",
              "      <td>7380.0</td>\n",
              "      <td>0</td>\n",
              "      <td>533</td>\n",
              "    </tr>\n",
              "  </tbody>\n",
              "</table>\n",
              "</div>"
            ],
            "text/plain": [
              "       RefId  IsBadBuy PurchDate  ... VehBCost  IsOnlineSale  WarrantyCost\n",
              "52996  53024         0  9/1/2010  ...   7380.0             0           533\n",
              "\n",
              "[1 rows x 34 columns]"
            ]
          },
          "metadata": {},
          "execution_count": 319
        }
      ]
    },
    {
      "cell_type": "code",
      "metadata": {
        "colab": {
          "base_uri": "https://localhost:8080/",
          "height": 134
        },
        "id": "eLkktOGKiWxX",
        "outputId": "63f0f79e-4cf7-40fc-f311-7b511e051148"
      },
      "source": [
        "train[train.RefId==60223]"
      ],
      "execution_count": null,
      "outputs": [
        {
          "output_type": "execute_result",
          "data": {
            "text/html": [
              "<div>\n",
              "<style scoped>\n",
              "    .dataframe tbody tr th:only-of-type {\n",
              "        vertical-align: middle;\n",
              "    }\n",
              "\n",
              "    .dataframe tbody tr th {\n",
              "        vertical-align: top;\n",
              "    }\n",
              "\n",
              "    .dataframe thead th {\n",
              "        text-align: right;\n",
              "    }\n",
              "</style>\n",
              "<table border=\"1\" class=\"dataframe\">\n",
              "  <thead>\n",
              "    <tr style=\"text-align: right;\">\n",
              "      <th></th>\n",
              "      <th>RefId</th>\n",
              "      <th>IsBadBuy</th>\n",
              "      <th>PurchDate</th>\n",
              "      <th>Auction</th>\n",
              "      <th>VehYear</th>\n",
              "      <th>VehicleAge</th>\n",
              "      <th>Make</th>\n",
              "      <th>Model</th>\n",
              "      <th>Trim</th>\n",
              "      <th>SubModel</th>\n",
              "      <th>Color</th>\n",
              "      <th>Transmission</th>\n",
              "      <th>WheelTypeID</th>\n",
              "      <th>WheelType</th>\n",
              "      <th>VehOdo</th>\n",
              "      <th>Nationality</th>\n",
              "      <th>Size</th>\n",
              "      <th>TopThreeAmericanName</th>\n",
              "      <th>MMRAcquisitionAuctionAveragePrice</th>\n",
              "      <th>MMRAcquisitionAuctionCleanPrice</th>\n",
              "      <th>MMRAcquisitionRetailAveragePrice</th>\n",
              "      <th>MMRAcquisitonRetailCleanPrice</th>\n",
              "      <th>MMRCurrentAuctionAveragePrice</th>\n",
              "      <th>MMRCurrentAuctionCleanPrice</th>\n",
              "      <th>MMRCurrentRetailAveragePrice</th>\n",
              "      <th>MMRCurrentRetailCleanPrice</th>\n",
              "      <th>PRIMEUNIT</th>\n",
              "      <th>AUCGUART</th>\n",
              "      <th>BYRNO</th>\n",
              "      <th>VNZIP1</th>\n",
              "      <th>VNST</th>\n",
              "      <th>VehBCost</th>\n",
              "      <th>IsOnlineSale</th>\n",
              "      <th>WarrantyCost</th>\n",
              "    </tr>\n",
              "  </thead>\n",
              "  <tbody>\n",
              "    <tr>\n",
              "      <th>60194</th>\n",
              "      <td>60223</td>\n",
              "      <td>1</td>\n",
              "      <td>8/14/2009</td>\n",
              "      <td>ADESA</td>\n",
              "      <td>2002</td>\n",
              "      <td>7</td>\n",
              "      <td>CHRYSLER</td>\n",
              "      <td>TOWN &amp; COUNTRY FWD V</td>\n",
              "      <td>LXi</td>\n",
              "      <td>MINIVAN 3.8L LXI</td>\n",
              "      <td>GOLD</td>\n",
              "      <td>AUTO</td>\n",
              "      <td>NaN</td>\n",
              "      <td>NaN</td>\n",
              "      <td>85658</td>\n",
              "      <td>AMERICAN</td>\n",
              "      <td>VAN</td>\n",
              "      <td>CHRYSLER</td>\n",
              "      <td>4176.0</td>\n",
              "      <td>5381.0</td>\n",
              "      <td>5010.0</td>\n",
              "      <td>6311.0</td>\n",
              "      <td>4139.0</td>\n",
              "      <td>5346.0</td>\n",
              "      <td>4970.0</td>\n",
              "      <td>6274.0</td>\n",
              "      <td>NaN</td>\n",
              "      <td>NaN</td>\n",
              "      <td>18111</td>\n",
              "      <td>37771</td>\n",
              "      <td>TN</td>\n",
              "      <td>5795.0</td>\n",
              "      <td>0</td>\n",
              "      <td>2063</td>\n",
              "    </tr>\n",
              "  </tbody>\n",
              "</table>\n",
              "</div>"
            ],
            "text/plain": [
              "       RefId  IsBadBuy  PurchDate  ... VehBCost  IsOnlineSale  WarrantyCost\n",
              "60194  60223         1  8/14/2009  ...   5795.0             0          2063\n",
              "\n",
              "[1 rows x 34 columns]"
            ]
          },
          "metadata": {},
          "execution_count": 320
        }
      ]
    },
    {
      "cell_type": "markdown",
      "metadata": {
        "id": "gPHZYkUJZu-b"
      },
      "source": [
        "\n",
        "\n",
        "*   It seems they have value +/- 1\n",
        "\n"
      ]
    },
    {
      "cell_type": "code",
      "metadata": {
        "colab": {
          "base_uri": "https://localhost:8080/"
        },
        "id": "VMTA_ufXQ2mU",
        "outputId": "71f8a195-f939-4347-f4cb-5a18e8ac9ade"
      },
      "source": [
        "train['VehicleAge'].value_counts()"
      ],
      "execution_count": null,
      "outputs": [
        {
          "output_type": "execute_result",
          "data": {
            "text/plain": [
              "4    17013\n",
              "3    15902\n",
              "5    12956\n",
              "2     8482\n",
              "6     8022\n",
              "7     4646\n",
              "1     3094\n",
              "8     2220\n",
              "9      646\n",
              "0        2\n",
              "Name: VehicleAge, dtype: int64"
            ]
          },
          "metadata": {},
          "execution_count": 329
        }
      ]
    },
    {
      "cell_type": "code",
      "metadata": {
        "colab": {
          "base_uri": "https://localhost:8080/",
          "height": 199
        },
        "id": "x_QgEx7QaIPP",
        "outputId": "8dad4670-861f-4390-c03b-337360b4a263"
      },
      "source": [
        "train[train['VehicleAge']==0]"
      ],
      "execution_count": null,
      "outputs": [
        {
          "output_type": "execute_result",
          "data": {
            "text/html": [
              "<div>\n",
              "<style scoped>\n",
              "    .dataframe tbody tr th:only-of-type {\n",
              "        vertical-align: middle;\n",
              "    }\n",
              "\n",
              "    .dataframe tbody tr th {\n",
              "        vertical-align: top;\n",
              "    }\n",
              "\n",
              "    .dataframe thead th {\n",
              "        text-align: right;\n",
              "    }\n",
              "</style>\n",
              "<table border=\"1\" class=\"dataframe\">\n",
              "  <thead>\n",
              "    <tr style=\"text-align: right;\">\n",
              "      <th></th>\n",
              "      <th>RefId</th>\n",
              "      <th>IsBadBuy</th>\n",
              "      <th>PurchDate</th>\n",
              "      <th>Auction</th>\n",
              "      <th>VehYear</th>\n",
              "      <th>VehicleAge</th>\n",
              "      <th>Make</th>\n",
              "      <th>Model</th>\n",
              "      <th>Trim</th>\n",
              "      <th>SubModel</th>\n",
              "      <th>Color</th>\n",
              "      <th>Transmission</th>\n",
              "      <th>WheelTypeID</th>\n",
              "      <th>WheelType</th>\n",
              "      <th>VehOdo</th>\n",
              "      <th>Nationality</th>\n",
              "      <th>Size</th>\n",
              "      <th>TopThreeAmericanName</th>\n",
              "      <th>MMRAcquisitionAuctionAveragePrice</th>\n",
              "      <th>MMRAcquisitionAuctionCleanPrice</th>\n",
              "      <th>MMRAcquisitionRetailAveragePrice</th>\n",
              "      <th>MMRAcquisitonRetailCleanPrice</th>\n",
              "      <th>MMRCurrentAuctionAveragePrice</th>\n",
              "      <th>MMRCurrentAuctionCleanPrice</th>\n",
              "      <th>MMRCurrentRetailAveragePrice</th>\n",
              "      <th>MMRCurrentRetailCleanPrice</th>\n",
              "      <th>PRIMEUNIT</th>\n",
              "      <th>AUCGUART</th>\n",
              "      <th>BYRNO</th>\n",
              "      <th>VNZIP1</th>\n",
              "      <th>VNST</th>\n",
              "      <th>VehBCost</th>\n",
              "      <th>IsOnlineSale</th>\n",
              "      <th>WarrantyCost</th>\n",
              "    </tr>\n",
              "  </thead>\n",
              "  <tbody>\n",
              "    <tr>\n",
              "      <th>53024</th>\n",
              "      <td>53052</td>\n",
              "      <td>0</td>\n",
              "      <td>2010-10-13</td>\n",
              "      <td>MANHEIM</td>\n",
              "      <td>2010</td>\n",
              "      <td>0</td>\n",
              "      <td>FORD</td>\n",
              "      <td>FUSION 4C</td>\n",
              "      <td>SE</td>\n",
              "      <td>4D SEDAN SE</td>\n",
              "      <td>SILVER</td>\n",
              "      <td>AUTO</td>\n",
              "      <td>2.0</td>\n",
              "      <td>Covers</td>\n",
              "      <td>83729</td>\n",
              "      <td>AMERICAN</td>\n",
              "      <td>MEDIUM</td>\n",
              "      <td>FORD</td>\n",
              "      <td>13278.0</td>\n",
              "      <td>14529.0</td>\n",
              "      <td>17097.0</td>\n",
              "      <td>18745.0</td>\n",
              "      <td>12840.0</td>\n",
              "      <td>14549.0</td>\n",
              "      <td>16419.0</td>\n",
              "      <td>18374.0</td>\n",
              "      <td>NaN</td>\n",
              "      <td>NaN</td>\n",
              "      <td>18881</td>\n",
              "      <td>37122</td>\n",
              "      <td>TN</td>\n",
              "      <td>9270.0</td>\n",
              "      <td>0</td>\n",
              "      <td>853</td>\n",
              "    </tr>\n",
              "    <tr>\n",
              "      <th>60223</th>\n",
              "      <td>60252</td>\n",
              "      <td>0</td>\n",
              "      <td>2009-09-18</td>\n",
              "      <td>ADESA</td>\n",
              "      <td>2009</td>\n",
              "      <td>0</td>\n",
              "      <td>MITSUBISHI</td>\n",
              "      <td>GALANT 4C</td>\n",
              "      <td>ES</td>\n",
              "      <td>4D SEDAN ES</td>\n",
              "      <td>WHITE</td>\n",
              "      <td>AUTO</td>\n",
              "      <td>1.0</td>\n",
              "      <td>Alloy</td>\n",
              "      <td>59767</td>\n",
              "      <td>OTHER ASIAN</td>\n",
              "      <td>MEDIUM</td>\n",
              "      <td>OTHER</td>\n",
              "      <td>11792.0</td>\n",
              "      <td>13394.0</td>\n",
              "      <td>13235.0</td>\n",
              "      <td>14966.0</td>\n",
              "      <td>10022.0</td>\n",
              "      <td>10106.0</td>\n",
              "      <td>11324.0</td>\n",
              "      <td>11414.0</td>\n",
              "      <td>NaN</td>\n",
              "      <td>NaN</td>\n",
              "      <td>18881</td>\n",
              "      <td>37771</td>\n",
              "      <td>TN</td>\n",
              "      <td>8510.0</td>\n",
              "      <td>0</td>\n",
              "      <td>505</td>\n",
              "    </tr>\n",
              "  </tbody>\n",
              "</table>\n",
              "</div>"
            ],
            "text/plain": [
              "       RefId  IsBadBuy  PurchDate  ... VehBCost  IsOnlineSale  WarrantyCost\n",
              "53024  53052         0 2010-10-13  ...   9270.0             0           853\n",
              "60223  60252         0 2009-09-18  ...   8510.0             0           505\n",
              "\n",
              "[2 rows x 34 columns]"
            ]
          },
          "metadata": {},
          "execution_count": 330
        }
      ]
    },
    {
      "cell_type": "markdown",
      "metadata": {
        "id": "GPCO0PVbapBz"
      },
      "source": [
        "**Observation**\n",
        "\n",
        "*   We can see that they have same years\n",
        "*   For simplicity I am changing 0 to 1 and rest to VehicleAge = PurchDate - VehYear\n",
        "\n"
      ]
    },
    {
      "cell_type": "code",
      "metadata": {
        "id": "aPJ6Ir21aIRq"
      },
      "source": [
        "train['PurchDate'] = pd.to_datetime(train['PurchDate'], errors='coerce')\n",
        "train['VehicleAge'] = train['PurchDate'].dt.year - train['VehYear']\n",
        "train[train.VehicleAge == 0] = 1"
      ],
      "execution_count": null,
      "outputs": []
    },
    {
      "cell_type": "code",
      "metadata": {
        "colab": {
          "base_uri": "https://localhost:8080/"
        },
        "id": "sjsVb6MocBGn",
        "outputId": "c9bdc4a4-01e5-4146-bc8d-727c526a7282"
      },
      "source": [
        "train[train['VehicleAge']==0].shape"
      ],
      "execution_count": null,
      "outputs": [
        {
          "output_type": "execute_result",
          "data": {
            "text/plain": [
              "(0, 35)"
            ]
          },
          "metadata": {},
          "execution_count": 63
        }
      ]
    },
    {
      "cell_type": "code",
      "metadata": {
        "colab": {
          "base_uri": "https://localhost:8080/"
        },
        "id": "MCFW4kKBaIUJ",
        "outputId": "20186090-7a74-4a99-b5e5-b1d87f27de57"
      },
      "source": [
        "train['PurchDate'] = pd.to_datetime(train['PurchDate'], errors='coerce')\n",
        "(train['VehicleAge'] == train['PurchDate'].dt.year - train['VehYear']).value_counts()"
      ],
      "execution_count": null,
      "outputs": [
        {
          "output_type": "execute_result",
          "data": {
            "text/plain": [
              "True     72981\n",
              "False        2\n",
              "dtype: int64"
            ]
          },
          "metadata": {},
          "execution_count": 336
        }
      ]
    },
    {
      "cell_type": "code",
      "metadata": {
        "colab": {
          "base_uri": "https://localhost:8080/",
          "height": 111
        },
        "id": "4uQ7Tv-iktod",
        "outputId": "08fa27dd-69f7-4808-ca9c-7a4a58d187f4"
      },
      "source": [
        "train[train['VehicleAge'] != train['PurchDate'].dt.year - train['VehYear']][['RefId', 'PurchDate', 'VehYear', 'VehicleAge', 'IsBadBuy']]"
      ],
      "execution_count": null,
      "outputs": [
        {
          "output_type": "execute_result",
          "data": {
            "text/html": [
              "<div>\n",
              "<style scoped>\n",
              "    .dataframe tbody tr th:only-of-type {\n",
              "        vertical-align: middle;\n",
              "    }\n",
              "\n",
              "    .dataframe tbody tr th {\n",
              "        vertical-align: top;\n",
              "    }\n",
              "\n",
              "    .dataframe thead th {\n",
              "        text-align: right;\n",
              "    }\n",
              "</style>\n",
              "<table border=\"1\" class=\"dataframe\">\n",
              "  <thead>\n",
              "    <tr style=\"text-align: right;\">\n",
              "      <th></th>\n",
              "      <th>RefId</th>\n",
              "      <th>PurchDate</th>\n",
              "      <th>VehYear</th>\n",
              "      <th>VehicleAge</th>\n",
              "      <th>IsBadBuy</th>\n",
              "    </tr>\n",
              "  </thead>\n",
              "  <tbody>\n",
              "    <tr>\n",
              "      <th>53024</th>\n",
              "      <td>1</td>\n",
              "      <td>NaT</td>\n",
              "      <td>1</td>\n",
              "      <td>1</td>\n",
              "      <td>1</td>\n",
              "    </tr>\n",
              "    <tr>\n",
              "      <th>60223</th>\n",
              "      <td>1</td>\n",
              "      <td>NaT</td>\n",
              "      <td>1</td>\n",
              "      <td>1</td>\n",
              "      <td>1</td>\n",
              "    </tr>\n",
              "  </tbody>\n",
              "</table>\n",
              "</div>"
            ],
            "text/plain": [
              "       RefId PurchDate  VehYear  VehicleAge  IsBadBuy\n",
              "53024      1       NaT        1           1         1\n",
              "60223      1       NaT        1           1         1"
            ]
          },
          "metadata": {},
          "execution_count": 337
        }
      ]
    },
    {
      "cell_type": "markdown",
      "metadata": {
        "id": "J_RCf32Wky2T"
      },
      "source": [
        "**Observation:**\n",
        "\n",
        "\n",
        "*   Dateset must have values greater than ('2262-04-11 23:47:16.854775807') which doesn't fit in int64 - date type, hence conversion gave 'NaT', and this is also not a valid date for our usecase.\n",
        "*  Another observation, RefId has same id?\n",
        "\n"
      ]
    },
    {
      "cell_type": "code",
      "metadata": {
        "colab": {
          "base_uri": "https://localhost:8080/"
        },
        "id": "zNTZ9E1RkxLh",
        "outputId": "8f3bae1b-126c-4cfd-c963-a9a4bb2175d7"
      },
      "source": [
        "train['RefId'].unique().shape # data shape 72983"
      ],
      "execution_count": null,
      "outputs": [
        {
          "output_type": "execute_result",
          "data": {
            "text/plain": [
              "(72981,)"
            ]
          },
          "metadata": {},
          "execution_count": 338
        }
      ]
    },
    {
      "cell_type": "code",
      "metadata": {
        "colab": {
          "base_uri": "https://localhost:8080/",
          "height": 179
        },
        "id": "m0ElFzkskxOe",
        "outputId": "0491401b-a02d-4624-e592-f5ed77c80924"
      },
      "source": [
        "train[train['RefId'] == 1]"
      ],
      "execution_count": null,
      "outputs": [
        {
          "output_type": "execute_result",
          "data": {
            "text/html": [
              "<div>\n",
              "<style scoped>\n",
              "    .dataframe tbody tr th:only-of-type {\n",
              "        vertical-align: middle;\n",
              "    }\n",
              "\n",
              "    .dataframe tbody tr th {\n",
              "        vertical-align: top;\n",
              "    }\n",
              "\n",
              "    .dataframe thead th {\n",
              "        text-align: right;\n",
              "    }\n",
              "</style>\n",
              "<table border=\"1\" class=\"dataframe\">\n",
              "  <thead>\n",
              "    <tr style=\"text-align: right;\">\n",
              "      <th></th>\n",
              "      <th>RefId</th>\n",
              "      <th>IsBadBuy</th>\n",
              "      <th>PurchDate</th>\n",
              "      <th>Auction</th>\n",
              "      <th>VehYear</th>\n",
              "      <th>VehicleAge</th>\n",
              "      <th>Make</th>\n",
              "      <th>Model</th>\n",
              "      <th>Trim</th>\n",
              "      <th>SubModel</th>\n",
              "      <th>Color</th>\n",
              "      <th>Transmission</th>\n",
              "      <th>WheelTypeID</th>\n",
              "      <th>WheelType</th>\n",
              "      <th>VehOdo</th>\n",
              "      <th>Nationality</th>\n",
              "      <th>Size</th>\n",
              "      <th>TopThreeAmericanName</th>\n",
              "      <th>MMRAcquisitionAuctionAveragePrice</th>\n",
              "      <th>MMRAcquisitionAuctionCleanPrice</th>\n",
              "      <th>MMRAcquisitionRetailAveragePrice</th>\n",
              "      <th>MMRAcquisitonRetailCleanPrice</th>\n",
              "      <th>MMRCurrentAuctionAveragePrice</th>\n",
              "      <th>MMRCurrentAuctionCleanPrice</th>\n",
              "      <th>MMRCurrentRetailAveragePrice</th>\n",
              "      <th>MMRCurrentRetailCleanPrice</th>\n",
              "      <th>PRIMEUNIT</th>\n",
              "      <th>AUCGUART</th>\n",
              "      <th>BYRNO</th>\n",
              "      <th>VNZIP1</th>\n",
              "      <th>VNST</th>\n",
              "      <th>VehBCost</th>\n",
              "      <th>IsOnlineSale</th>\n",
              "      <th>WarrantyCost</th>\n",
              "    </tr>\n",
              "  </thead>\n",
              "  <tbody>\n",
              "    <tr>\n",
              "      <th>0</th>\n",
              "      <td>1</td>\n",
              "      <td>0</td>\n",
              "      <td>2009-12-07</td>\n",
              "      <td>ADESA</td>\n",
              "      <td>2006</td>\n",
              "      <td>3</td>\n",
              "      <td>MAZDA</td>\n",
              "      <td>MAZDA3</td>\n",
              "      <td>i</td>\n",
              "      <td>4D SEDAN I</td>\n",
              "      <td>RED</td>\n",
              "      <td>AUTO</td>\n",
              "      <td>1.0</td>\n",
              "      <td>Alloy</td>\n",
              "      <td>89046</td>\n",
              "      <td>OTHER ASIAN</td>\n",
              "      <td>MEDIUM</td>\n",
              "      <td>OTHER</td>\n",
              "      <td>8155.0</td>\n",
              "      <td>9829.0</td>\n",
              "      <td>11636.0</td>\n",
              "      <td>13600.0</td>\n",
              "      <td>7451.0</td>\n",
              "      <td>8552.0</td>\n",
              "      <td>11597.0</td>\n",
              "      <td>12409.0</td>\n",
              "      <td>NaN</td>\n",
              "      <td>NaN</td>\n",
              "      <td>21973</td>\n",
              "      <td>33619</td>\n",
              "      <td>FL</td>\n",
              "      <td>7100.0</td>\n",
              "      <td>0</td>\n",
              "      <td>1113</td>\n",
              "    </tr>\n",
              "    <tr>\n",
              "      <th>53024</th>\n",
              "      <td>1</td>\n",
              "      <td>1</td>\n",
              "      <td>NaT</td>\n",
              "      <td>1</td>\n",
              "      <td>1</td>\n",
              "      <td>1</td>\n",
              "      <td>1</td>\n",
              "      <td>1</td>\n",
              "      <td>1</td>\n",
              "      <td>1</td>\n",
              "      <td>1</td>\n",
              "      <td>1</td>\n",
              "      <td>1.0</td>\n",
              "      <td>1</td>\n",
              "      <td>1</td>\n",
              "      <td>1</td>\n",
              "      <td>1</td>\n",
              "      <td>1</td>\n",
              "      <td>1.0</td>\n",
              "      <td>1.0</td>\n",
              "      <td>1.0</td>\n",
              "      <td>1.0</td>\n",
              "      <td>1.0</td>\n",
              "      <td>1.0</td>\n",
              "      <td>1.0</td>\n",
              "      <td>1.0</td>\n",
              "      <td>1</td>\n",
              "      <td>1</td>\n",
              "      <td>1</td>\n",
              "      <td>1</td>\n",
              "      <td>1</td>\n",
              "      <td>1.0</td>\n",
              "      <td>1</td>\n",
              "      <td>1</td>\n",
              "    </tr>\n",
              "    <tr>\n",
              "      <th>60223</th>\n",
              "      <td>1</td>\n",
              "      <td>1</td>\n",
              "      <td>NaT</td>\n",
              "      <td>1</td>\n",
              "      <td>1</td>\n",
              "      <td>1</td>\n",
              "      <td>1</td>\n",
              "      <td>1</td>\n",
              "      <td>1</td>\n",
              "      <td>1</td>\n",
              "      <td>1</td>\n",
              "      <td>1</td>\n",
              "      <td>1.0</td>\n",
              "      <td>1</td>\n",
              "      <td>1</td>\n",
              "      <td>1</td>\n",
              "      <td>1</td>\n",
              "      <td>1</td>\n",
              "      <td>1.0</td>\n",
              "      <td>1.0</td>\n",
              "      <td>1.0</td>\n",
              "      <td>1.0</td>\n",
              "      <td>1.0</td>\n",
              "      <td>1.0</td>\n",
              "      <td>1.0</td>\n",
              "      <td>1.0</td>\n",
              "      <td>1</td>\n",
              "      <td>1</td>\n",
              "      <td>1</td>\n",
              "      <td>1</td>\n",
              "      <td>1</td>\n",
              "      <td>1.0</td>\n",
              "      <td>1</td>\n",
              "      <td>1</td>\n",
              "    </tr>\n",
              "  </tbody>\n",
              "</table>\n",
              "</div>"
            ],
            "text/plain": [
              "       RefId  IsBadBuy  PurchDate  ... VehBCost  IsOnlineSale  WarrantyCost\n",
              "0          1         0 2009-12-07  ...   7100.0             0          1113\n",
              "53024      1         1        NaT  ...      1.0             1             1\n",
              "60223      1         1        NaT  ...      1.0             1             1\n",
              "\n",
              "[3 rows x 34 columns]"
            ]
          },
          "metadata": {},
          "execution_count": 341
        }
      ]
    },
    {
      "cell_type": "markdown",
      "metadata": {
        "id": "drAInLx3mN4t"
      },
      "source": [
        "**Observation**\n",
        "\n",
        "\n",
        "*   We found two spurios rows, we can remove them.\n",
        "\n",
        "\n"
      ]
    },
    {
      "cell_type": "code",
      "metadata": {
        "id": "bG2gHR3pmNNC"
      },
      "source": [
        "train.drop(train.index[[53024, 60223]], inplace=True)"
      ],
      "execution_count": null,
      "outputs": []
    },
    {
      "cell_type": "code",
      "metadata": {
        "colab": {
          "base_uri": "https://localhost:8080/",
          "height": 49
        },
        "id": "6x1ptJLqmwIO",
        "outputId": "3ae07b2d-c9ec-4acd-f81d-6a1a1c292286"
      },
      "source": [
        "train[train['VehicleAge'] != train['PurchDate'].dt.year - train['VehYear']][['RefId', 'PurchDate', 'VehYear', 'VehicleAge', 'IsBadBuy']]"
      ],
      "execution_count": null,
      "outputs": [
        {
          "output_type": "execute_result",
          "data": {
            "text/html": [
              "<div>\n",
              "<style scoped>\n",
              "    .dataframe tbody tr th:only-of-type {\n",
              "        vertical-align: middle;\n",
              "    }\n",
              "\n",
              "    .dataframe tbody tr th {\n",
              "        vertical-align: top;\n",
              "    }\n",
              "\n",
              "    .dataframe thead th {\n",
              "        text-align: right;\n",
              "    }\n",
              "</style>\n",
              "<table border=\"1\" class=\"dataframe\">\n",
              "  <thead>\n",
              "    <tr style=\"text-align: right;\">\n",
              "      <th></th>\n",
              "      <th>RefId</th>\n",
              "      <th>PurchDate</th>\n",
              "      <th>VehYear</th>\n",
              "      <th>VehicleAge</th>\n",
              "      <th>IsBadBuy</th>\n",
              "    </tr>\n",
              "  </thead>\n",
              "  <tbody>\n",
              "  </tbody>\n",
              "</table>\n",
              "</div>"
            ],
            "text/plain": [
              "Empty DataFrame\n",
              "Columns: [RefId, PurchDate, VehYear, VehicleAge, IsBadBuy]\n",
              "Index: []"
            ]
          },
          "metadata": {},
          "execution_count": 344
        }
      ]
    },
    {
      "cell_type": "code",
      "metadata": {
        "colab": {
          "base_uri": "https://localhost:8080/"
        },
        "id": "6hcRzpaUkxRJ",
        "outputId": "3fd7767e-047b-4717-ed2b-30cb0c3af0b9"
      },
      "source": [
        "test['RefId'].unique().shape"
      ],
      "execution_count": null,
      "outputs": [
        {
          "output_type": "execute_result",
          "data": {
            "text/plain": [
              "(48707,)"
            ]
          },
          "metadata": {},
          "execution_count": 65
        }
      ]
    },
    {
      "cell_type": "markdown",
      "metadata": {
        "id": "oqKur24lm2li"
      },
      "source": [
        "<h1>Derived feature 2</h1>\n",
        "\n",
        "\n",
        "*   Let's see whether **month of acquisition** influences target variable.\n",
        "\n"
      ]
    },
    {
      "cell_type": "code",
      "metadata": {
        "id": "MOnDEgQHnVhp"
      },
      "source": [
        "train['PurchDate'] = pd.to_datetime(train['PurchDate'], errors='coerce')\n",
        "train['month'] = train['PurchDate'].dt.month"
      ],
      "execution_count": null,
      "outputs": []
    },
    {
      "cell_type": "code",
      "metadata": {
        "colab": {
          "base_uri": "https://localhost:8080/"
        },
        "id": "qUwTsC_haIZt",
        "outputId": "1ab5fb45-753b-47cc-96d7-773727e0b9cc"
      },
      "source": [
        "train['month'].value_counts()"
      ],
      "execution_count": null,
      "outputs": [
        {
          "output_type": "execute_result",
          "data": {
            "text/plain": [
              "10    7177\n",
              "2     6839\n",
              "11    6675\n",
              "9     6510\n",
              "3     6257\n",
              "8     6139\n",
              "4     5935\n",
              "7     5876\n",
              "5     5760\n",
              "6     5675\n",
              "12    5368\n",
              "1     4770\n",
              "Name: month, dtype: int64"
            ]
          },
          "metadata": {},
          "execution_count": 68
        }
      ]
    },
    {
      "cell_type": "code",
      "metadata": {
        "colab": {
          "base_uri": "https://localhost:8080/",
          "height": 483
        },
        "id": "bhmT-3jmnuvI",
        "outputId": "8621a743-1420-45c8-e9fa-394ae602a0cb"
      },
      "source": [
        "sns.histplot(binwidth=0.7, x='month', hue=\"IsBadBuy\", data=train, stat=\"count\", multiple=\"stack\")\n",
        "plt.savefig(DPATH+'/plots/'+col+'.png')\n",
        "plt.show()\n",
        "\n",
        "for value in train['month'].unique():\n",
        "    df_value = train[train['month'] == value]\n",
        "    length = df_value.shape[0]\n",
        "    bad_buy_perc = df_value[df_value['IsBadBuy']==1].shape[0]/length\n",
        "    print(\"value: \",value,\"bad_buy%: \", bad_buy_perc, \"good_buy%: \", 1-bad_buy_perc)"
      ],
      "execution_count": null,
      "outputs": [
        {
          "output_type": "display_data",
          "data": {
            "image/png": "[encoded data removed]",
            "text/plain": [
              "<Figure size 432x288 with 1 Axes>"
            ]
          },
          "metadata": {
            "needs_background": "light"
          }
        },
        {
          "output_type": "stream",
          "name": "stdout",
          "text": [
            "value:  12 bad_buy%:  0.1339418777943368 good_buy%:  0.8660581222056631\n",
            "value:  1 bad_buy%:  0.13228511530398324 good_buy%:  0.8677148846960168\n",
            "value:  2 bad_buy%:  0.1301359847930984 good_buy%:  0.8698640152069016\n",
            "value:  3 bad_buy%:  0.14447818443343455 good_buy%:  0.8555218155665655\n",
            "value:  4 bad_buy%:  0.12586352148272956 good_buy%:  0.8741364785172705\n",
            "value:  5 bad_buy%:  0.09583333333333334 good_buy%:  0.9041666666666667\n",
            "value:  6 bad_buy%:  0.11101321585903083 good_buy%:  0.8889867841409692\n",
            "value:  9 bad_buy%:  0.13886328725038402 good_buy%:  0.861136712749616\n",
            "value:  10 bad_buy%:  0.10617249547164553 good_buy%:  0.8938275045283545\n",
            "value:  11 bad_buy%:  0.11865168539325843 good_buy%:  0.8813483146067416\n",
            "value:  8 bad_buy%:  0.1304772764293859 good_buy%:  0.8695227235706141\n",
            "value:  7 bad_buy%:  0.10959836623553437 good_buy%:  0.8904016337644656\n"
          ]
        }
      ]
    },
    {
      "cell_type": "markdown",
      "metadata": {
        "id": "vdOoIfctoTSp"
      },
      "source": [
        "**Observation**\n",
        "\n",
        "\n",
        "*   few month's % are >=12, its other other variables, no strong support for Bad buy\n",
        "\n",
        "\n"
      ]
    },
    {
      "cell_type": "markdown",
      "metadata": {
        "id": "6UDX3Uhzoy1B"
      },
      "source": [
        "<h2>Let's observe VehOdo - The vehicles odometer reading Feature</h2>\n",
        "\n",
        "\n",
        "*   It is not clear whether it is from vehicle manufactured year or vehicle purchased year\n",
        "*   In any case, it has to be standardised in terms of no. of years a vehicle had been used.\n",
        "\n",
        "\n"
      ]
    },
    {
      "cell_type": "code",
      "metadata": {
        "colab": {
          "base_uri": "https://localhost:8080/"
        },
        "id": "u5XqnQMSpCkw",
        "outputId": "885f9b70-8be5-431d-9bd2-2b5ef94a648c"
      },
      "source": [
        "train['VehOdo'].min(), train['VehOdo'].max(), train['VehOdo'].mean()\n"
      ],
      "execution_count": null,
      "outputs": [
        {
          "output_type": "execute_result",
          "data": {
            "text/plain": [
              "(4825, 115717, 71499.98912045601)"
            ]
          },
          "metadata": {},
          "execution_count": 349
        }
      ]
    },
    {
      "cell_type": "code",
      "metadata": {
        "id": "j5zOgLofpCnu"
      },
      "source": [
        "train['VehOdo'] = train['VehOdo']/train['VehicleAge']"
      ],
      "execution_count": null,
      "outputs": []
    },
    {
      "cell_type": "code",
      "metadata": {
        "colab": {
          "base_uri": "https://localhost:8080/"
        },
        "id": "2Oo2J5X7pCsr",
        "outputId": "77df115b-79c4-497d-b7c3-a78ce9619d2e"
      },
      "source": [
        "train['VehOdo'].min(), train['VehOdo'].max(), train['VehOdo'].mean()"
      ],
      "execution_count": null,
      "outputs": [
        {
          "output_type": "execute_result",
          "data": {
            "text/plain": [
              "(894.6666666666666, 103373.0, 20454.38637739059)"
            ]
          },
          "metadata": {},
          "execution_count": 351
        }
      ]
    },
    {
      "cell_type": "markdown",
      "metadata": {
        "id": "cccpyABfuRH-"
      },
      "source": [
        "<h1>Derived feature 3</h1>\n",
        "\n",
        "\n",
        "*   **WarrantyCost %**, we can get the % cost of warranty, it might give a represent the auctioner's confidence about the car's quality. \n",
        "\n"
      ]
    },
    {
      "cell_type": "code",
      "metadata": {
        "id": "YIgfmX3mpCvf"
      },
      "source": [
        "train['WC_Perc'] = train['VehBCost']/(train['WarrantyCost']/3)"
      ],
      "execution_count": null,
      "outputs": []
    },
    {
      "cell_type": "code",
      "metadata": {
        "colab": {
          "base_uri": "https://localhost:8080/",
          "height": 369
        },
        "id": "WwqiPwB3pCyV",
        "outputId": "c8e8487c-1910-46c2-8a5d-8ca4ee3da741"
      },
      "source": [
        "sns.FacetGrid(train, hue=\"IsBadBuy\", size=5).map(sns.distplot, 'WC_Perc').add_legend();\n",
        "plt.savefig(DPATH+'/plots/WC_Perc.png')\n",
        "plt.show();"
      ],
      "execution_count": null,
      "outputs": [
        {
          "output_type": "display_data",
          "data": {
            "image/png": "[encoded data removed]",
            "text/plain": [
              "<Figure size 414.625x360 with 1 Axes>"
            ]
          },
          "metadata": {
            "needs_background": "light"
          }
        }
      ]
    },
    {
      "cell_type": "markdown",
      "metadata": {
        "id": "dW9CGEG7znGm"
      },
      "source": [
        "**Observation**\n",
        "\n",
        "*   Equally distributed across target values\n"
      ]
    },
    {
      "cell_type": "code",
      "metadata": {
        "colab": {
          "base_uri": "https://localhost:8080/"
        },
        "id": "u6EtRATHpC1A",
        "outputId": "8083264a-e8c9-4b93-9a09-9d67b760502c"
      },
      "source": [
        "train.info()"
      ],
      "execution_count": null,
      "outputs": [
        {
          "output_type": "stream",
          "name": "stdout",
          "text": [
            "<class 'pandas.core.frame.DataFrame'>\n",
            "Int64Index: 72981 entries, 0 to 72982\n",
            "Data columns (total 37 columns):\n",
            " #   Column                             Non-Null Count  Dtype         \n",
            "---  ------                             --------------  -----         \n",
            " 0   RefId                              72981 non-null  int64         \n",
            " 1   IsBadBuy                           72981 non-null  int64         \n",
            " 2   PurchDate                          72981 non-null  datetime64[ns]\n",
            " 3   Auction                            72981 non-null  object        \n",
            " 4   VehYear                            72981 non-null  int64         \n",
            " 5   VehicleAge                         72981 non-null  int64         \n",
            " 6   Make                               72981 non-null  object        \n",
            " 7   Model                              72981 non-null  object        \n",
            " 8   Trim                               72981 non-null  object        \n",
            " 9   SubModel                           72981 non-null  object        \n",
            " 10  Color                              72981 non-null  object        \n",
            " 11  Transmission                       72981 non-null  object        \n",
            " 12  WheelTypeID                        72981 non-null  float64       \n",
            " 13  WheelType                          72981 non-null  object        \n",
            " 14  VehOdo                             72981 non-null  float64       \n",
            " 15  Nationality                        72981 non-null  object        \n",
            " 16  Size                               72981 non-null  object        \n",
            " 17  TopThreeAmericanName               72981 non-null  object        \n",
            " 18  MMRAcquisitionAuctionAveragePrice  72981 non-null  float64       \n",
            " 19  MMRAcquisitionAuctionCleanPrice    72981 non-null  float64       \n",
            " 20  MMRAcquisitionRetailAveragePrice   72981 non-null  float64       \n",
            " 21  MMRAcquisitonRetailCleanPrice      72981 non-null  float64       \n",
            " 22  MMRCurrentAuctionAveragePrice      72981 non-null  float64       \n",
            " 23  MMRCurrentAuctionCleanPrice        72981 non-null  float64       \n",
            " 24  MMRCurrentRetailAveragePrice       72981 non-null  float64       \n",
            " 25  MMRCurrentRetailCleanPrice         72981 non-null  float64       \n",
            " 26  PRIMEUNIT                          72981 non-null  object        \n",
            " 27  AUCGUART                           72981 non-null  object        \n",
            " 28  BYRNO                              72981 non-null  int64         \n",
            " 29  VNZIP1                             72981 non-null  int64         \n",
            " 30  VNST                               72981 non-null  object        \n",
            " 31  VehBCost                           72981 non-null  float64       \n",
            " 32  IsOnlineSale                       72981 non-null  int64         \n",
            " 33  WarrantyCost                       72981 non-null  int64         \n",
            " 34  quality                            72981 non-null  object        \n",
            " 35  month                              72981 non-null  int64         \n",
            " 36  WC_Perc                            72981 non-null  float64       \n",
            "dtypes: datetime64[ns](1), float64(12), int64(9), object(15)\n",
            "memory usage: 21.2+ MB\n"
          ]
        }
      ]
    },
    {
      "cell_type": "markdown",
      "metadata": {
        "id": "PRCOo97qz77D"
      },
      "source": [
        "*   We can remove RefId, PurchaseDate\n",
        "*   With this data at hand, lets move onto modelling\n",
        "\n"
      ]
    },
    {
      "cell_type": "code",
      "metadata": {
        "id": "EM79kcVW0RL6"
      },
      "source": [
        "train.drop(['RefId', 'PurchDate'], axis=1, inplace=True)"
      ],
      "execution_count": null,
      "outputs": []
    },
    {
      "cell_type": "code",
      "metadata": {
        "colab": {
          "base_uri": "https://localhost:8080/"
        },
        "id": "iUvZ1TuK0RO7",
        "outputId": "db55b82d-5e95-4833-f636-7f5a73bc2209"
      },
      "source": [
        "train.shape"
      ],
      "execution_count": null,
      "outputs": [
        {
          "output_type": "execute_result",
          "data": {
            "text/plain": [
              "(72981, 35)"
            ]
          },
          "metadata": {},
          "execution_count": 73
        }
      ]
    },
    {
      "cell_type": "code",
      "metadata": {
        "id": "OAMU4shP0RRs"
      },
      "source": [
        "train.to_csv(DPATH+'train_preprocess.csv', index=False)"
      ],
      "execution_count": null,
      "outputs": []
    },
    {
      "cell_type": "markdown",
      "metadata": {
        "id": "zFgnKzTlwBoH"
      },
      "source": [
        "<h1>Preparing test data</h1>"
      ]
    },
    {
      "cell_type": "code",
      "metadata": {
        "colab": {
          "base_uri": "https://localhost:8080/",
          "height": 309
        },
        "id": "EB8wit-gwFu4",
        "outputId": "70db504e-7678-4278-b971-d7ed2181576b"
      },
      "source": [
        "test.head()"
      ],
      "execution_count": null,
      "outputs": [
        {
          "output_type": "execute_result",
          "data": {
            "text/html": [
              "<div>\n",
              "<style scoped>\n",
              "    .dataframe tbody tr th:only-of-type {\n",
              "        vertical-align: middle;\n",
              "    }\n",
              "\n",
              "    .dataframe tbody tr th {\n",
              "        vertical-align: top;\n",
              "    }\n",
              "\n",
              "    .dataframe thead th {\n",
              "        text-align: right;\n",
              "    }\n",
              "</style>\n",
              "<table border=\"1\" class=\"dataframe\">\n",
              "  <thead>\n",
              "    <tr style=\"text-align: right;\">\n",
              "      <th></th>\n",
              "      <th>RefId</th>\n",
              "      <th>PurchDate</th>\n",
              "      <th>Auction</th>\n",
              "      <th>VehYear</th>\n",
              "      <th>VehicleAge</th>\n",
              "      <th>Make</th>\n",
              "      <th>Model</th>\n",
              "      <th>Trim</th>\n",
              "      <th>SubModel</th>\n",
              "      <th>Color</th>\n",
              "      <th>Transmission</th>\n",
              "      <th>WheelTypeID</th>\n",
              "      <th>WheelType</th>\n",
              "      <th>VehOdo</th>\n",
              "      <th>Nationality</th>\n",
              "      <th>Size</th>\n",
              "      <th>TopThreeAmericanName</th>\n",
              "      <th>MMRAcquisitionAuctionAveragePrice</th>\n",
              "      <th>MMRAcquisitionAuctionCleanPrice</th>\n",
              "      <th>MMRAcquisitionRetailAveragePrice</th>\n",
              "      <th>MMRAcquisitonRetailCleanPrice</th>\n",
              "      <th>MMRCurrentAuctionAveragePrice</th>\n",
              "      <th>MMRCurrentAuctionCleanPrice</th>\n",
              "      <th>MMRCurrentRetailAveragePrice</th>\n",
              "      <th>MMRCurrentRetailCleanPrice</th>\n",
              "      <th>PRIMEUNIT</th>\n",
              "      <th>AUCGUART</th>\n",
              "      <th>BYRNO</th>\n",
              "      <th>VNZIP1</th>\n",
              "      <th>VNST</th>\n",
              "      <th>VehBCost</th>\n",
              "      <th>IsOnlineSale</th>\n",
              "      <th>WarrantyCost</th>\n",
              "    </tr>\n",
              "  </thead>\n",
              "  <tbody>\n",
              "    <tr>\n",
              "      <th>0</th>\n",
              "      <td>73015</td>\n",
              "      <td>12/2/2009</td>\n",
              "      <td>ADESA</td>\n",
              "      <td>2005</td>\n",
              "      <td>4</td>\n",
              "      <td>PONTIAC</td>\n",
              "      <td>GRAND PRIX</td>\n",
              "      <td>Bas</td>\n",
              "      <td>4D SEDAN</td>\n",
              "      <td>SILVER</td>\n",
              "      <td>AUTO</td>\n",
              "      <td>1.0</td>\n",
              "      <td>Alloy</td>\n",
              "      <td>85377</td>\n",
              "      <td>AMERICAN</td>\n",
              "      <td>LARGE</td>\n",
              "      <td>GM</td>\n",
              "      <td>5032.0</td>\n",
              "      <td>6386.0</td>\n",
              "      <td>5935.0</td>\n",
              "      <td>7397.0</td>\n",
              "      <td>4905.0</td>\n",
              "      <td>6181.0</td>\n",
              "      <td>8557.0</td>\n",
              "      <td>9752.0</td>\n",
              "      <td>NaN</td>\n",
              "      <td>NaN</td>\n",
              "      <td>18881</td>\n",
              "      <td>30212</td>\n",
              "      <td>GA</td>\n",
              "      <td>6500.0</td>\n",
              "      <td>0</td>\n",
              "      <td>2152</td>\n",
              "    </tr>\n",
              "    <tr>\n",
              "      <th>1</th>\n",
              "      <td>73016</td>\n",
              "      <td>12/2/2009</td>\n",
              "      <td>ADESA</td>\n",
              "      <td>2005</td>\n",
              "      <td>4</td>\n",
              "      <td>CHEVROLET</td>\n",
              "      <td>MALIBU V6</td>\n",
              "      <td>LS</td>\n",
              "      <td>4D SEDAN LS</td>\n",
              "      <td>SILVER</td>\n",
              "      <td>AUTO</td>\n",
              "      <td>1.0</td>\n",
              "      <td>Alloy</td>\n",
              "      <td>61873</td>\n",
              "      <td>AMERICAN</td>\n",
              "      <td>MEDIUM</td>\n",
              "      <td>GM</td>\n",
              "      <td>4502.0</td>\n",
              "      <td>5685.0</td>\n",
              "      <td>5362.0</td>\n",
              "      <td>6640.0</td>\n",
              "      <td>4645.0</td>\n",
              "      <td>5710.0</td>\n",
              "      <td>7562.0</td>\n",
              "      <td>9296.0</td>\n",
              "      <td>NaN</td>\n",
              "      <td>NaN</td>\n",
              "      <td>18111</td>\n",
              "      <td>30212</td>\n",
              "      <td>GA</td>\n",
              "      <td>6300.0</td>\n",
              "      <td>0</td>\n",
              "      <td>1118</td>\n",
              "    </tr>\n",
              "    <tr>\n",
              "      <th>2</th>\n",
              "      <td>73017</td>\n",
              "      <td>12/2/2009</td>\n",
              "      <td>ADESA</td>\n",
              "      <td>2006</td>\n",
              "      <td>3</td>\n",
              "      <td>DODGE</td>\n",
              "      <td>DURANGO 2WD V8</td>\n",
              "      <td>Adv</td>\n",
              "      <td>4D SUV 4.7L ADVENTURER</td>\n",
              "      <td>SILVER</td>\n",
              "      <td>AUTO</td>\n",
              "      <td>1.0</td>\n",
              "      <td>Alloy</td>\n",
              "      <td>69283</td>\n",
              "      <td>AMERICAN</td>\n",
              "      <td>MEDIUM SUV</td>\n",
              "      <td>CHRYSLER</td>\n",
              "      <td>10244.0</td>\n",
              "      <td>13041.0</td>\n",
              "      <td>11564.0</td>\n",
              "      <td>14584.0</td>\n",
              "      <td>10883.0</td>\n",
              "      <td>12166.0</td>\n",
              "      <td>15340.0</td>\n",
              "      <td>16512.0</td>\n",
              "      <td>NaN</td>\n",
              "      <td>NaN</td>\n",
              "      <td>18111</td>\n",
              "      <td>30212</td>\n",
              "      <td>GA</td>\n",
              "      <td>9700.0</td>\n",
              "      <td>0</td>\n",
              "      <td>1215</td>\n",
              "    </tr>\n",
              "    <tr>\n",
              "      <th>3</th>\n",
              "      <td>73018</td>\n",
              "      <td>12/2/2009</td>\n",
              "      <td>ADESA</td>\n",
              "      <td>2002</td>\n",
              "      <td>7</td>\n",
              "      <td>SATURN</td>\n",
              "      <td>L SERIES</td>\n",
              "      <td>L20</td>\n",
              "      <td>4D SEDAN L200</td>\n",
              "      <td>GOLD</td>\n",
              "      <td>AUTO</td>\n",
              "      <td>1.0</td>\n",
              "      <td>Alloy</td>\n",
              "      <td>87889</td>\n",
              "      <td>AMERICAN</td>\n",
              "      <td>MEDIUM</td>\n",
              "      <td>GM</td>\n",
              "      <td>2558.0</td>\n",
              "      <td>3542.0</td>\n",
              "      <td>3263.0</td>\n",
              "      <td>4325.0</td>\n",
              "      <td>2928.0</td>\n",
              "      <td>3607.0</td>\n",
              "      <td>5725.0</td>\n",
              "      <td>6398.0</td>\n",
              "      <td>NaN</td>\n",
              "      <td>NaN</td>\n",
              "      <td>18881</td>\n",
              "      <td>30212</td>\n",
              "      <td>GA</td>\n",
              "      <td>4150.0</td>\n",
              "      <td>0</td>\n",
              "      <td>1933</td>\n",
              "    </tr>\n",
              "    <tr>\n",
              "      <th>4</th>\n",
              "      <td>73019</td>\n",
              "      <td>12/2/2009</td>\n",
              "      <td>ADESA</td>\n",
              "      <td>2007</td>\n",
              "      <td>2</td>\n",
              "      <td>HYUNDAI</td>\n",
              "      <td>ACCENT</td>\n",
              "      <td>GS</td>\n",
              "      <td>2D COUPE GS</td>\n",
              "      <td>BLUE</td>\n",
              "      <td>AUTO</td>\n",
              "      <td>NaN</td>\n",
              "      <td>NaN</td>\n",
              "      <td>73432</td>\n",
              "      <td>OTHER ASIAN</td>\n",
              "      <td>COMPACT</td>\n",
              "      <td>OTHER</td>\n",
              "      <td>5013.0</td>\n",
              "      <td>6343.0</td>\n",
              "      <td>5914.0</td>\n",
              "      <td>7350.0</td>\n",
              "      <td>5013.0</td>\n",
              "      <td>6343.0</td>\n",
              "      <td>5914.0</td>\n",
              "      <td>7350.0</td>\n",
              "      <td>NaN</td>\n",
              "      <td>NaN</td>\n",
              "      <td>18111</td>\n",
              "      <td>30212</td>\n",
              "      <td>GA</td>\n",
              "      <td>4100.0</td>\n",
              "      <td>0</td>\n",
              "      <td>920</td>\n",
              "    </tr>\n",
              "  </tbody>\n",
              "</table>\n",
              "</div>"
            ],
            "text/plain": [
              "   RefId  PurchDate Auction  VehYear  ...  VNST VehBCost IsOnlineSale WarrantyCost\n",
              "0  73015  12/2/2009   ADESA     2005  ...    GA   6500.0            0         2152\n",
              "1  73016  12/2/2009   ADESA     2005  ...    GA   6300.0            0         1118\n",
              "2  73017  12/2/2009   ADESA     2006  ...    GA   9700.0            0         1215\n",
              "3  73018  12/2/2009   ADESA     2002  ...    GA   4150.0            0         1933\n",
              "4  73019  12/2/2009   ADESA     2007  ...    GA   4100.0            0          920\n",
              "\n",
              "[5 rows x 33 columns]"
            ]
          },
          "metadata": {},
          "execution_count": 75
        }
      ]
    },
    {
      "cell_type": "code",
      "metadata": {
        "id": "3pR7mY7qwFyI"
      },
      "source": [
        "#Replaces null values with mean, mode \n",
        "test = data_cleaning(test)"
      ],
      "execution_count": null,
      "outputs": []
    },
    {
      "cell_type": "code",
      "metadata": {
        "colab": {
          "base_uri": "https://localhost:8080/"
        },
        "id": "pqYnolJgw-yR",
        "outputId": "e39b5e39-9350-4938-b4d4-0c5f50671fff"
      },
      "source": [
        "test.isna().sum()"
      ],
      "execution_count": null,
      "outputs": [
        {
          "output_type": "execute_result",
          "data": {
            "text/plain": [
              "RefId                                0\n",
              "PurchDate                            0\n",
              "Auction                              0\n",
              "VehYear                              0\n",
              "VehicleAge                           0\n",
              "Make                                 0\n",
              "Model                                0\n",
              "Trim                                 0\n",
              "SubModel                             0\n",
              "Color                                0\n",
              "Transmission                         0\n",
              "WheelTypeID                          0\n",
              "WheelType                            0\n",
              "VehOdo                               0\n",
              "Nationality                          0\n",
              "Size                                 0\n",
              "TopThreeAmericanName                 0\n",
              "MMRAcquisitionAuctionAveragePrice    0\n",
              "MMRAcquisitionAuctionCleanPrice      0\n",
              "MMRAcquisitionRetailAveragePrice     0\n",
              "MMRAcquisitonRetailCleanPrice        0\n",
              "MMRCurrentAuctionAveragePrice        0\n",
              "MMRCurrentAuctionCleanPrice          0\n",
              "MMRCurrentRetailAveragePrice         0\n",
              "MMRCurrentRetailCleanPrice           0\n",
              "PRIMEUNIT                            0\n",
              "AUCGUART                             0\n",
              "BYRNO                                0\n",
              "VNZIP1                               0\n",
              "VNST                                 0\n",
              "VehBCost                             0\n",
              "IsOnlineSale                         0\n",
              "WarrantyCost                         0\n",
              "dtype: int64"
            ]
          },
          "metadata": {},
          "execution_count": 78
        }
      ]
    },
    {
      "cell_type": "code",
      "metadata": {
        "colab": {
          "base_uri": "https://localhost:8080/"
        },
        "id": "BwNk-EhB__0_",
        "outputId": "a200bd38-3587-4e30-c50a-0704f4778987"
      },
      "source": [
        "import numpy as np\n",
        "np.isinf(test['VehOdo']).values.sum()"
      ],
      "execution_count": null,
      "outputs": [
        {
          "output_type": "execute_result",
          "data": {
            "text/plain": [
              "0"
            ]
          },
          "metadata": {},
          "execution_count": 107
        }
      ]
    },
    {
      "cell_type": "code",
      "metadata": {
        "id": "QQMk3KhTwF1Y"
      },
      "source": [
        "test.loc[test.Transmission == 'Manual', 'Transmission'] = 'MANUAL'"
      ],
      "execution_count": null,
      "outputs": []
    },
    {
      "cell_type": "code",
      "metadata": {
        "colab": {
          "base_uri": "https://localhost:8080/"
        },
        "id": "S4EVbunuxGUJ",
        "outputId": "6c936276-d2af-47c1-83b0-593aebb198a1"
      },
      "source": [
        "test['Transmission'].value_counts()"
      ],
      "execution_count": null,
      "outputs": [
        {
          "output_type": "execute_result",
          "data": {
            "text/plain": [
              "AUTO      47013\n",
              "MANUAL     1694\n",
              "Name: Transmission, dtype: int64"
            ]
          },
          "metadata": {},
          "execution_count": 81
        }
      ]
    },
    {
      "cell_type": "code",
      "metadata": {
        "colab": {
          "base_uri": "https://localhost:8080/"
        },
        "id": "i95MvxzrwF4X",
        "outputId": "b6f49fcf-c004-487d-d44e-44c577389e6e"
      },
      "source": [
        "print(train[train.MMRAcquisitionAuctionAveragePrice <= 0.0].shape)\n",
        "print(train[train.MMRAcquisitionAuctionAveragePrice <= 1.0].shape)"
      ],
      "execution_count": null,
      "outputs": [
        {
          "output_type": "stream",
          "name": "stdout",
          "text": [
            "(0, 35)\n",
            "(0, 35)\n"
          ]
        }
      ]
    },
    {
      "cell_type": "code",
      "metadata": {
        "id": "F1xd_-FmxtVE"
      },
      "source": [
        "test = data_cleaning_price(test)"
      ],
      "execution_count": null,
      "outputs": []
    },
    {
      "cell_type": "code",
      "metadata": {
        "id": "k9j48Hfkx9-F"
      },
      "source": [
        "test['quality'] = test.apply (lambda row: quality(row), axis=1)"
      ],
      "execution_count": null,
      "outputs": []
    },
    {
      "cell_type": "code",
      "metadata": {
        "colab": {
          "base_uri": "https://localhost:8080/"
        },
        "id": "3Eff5CHwx-BV",
        "outputId": "4e67d79f-2367-4ba2-aa1c-2c095d745a09"
      },
      "source": [
        "test['PurchDate'] = pd.to_datetime(test['PurchDate'])\n",
        "(test['VehicleAge'] == test['PurchDate'].dt.year - test['VehYear']).value_counts()"
      ],
      "execution_count": null,
      "outputs": [
        {
          "output_type": "execute_result",
          "data": {
            "text/plain": [
              "True     48704\n",
              "False        3\n",
              "dtype: int64"
            ]
          },
          "metadata": {},
          "execution_count": 85
        }
      ]
    },
    {
      "cell_type": "code",
      "metadata": {
        "colab": {
          "base_uri": "https://localhost:8080/",
          "height": 142
        },
        "id": "HBrIe10Ly3aq",
        "outputId": "3ac5f484-60a4-4181-b2a9-796a12be4e77"
      },
      "source": [
        "test[test['VehicleAge'] != test['PurchDate'].dt.year - test['VehYear']][['RefId', 'PurchDate', 'VehYear', 'VehicleAge']]"
      ],
      "execution_count": null,
      "outputs": [
        {
          "output_type": "execute_result",
          "data": {
            "text/html": [
              "<div>\n",
              "<style scoped>\n",
              "    .dataframe tbody tr th:only-of-type {\n",
              "        vertical-align: middle;\n",
              "    }\n",
              "\n",
              "    .dataframe tbody tr th {\n",
              "        vertical-align: top;\n",
              "    }\n",
              "\n",
              "    .dataframe thead th {\n",
              "        text-align: right;\n",
              "    }\n",
              "</style>\n",
              "<table border=\"1\" class=\"dataframe\">\n",
              "  <thead>\n",
              "    <tr style=\"text-align: right;\">\n",
              "      <th></th>\n",
              "      <th>RefId</th>\n",
              "      <th>PurchDate</th>\n",
              "      <th>VehYear</th>\n",
              "      <th>VehicleAge</th>\n",
              "    </tr>\n",
              "  </thead>\n",
              "  <tbody>\n",
              "    <tr>\n",
              "      <th>11078</th>\n",
              "      <td>84097</td>\n",
              "      <td>2009-08-13</td>\n",
              "      <td>2006</td>\n",
              "      <td>4</td>\n",
              "    </tr>\n",
              "    <tr>\n",
              "      <th>26421</th>\n",
              "      <td>99448</td>\n",
              "      <td>2009-12-08</td>\n",
              "      <td>2005</td>\n",
              "      <td>5</td>\n",
              "    </tr>\n",
              "    <tr>\n",
              "      <th>36139</th>\n",
              "      <td>109170</td>\n",
              "      <td>2009-10-14</td>\n",
              "      <td>2004</td>\n",
              "      <td>6</td>\n",
              "    </tr>\n",
              "  </tbody>\n",
              "</table>\n",
              "</div>"
            ],
            "text/plain": [
              "        RefId  PurchDate  VehYear  VehicleAge\n",
              "11078   84097 2009-08-13     2006           4\n",
              "26421   99448 2009-12-08     2005           5\n",
              "36139  109170 2009-10-14     2004           6"
            ]
          },
          "metadata": {},
          "execution_count": 87
        }
      ]
    },
    {
      "cell_type": "code",
      "metadata": {
        "id": "gwHbdHyJzLUI"
      },
      "source": [
        "test['VehicleAge'] = test['PurchDate'].dt.year - test['VehYear']"
      ],
      "execution_count": null,
      "outputs": []
    },
    {
      "cell_type": "code",
      "metadata": {
        "colab": {
          "base_uri": "https://localhost:8080/"
        },
        "id": "CjjSuo5ex-HT",
        "outputId": "5bf04669-94fd-44ce-d834-08c4caf2313e"
      },
      "source": [
        "test['VehicleAge'].value_counts()"
      ],
      "execution_count": null,
      "outputs": [
        {
          "output_type": "execute_result",
          "data": {
            "text/plain": [
              "4    11335\n",
              "3    10728\n",
              "5     8633\n",
              "2     5909\n",
              "6     5296\n",
              "7     3248\n",
              "8     1601\n",
              "1     1504\n",
              "9      445\n",
              "0        8\n",
              "Name: VehicleAge, dtype: int64"
            ]
          },
          "metadata": {},
          "execution_count": 97
        }
      ]
    },
    {
      "cell_type": "code",
      "metadata": {
        "id": "O65nKexw-iMT"
      },
      "source": [
        "test[test.VehicleAge == 0] = 1"
      ],
      "execution_count": null,
      "outputs": []
    },
    {
      "cell_type": "code",
      "metadata": {
        "colab": {
          "base_uri": "https://localhost:8080/"
        },
        "id": "b3-8cb8X_DT8",
        "outputId": "bd1dd098-527e-4d32-b1c1-6681d2e6d5f5"
      },
      "source": [
        "test['VehicleAge'].value_counts()"
      ],
      "execution_count": null,
      "outputs": [
        {
          "output_type": "execute_result",
          "data": {
            "text/plain": [
              "4    11335\n",
              "3    10728\n",
              "5     8633\n",
              "2     5909\n",
              "6     5296\n",
              "7     3248\n",
              "8     1601\n",
              "1     1512\n",
              "9      445\n",
              "Name: VehicleAge, dtype: int64"
            ]
          },
          "metadata": {},
          "execution_count": 103
        }
      ]
    },
    {
      "cell_type": "code",
      "metadata": {
        "id": "4zUEQVvox-Kj"
      },
      "source": [
        "test['month'] = test['PurchDate'].dt.month"
      ],
      "execution_count": null,
      "outputs": []
    },
    {
      "cell_type": "code",
      "metadata": {
        "id": "-QOfyd8Zzllm"
      },
      "source": [
        "test['VehOdo'] = test['VehOdo']/test['VehicleAge']"
      ],
      "execution_count": null,
      "outputs": []
    },
    {
      "cell_type": "code",
      "metadata": {
        "id": "_3vztWEpzlo8"
      },
      "source": [
        "test['WC_Perc'] = test['VehBCost']/(test['WarrantyCost']/3)"
      ],
      "execution_count": null,
      "outputs": []
    },
    {
      "cell_type": "code",
      "metadata": {
        "colab": {
          "base_uri": "https://localhost:8080/",
          "height": 309
        },
        "id": "SHGU0rz2zlsL",
        "outputId": "659aedf7-0acc-422b-b0e0-6184dcd8c949"
      },
      "source": [
        "test.head()"
      ],
      "execution_count": null,
      "outputs": [
        {
          "output_type": "execute_result",
          "data": {
            "text/html": [
              "<div>\n",
              "<style scoped>\n",
              "    .dataframe tbody tr th:only-of-type {\n",
              "        vertical-align: middle;\n",
              "    }\n",
              "\n",
              "    .dataframe tbody tr th {\n",
              "        vertical-align: top;\n",
              "    }\n",
              "\n",
              "    .dataframe thead th {\n",
              "        text-align: right;\n",
              "    }\n",
              "</style>\n",
              "<table border=\"1\" class=\"dataframe\">\n",
              "  <thead>\n",
              "    <tr style=\"text-align: right;\">\n",
              "      <th></th>\n",
              "      <th>RefId</th>\n",
              "      <th>PurchDate</th>\n",
              "      <th>Auction</th>\n",
              "      <th>VehYear</th>\n",
              "      <th>VehicleAge</th>\n",
              "      <th>Make</th>\n",
              "      <th>Model</th>\n",
              "      <th>Trim</th>\n",
              "      <th>SubModel</th>\n",
              "      <th>Color</th>\n",
              "      <th>Transmission</th>\n",
              "      <th>WheelTypeID</th>\n",
              "      <th>WheelType</th>\n",
              "      <th>VehOdo</th>\n",
              "      <th>Nationality</th>\n",
              "      <th>Size</th>\n",
              "      <th>TopThreeAmericanName</th>\n",
              "      <th>MMRAcquisitionAuctionAveragePrice</th>\n",
              "      <th>MMRAcquisitionAuctionCleanPrice</th>\n",
              "      <th>MMRAcquisitionRetailAveragePrice</th>\n",
              "      <th>MMRAcquisitonRetailCleanPrice</th>\n",
              "      <th>MMRCurrentAuctionAveragePrice</th>\n",
              "      <th>MMRCurrentAuctionCleanPrice</th>\n",
              "      <th>MMRCurrentRetailAveragePrice</th>\n",
              "      <th>MMRCurrentRetailCleanPrice</th>\n",
              "      <th>PRIMEUNIT</th>\n",
              "      <th>AUCGUART</th>\n",
              "      <th>BYRNO</th>\n",
              "      <th>VNZIP1</th>\n",
              "      <th>VNST</th>\n",
              "      <th>VehBCost</th>\n",
              "      <th>IsOnlineSale</th>\n",
              "      <th>WarrantyCost</th>\n",
              "      <th>quality</th>\n",
              "      <th>month</th>\n",
              "      <th>WC_Perc</th>\n",
              "    </tr>\n",
              "  </thead>\n",
              "  <tbody>\n",
              "    <tr>\n",
              "      <th>0</th>\n",
              "      <td>73015</td>\n",
              "      <td>2009-12-02</td>\n",
              "      <td>ADESA</td>\n",
              "      <td>2005</td>\n",
              "      <td>4</td>\n",
              "      <td>PONTIAC</td>\n",
              "      <td>GRAND PRIX</td>\n",
              "      <td>Bas</td>\n",
              "      <td>4D SEDAN</td>\n",
              "      <td>SILVER</td>\n",
              "      <td>AUTO</td>\n",
              "      <td>1.0</td>\n",
              "      <td>Alloy</td>\n",
              "      <td>21344.250000</td>\n",
              "      <td>AMERICAN</td>\n",
              "      <td>LARGE</td>\n",
              "      <td>GM</td>\n",
              "      <td>5032.0</td>\n",
              "      <td>6386.0</td>\n",
              "      <td>5935.0</td>\n",
              "      <td>7397.0</td>\n",
              "      <td>4905.0</td>\n",
              "      <td>6181.0</td>\n",
              "      <td>8557.0</td>\n",
              "      <td>9752.0</td>\n",
              "      <td>NO</td>\n",
              "      <td>Other</td>\n",
              "      <td>18881</td>\n",
              "      <td>30212</td>\n",
              "      <td>GA</td>\n",
              "      <td>6500.0</td>\n",
              "      <td>0</td>\n",
              "      <td>2152</td>\n",
              "      <td>Above Avg</td>\n",
              "      <td>12</td>\n",
              "      <td>9.061338</td>\n",
              "    </tr>\n",
              "    <tr>\n",
              "      <th>1</th>\n",
              "      <td>73016</td>\n",
              "      <td>2009-12-02</td>\n",
              "      <td>ADESA</td>\n",
              "      <td>2005</td>\n",
              "      <td>4</td>\n",
              "      <td>CHEVROLET</td>\n",
              "      <td>MALIBU V6</td>\n",
              "      <td>LS</td>\n",
              "      <td>4D SEDAN LS</td>\n",
              "      <td>SILVER</td>\n",
              "      <td>AUTO</td>\n",
              "      <td>1.0</td>\n",
              "      <td>Alloy</td>\n",
              "      <td>15468.250000</td>\n",
              "      <td>AMERICAN</td>\n",
              "      <td>MEDIUM</td>\n",
              "      <td>GM</td>\n",
              "      <td>4502.0</td>\n",
              "      <td>5685.0</td>\n",
              "      <td>5362.0</td>\n",
              "      <td>6640.0</td>\n",
              "      <td>4645.0</td>\n",
              "      <td>5710.0</td>\n",
              "      <td>7562.0</td>\n",
              "      <td>9296.0</td>\n",
              "      <td>NO</td>\n",
              "      <td>Other</td>\n",
              "      <td>18111</td>\n",
              "      <td>30212</td>\n",
              "      <td>GA</td>\n",
              "      <td>6300.0</td>\n",
              "      <td>0</td>\n",
              "      <td>1118</td>\n",
              "      <td>Above Avg</td>\n",
              "      <td>12</td>\n",
              "      <td>16.905188</td>\n",
              "    </tr>\n",
              "    <tr>\n",
              "      <th>2</th>\n",
              "      <td>73017</td>\n",
              "      <td>2009-12-02</td>\n",
              "      <td>ADESA</td>\n",
              "      <td>2006</td>\n",
              "      <td>3</td>\n",
              "      <td>DODGE</td>\n",
              "      <td>DURANGO 2WD V8</td>\n",
              "      <td>Adv</td>\n",
              "      <td>4D SUV 4.7L ADVENTURER</td>\n",
              "      <td>SILVER</td>\n",
              "      <td>AUTO</td>\n",
              "      <td>1.0</td>\n",
              "      <td>Alloy</td>\n",
              "      <td>23094.333333</td>\n",
              "      <td>AMERICAN</td>\n",
              "      <td>MEDIUM SUV</td>\n",
              "      <td>CHRYSLER</td>\n",
              "      <td>10244.0</td>\n",
              "      <td>13041.0</td>\n",
              "      <td>11564.0</td>\n",
              "      <td>14584.0</td>\n",
              "      <td>10883.0</td>\n",
              "      <td>12166.0</td>\n",
              "      <td>15340.0</td>\n",
              "      <td>16512.0</td>\n",
              "      <td>NO</td>\n",
              "      <td>Other</td>\n",
              "      <td>18111</td>\n",
              "      <td>30212</td>\n",
              "      <td>GA</td>\n",
              "      <td>9700.0</td>\n",
              "      <td>0</td>\n",
              "      <td>1215</td>\n",
              "      <td>Below Avg</td>\n",
              "      <td>12</td>\n",
              "      <td>23.950617</td>\n",
              "    </tr>\n",
              "    <tr>\n",
              "      <th>3</th>\n",
              "      <td>73018</td>\n",
              "      <td>2009-12-02</td>\n",
              "      <td>ADESA</td>\n",
              "      <td>2002</td>\n",
              "      <td>7</td>\n",
              "      <td>SATURN</td>\n",
              "      <td>L SERIES</td>\n",
              "      <td>L20</td>\n",
              "      <td>4D SEDAN L200</td>\n",
              "      <td>GOLD</td>\n",
              "      <td>AUTO</td>\n",
              "      <td>1.0</td>\n",
              "      <td>Alloy</td>\n",
              "      <td>12555.571429</td>\n",
              "      <td>AMERICAN</td>\n",
              "      <td>MEDIUM</td>\n",
              "      <td>GM</td>\n",
              "      <td>2558.0</td>\n",
              "      <td>3542.0</td>\n",
              "      <td>3263.0</td>\n",
              "      <td>4325.0</td>\n",
              "      <td>2928.0</td>\n",
              "      <td>3607.0</td>\n",
              "      <td>5725.0</td>\n",
              "      <td>6398.0</td>\n",
              "      <td>NO</td>\n",
              "      <td>Other</td>\n",
              "      <td>18881</td>\n",
              "      <td>30212</td>\n",
              "      <td>GA</td>\n",
              "      <td>4150.0</td>\n",
              "      <td>0</td>\n",
              "      <td>1933</td>\n",
              "      <td>Above Avg</td>\n",
              "      <td>12</td>\n",
              "      <td>6.440766</td>\n",
              "    </tr>\n",
              "    <tr>\n",
              "      <th>4</th>\n",
              "      <td>73019</td>\n",
              "      <td>2009-12-02</td>\n",
              "      <td>ADESA</td>\n",
              "      <td>2007</td>\n",
              "      <td>2</td>\n",
              "      <td>HYUNDAI</td>\n",
              "      <td>ACCENT</td>\n",
              "      <td>GS</td>\n",
              "      <td>2D COUPE GS</td>\n",
              "      <td>BLUE</td>\n",
              "      <td>AUTO</td>\n",
              "      <td>1.0</td>\n",
              "      <td>Alloy</td>\n",
              "      <td>36716.000000</td>\n",
              "      <td>OTHER ASIAN</td>\n",
              "      <td>COMPACT</td>\n",
              "      <td>OTHER</td>\n",
              "      <td>5013.0</td>\n",
              "      <td>6343.0</td>\n",
              "      <td>5914.0</td>\n",
              "      <td>7350.0</td>\n",
              "      <td>5013.0</td>\n",
              "      <td>6343.0</td>\n",
              "      <td>5914.0</td>\n",
              "      <td>7350.0</td>\n",
              "      <td>NO</td>\n",
              "      <td>Other</td>\n",
              "      <td>18111</td>\n",
              "      <td>30212</td>\n",
              "      <td>GA</td>\n",
              "      <td>4100.0</td>\n",
              "      <td>0</td>\n",
              "      <td>920</td>\n",
              "      <td>Below Avg</td>\n",
              "      <td>12</td>\n",
              "      <td>13.369565</td>\n",
              "    </tr>\n",
              "  </tbody>\n",
              "</table>\n",
              "</div>"
            ],
            "text/plain": [
              "   RefId  PurchDate Auction  VehYear  ...  WarrantyCost    quality month    WC_Perc\n",
              "0  73015 2009-12-02   ADESA     2005  ...          2152  Above Avg    12   9.061338\n",
              "1  73016 2009-12-02   ADESA     2005  ...          1118  Above Avg    12  16.905188\n",
              "2  73017 2009-12-02   ADESA     2006  ...          1215  Below Avg    12  23.950617\n",
              "3  73018 2009-12-02   ADESA     2002  ...          1933  Above Avg    12   6.440766\n",
              "4  73019 2009-12-02   ADESA     2007  ...           920  Below Avg    12  13.369565\n",
              "\n",
              "[5 rows x 36 columns]"
            ]
          },
          "metadata": {},
          "execution_count": 94
        }
      ]
    },
    {
      "cell_type": "code",
      "metadata": {
        "id": "p3z6AMICzlvM"
      },
      "source": [
        "test.drop(['PurchDate'], axis=1, inplace=True)"
      ],
      "execution_count": null,
      "outputs": []
    },
    {
      "cell_type": "code",
      "metadata": {
        "id": "ERfcS7wlzlyO"
      },
      "source": [
        "test.to_csv(DPATH+'test_preprocess.csv', index=False)"
      ],
      "execution_count": null,
      "outputs": []
    },
    {
      "cell_type": "markdown",
      "metadata": {
        "id": "pBfYKk9I0K4_"
      },
      "source": [
        "<h2>All these steps are written into cleaning, preprocess files</h2>"
      ]
    },
    {
      "cell_type": "code",
      "metadata": {
        "id": "hCpYt2zNx-Nc"
      },
      "source": [
        ""
      ],
      "execution_count": null,
      "outputs": []
    },
    {
      "cell_type": "markdown",
      "metadata": {
        "id": "-3GXPyCi6QmX"
      },
      "source": [
        "<h1>Data anamolies</h1>"
      ]
    },
    {
      "cell_type": "markdown",
      "metadata": {
        "id": "QE7Hi-JP6Q3G"
      },
      "source": [
        "There were many anamolies found\n",
        "\n",
        "*   nan values for few features\n",
        "*   Two representations for same value \"Manual\", \"MANUAL\"\n",
        "*   0/1 values for price columns\n",
        "*   Wrong date value for date column \n",
        "*   multiple rows with RefId=1\n"
      ]
    },
    {
      "cell_type": "code",
      "metadata": {
        "id": "KOeo551s9t1G"
      },
      "source": [
        ""
      ],
      "execution_count": null,
      "outputs": []
    }
  ]
}